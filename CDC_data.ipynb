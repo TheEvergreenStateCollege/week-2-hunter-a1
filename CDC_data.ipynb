{
  "cells": [
    {
      "cell_type": "markdown",
      "metadata": {
        "id": "view-in-github",
        "colab_type": "text"
      },
      "source": [
        "<a href=\"https://colab.research.google.com/github/TheEvergreenStateCollege/week-2-hunter-a1/blob/main/CDC_data.ipynb\" target=\"_parent\"><img src=\"https://colab.research.google.com/assets/colab-badge.svg\" alt=\"Open In Colab\"/></a>"
      ]
    },
    {
      "cell_type": "code",
      "execution_count": 1,
      "metadata": {
        "id": "y7gfUvFd2bB2"
      },
      "outputs": [],
      "source": [
        "import pandas as pd\n",
        "import numpy as np\n",
        "import seaborn as sns\n",
        "import matplotlib.pyplot as plt"
      ]
    },
    {
      "cell_type": "code",
      "execution_count": 3,
      "metadata": {
        "id": "i7SMux8b2bB9"
      },
      "outputs": [],
      "source": [
        "data = pd.read_csv('Rates_of_COVID-19_Cases_or_Deaths_by_Age_Group_and_Vaccination_Status_and_Booster_Dose.csv')"
      ]
    },
    {
      "cell_type": "code",
      "execution_count": 4,
      "metadata": {
        "colab": {
          "base_uri": "https://localhost:8080/",
          "height": 386
        },
        "id": "HYtFBYFc2bB-",
        "outputId": "1cba9669-a966-4297-d875-abfd492c778f"
      },
      "outputs": [
        {
          "output_type": "execute_result",
          "data": {
            "text/plain": [
              "  outcome     month  mmwr_week age_group vaccine_product  \\\n",
              "0    case  SEP 2021     202138     18-49       all_types   \n",
              "1    case  SEP 2021     202138     50-64       all_types   \n",
              "2    case  SEP 2021     202138       65+       all_types   \n",
              "3    case  SEP 2021     202138  all_ages       all_types   \n",
              "4    case  SEP 2021     202138  all_ages         Janssen   \n",
              "\n",
              "   boosted_with_outcome  boosted_population  primary_series_only_with_outcome  \\\n",
              "0                   111              285893                             41070   \n",
              "1                   123              366835                             21505   \n",
              "2                   220              842552                             20403   \n",
              "3                   454             1495280                             82978   \n",
              "4                    11               25805                              8066   \n",
              "\n",
              "   primary_series_only_population  unvaccinated_with_outcome  ...  \\\n",
              "0                        45089570                     137013  ...   \n",
              "1                        25722971                      37092  ...   \n",
              "2                        24729783                      19615  ...   \n",
              "3                        95542324                     193720  ...   \n",
              "4                         8186230                     193720  ...   \n",
              "\n",
              "   crude_primary_series_only_ir  crude_unvax_ir  crude_booster_irr  crude_irr  \\\n",
              "0                     91.085366      462.303877          11.907157   5.075501   \n",
              "1                     83.602318      451.806624          13.474673   5.404236   \n",
              "2                     82.503757      473.343372          18.128018   5.737234   \n",
              "3                     86.849468      461.340983          15.194580   5.311961   \n",
              "4                     98.531314      461.340983          10.822640   4.682176   \n",
              "\n",
              "   age_adj_booster_ir  age_adj_vax_ir  age_adj_unvax_ir  age_adj_booster_irr  \\\n",
              "0                 NaN             NaN               NaN                  NaN   \n",
              "1                 NaN             NaN               NaN                  NaN   \n",
              "2                 NaN             NaN               NaN                  NaN   \n",
              "3           35.590910       88.112335        462.062705            12.982605   \n",
              "4           47.514988       97.719144        462.062705             9.724567   \n",
              "\n",
              "   age_adj_irr  continuity_correction  \n",
              "0          NaN                      0  \n",
              "1          NaN                      0  \n",
              "2          NaN                      1  \n",
              "3     5.244018                      1  \n",
              "4     4.728477                      1  \n",
              "\n",
              "[5 rows x 22 columns]"
            ],
            "text/html": [
              "\n",
              "  <div id=\"df-c1d6dbb5-28a0-4b3d-be52-64c06f027fc3\">\n",
              "    <div class=\"colab-df-container\">\n",
              "      <div>\n",
              "<style scoped>\n",
              "    .dataframe tbody tr th:only-of-type {\n",
              "        vertical-align: middle;\n",
              "    }\n",
              "\n",
              "    .dataframe tbody tr th {\n",
              "        vertical-align: top;\n",
              "    }\n",
              "\n",
              "    .dataframe thead th {\n",
              "        text-align: right;\n",
              "    }\n",
              "</style>\n",
              "<table border=\"1\" class=\"dataframe\">\n",
              "  <thead>\n",
              "    <tr style=\"text-align: right;\">\n",
              "      <th></th>\n",
              "      <th>outcome</th>\n",
              "      <th>month</th>\n",
              "      <th>mmwr_week</th>\n",
              "      <th>age_group</th>\n",
              "      <th>vaccine_product</th>\n",
              "      <th>boosted_with_outcome</th>\n",
              "      <th>boosted_population</th>\n",
              "      <th>primary_series_only_with_outcome</th>\n",
              "      <th>primary_series_only_population</th>\n",
              "      <th>unvaccinated_with_outcome</th>\n",
              "      <th>...</th>\n",
              "      <th>crude_primary_series_only_ir</th>\n",
              "      <th>crude_unvax_ir</th>\n",
              "      <th>crude_booster_irr</th>\n",
              "      <th>crude_irr</th>\n",
              "      <th>age_adj_booster_ir</th>\n",
              "      <th>age_adj_vax_ir</th>\n",
              "      <th>age_adj_unvax_ir</th>\n",
              "      <th>age_adj_booster_irr</th>\n",
              "      <th>age_adj_irr</th>\n",
              "      <th>continuity_correction</th>\n",
              "    </tr>\n",
              "  </thead>\n",
              "  <tbody>\n",
              "    <tr>\n",
              "      <th>0</th>\n",
              "      <td>case</td>\n",
              "      <td>SEP 2021</td>\n",
              "      <td>202138</td>\n",
              "      <td>18-49</td>\n",
              "      <td>all_types</td>\n",
              "      <td>111</td>\n",
              "      <td>285893</td>\n",
              "      <td>41070</td>\n",
              "      <td>45089570</td>\n",
              "      <td>137013</td>\n",
              "      <td>...</td>\n",
              "      <td>91.085366</td>\n",
              "      <td>462.303877</td>\n",
              "      <td>11.907157</td>\n",
              "      <td>5.075501</td>\n",
              "      <td>NaN</td>\n",
              "      <td>NaN</td>\n",
              "      <td>NaN</td>\n",
              "      <td>NaN</td>\n",
              "      <td>NaN</td>\n",
              "      <td>0</td>\n",
              "    </tr>\n",
              "    <tr>\n",
              "      <th>1</th>\n",
              "      <td>case</td>\n",
              "      <td>SEP 2021</td>\n",
              "      <td>202138</td>\n",
              "      <td>50-64</td>\n",
              "      <td>all_types</td>\n",
              "      <td>123</td>\n",
              "      <td>366835</td>\n",
              "      <td>21505</td>\n",
              "      <td>25722971</td>\n",
              "      <td>37092</td>\n",
              "      <td>...</td>\n",
              "      <td>83.602318</td>\n",
              "      <td>451.806624</td>\n",
              "      <td>13.474673</td>\n",
              "      <td>5.404236</td>\n",
              "      <td>NaN</td>\n",
              "      <td>NaN</td>\n",
              "      <td>NaN</td>\n",
              "      <td>NaN</td>\n",
              "      <td>NaN</td>\n",
              "      <td>0</td>\n",
              "    </tr>\n",
              "    <tr>\n",
              "      <th>2</th>\n",
              "      <td>case</td>\n",
              "      <td>SEP 2021</td>\n",
              "      <td>202138</td>\n",
              "      <td>65+</td>\n",
              "      <td>all_types</td>\n",
              "      <td>220</td>\n",
              "      <td>842552</td>\n",
              "      <td>20403</td>\n",
              "      <td>24729783</td>\n",
              "      <td>19615</td>\n",
              "      <td>...</td>\n",
              "      <td>82.503757</td>\n",
              "      <td>473.343372</td>\n",
              "      <td>18.128018</td>\n",
              "      <td>5.737234</td>\n",
              "      <td>NaN</td>\n",
              "      <td>NaN</td>\n",
              "      <td>NaN</td>\n",
              "      <td>NaN</td>\n",
              "      <td>NaN</td>\n",
              "      <td>1</td>\n",
              "    </tr>\n",
              "    <tr>\n",
              "      <th>3</th>\n",
              "      <td>case</td>\n",
              "      <td>SEP 2021</td>\n",
              "      <td>202138</td>\n",
              "      <td>all_ages</td>\n",
              "      <td>all_types</td>\n",
              "      <td>454</td>\n",
              "      <td>1495280</td>\n",
              "      <td>82978</td>\n",
              "      <td>95542324</td>\n",
              "      <td>193720</td>\n",
              "      <td>...</td>\n",
              "      <td>86.849468</td>\n",
              "      <td>461.340983</td>\n",
              "      <td>15.194580</td>\n",
              "      <td>5.311961</td>\n",
              "      <td>35.590910</td>\n",
              "      <td>88.112335</td>\n",
              "      <td>462.062705</td>\n",
              "      <td>12.982605</td>\n",
              "      <td>5.244018</td>\n",
              "      <td>1</td>\n",
              "    </tr>\n",
              "    <tr>\n",
              "      <th>4</th>\n",
              "      <td>case</td>\n",
              "      <td>SEP 2021</td>\n",
              "      <td>202138</td>\n",
              "      <td>all_ages</td>\n",
              "      <td>Janssen</td>\n",
              "      <td>11</td>\n",
              "      <td>25805</td>\n",
              "      <td>8066</td>\n",
              "      <td>8186230</td>\n",
              "      <td>193720</td>\n",
              "      <td>...</td>\n",
              "      <td>98.531314</td>\n",
              "      <td>461.340983</td>\n",
              "      <td>10.822640</td>\n",
              "      <td>4.682176</td>\n",
              "      <td>47.514988</td>\n",
              "      <td>97.719144</td>\n",
              "      <td>462.062705</td>\n",
              "      <td>9.724567</td>\n",
              "      <td>4.728477</td>\n",
              "      <td>1</td>\n",
              "    </tr>\n",
              "  </tbody>\n",
              "</table>\n",
              "<p>5 rows × 22 columns</p>\n",
              "</div>\n",
              "      <button class=\"colab-df-convert\" onclick=\"convertToInteractive('df-c1d6dbb5-28a0-4b3d-be52-64c06f027fc3')\"\n",
              "              title=\"Convert this dataframe to an interactive table.\"\n",
              "              style=\"display:none;\">\n",
              "        \n",
              "  <svg xmlns=\"http://www.w3.org/2000/svg\" height=\"24px\"viewBox=\"0 0 24 24\"\n",
              "       width=\"24px\">\n",
              "    <path d=\"M0 0h24v24H0V0z\" fill=\"none\"/>\n",
              "    <path d=\"M18.56 5.44l.94 2.06.94-2.06 2.06-.94-2.06-.94-.94-2.06-.94 2.06-2.06.94zm-11 1L8.5 8.5l.94-2.06 2.06-.94-2.06-.94L8.5 2.5l-.94 2.06-2.06.94zm10 10l.94 2.06.94-2.06 2.06-.94-2.06-.94-.94-2.06-.94 2.06-2.06.94z\"/><path d=\"M17.41 7.96l-1.37-1.37c-.4-.4-.92-.59-1.43-.59-.52 0-1.04.2-1.43.59L10.3 9.45l-7.72 7.72c-.78.78-.78 2.05 0 2.83L4 21.41c.39.39.9.59 1.41.59.51 0 1.02-.2 1.41-.59l7.78-7.78 2.81-2.81c.8-.78.8-2.07 0-2.86zM5.41 20L4 18.59l7.72-7.72 1.47 1.35L5.41 20z\"/>\n",
              "  </svg>\n",
              "      </button>\n",
              "      \n",
              "  <style>\n",
              "    .colab-df-container {\n",
              "      display:flex;\n",
              "      flex-wrap:wrap;\n",
              "      gap: 12px;\n",
              "    }\n",
              "\n",
              "    .colab-df-convert {\n",
              "      background-color: #E8F0FE;\n",
              "      border: none;\n",
              "      border-radius: 50%;\n",
              "      cursor: pointer;\n",
              "      display: none;\n",
              "      fill: #1967D2;\n",
              "      height: 32px;\n",
              "      padding: 0 0 0 0;\n",
              "      width: 32px;\n",
              "    }\n",
              "\n",
              "    .colab-df-convert:hover {\n",
              "      background-color: #E2EBFA;\n",
              "      box-shadow: 0px 1px 2px rgba(60, 64, 67, 0.3), 0px 1px 3px 1px rgba(60, 64, 67, 0.15);\n",
              "      fill: #174EA6;\n",
              "    }\n",
              "\n",
              "    [theme=dark] .colab-df-convert {\n",
              "      background-color: #3B4455;\n",
              "      fill: #D2E3FC;\n",
              "    }\n",
              "\n",
              "    [theme=dark] .colab-df-convert:hover {\n",
              "      background-color: #434B5C;\n",
              "      box-shadow: 0px 1px 3px 1px rgba(0, 0, 0, 0.15);\n",
              "      filter: drop-shadow(0px 1px 2px rgba(0, 0, 0, 0.3));\n",
              "      fill: #FFFFFF;\n",
              "    }\n",
              "  </style>\n",
              "\n",
              "      <script>\n",
              "        const buttonEl =\n",
              "          document.querySelector('#df-c1d6dbb5-28a0-4b3d-be52-64c06f027fc3 button.colab-df-convert');\n",
              "        buttonEl.style.display =\n",
              "          google.colab.kernel.accessAllowed ? 'block' : 'none';\n",
              "\n",
              "        async function convertToInteractive(key) {\n",
              "          const element = document.querySelector('#df-c1d6dbb5-28a0-4b3d-be52-64c06f027fc3');\n",
              "          const dataTable =\n",
              "            await google.colab.kernel.invokeFunction('convertToInteractive',\n",
              "                                                     [key], {});\n",
              "          if (!dataTable) return;\n",
              "\n",
              "          const docLinkHtml = 'Like what you see? Visit the ' +\n",
              "            '<a target=\"_blank\" href=https://colab.research.google.com/notebooks/data_table.ipynb>data table notebook</a>'\n",
              "            + ' to learn more about interactive tables.';\n",
              "          element.innerHTML = '';\n",
              "          dataTable['output_type'] = 'display_data';\n",
              "          await google.colab.output.renderOutput(dataTable, element);\n",
              "          const docLink = document.createElement('div');\n",
              "          docLink.innerHTML = docLinkHtml;\n",
              "          element.appendChild(docLink);\n",
              "        }\n",
              "      </script>\n",
              "    </div>\n",
              "  </div>\n",
              "  "
            ]
          },
          "metadata": {},
          "execution_count": 4
        }
      ],
      "source": [
        "data.head()"
      ]
    },
    {
      "cell_type": "code",
      "execution_count": 5,
      "metadata": {
        "colab": {
          "base_uri": "https://localhost:8080/",
          "height": 364
        },
        "id": "bMgf5gzY2bB_",
        "outputId": "3d4e2b89-1103-4a84-da6b-144129799428"
      },
      "outputs": [
        {
          "output_type": "execute_result",
          "data": {
            "text/plain": [
              "           mmwr_week  boosted_with_outcome  boosted_population  \\\n",
              "count     364.000000            364.000000        3.640000e+02   \n",
              "mean   202170.247253          15473.631868        1.129615e+07   \n",
              "std        30.024588          44001.687769        1.226936e+07   \n",
              "min    202138.000000              0.000000        2.580500e+04   \n",
              "25%    202144.000000             23.000000        1.563938e+06   \n",
              "50%    202150.500000            349.500000        7.719620e+06   \n",
              "75%    202204.000000           5155.000000        1.687804e+07   \n",
              "max    202211.000000         358921.000000        5.687477e+07   \n",
              "\n",
              "       primary_series_only_with_outcome  primary_series_only_population  \\\n",
              "count                      3.640000e+02                    3.640000e+02   \n",
              "mean                       5.031551e+04                    3.110529e+07   \n",
              "std                        1.367835e+05                    2.282263e+07   \n",
              "min                        0.000000e+00                    5.825051e+06   \n",
              "25%                        3.400000e+02                    1.147664e+07   \n",
              "50%                        3.304000e+03                    2.518593e+07   \n",
              "75%                        3.714525e+04                    4.264931e+07   \n",
              "max                        1.206804e+06                    9.706128e+07   \n",
              "\n",
              "       unvaccinated_with_outcome  unvaccinated_population  crude_booster_ir  \\\n",
              "count               3.640000e+02             3.640000e+02        364.000000   \n",
              "mean                1.072512e+05             2.457566e+07         95.969333   \n",
              "std                 2.308260e+05             1.438859e+07        209.227979   \n",
              "min                 0.000000e+00             2.663226e+06          0.000000   \n",
              "25%                 2.035000e+03             6.164493e+06          0.601885   \n",
              "50%                 9.295500e+03             3.343374e+07         17.473333   \n",
              "75%                 1.265080e+05             3.654297e+07         48.184132   \n",
              "max                 1.297550e+06             4.199063e+07       1322.037957   \n",
              "\n",
              "       crude_primary_series_only_ir  crude_unvax_ir  crude_booster_irr  \\\n",
              "count                    364.000000      364.000000         344.000000   \n",
              "mean                     166.813635      442.738053          13.243773   \n",
              "std                      351.800676      768.753436          13.004297   \n",
              "min                        0.000000        0.000000           1.257735   \n",
              "25%                        1.057723        8.430841           4.428267   \n",
              "50%                       25.318978       94.715500          10.285584   \n",
              "75%                      104.871250      440.393784          17.216514   \n",
              "max                     1931.600885     3650.690353          81.696530   \n",
              "\n",
              "        crude_irr  age_adj_booster_ir  age_adj_vax_ir  age_adj_unvax_ir  \\\n",
              "count  361.000000          196.000000      196.000000        196.000000   \n",
              "mean     6.185385          106.147219      161.014243        436.122202   \n",
              "std      5.717385          229.005656      338.321906        764.241009   \n",
              "min      0.576452            0.000000        0.371365          3.365139   \n",
              "25%      3.021605            0.387360        1.021212         11.740185   \n",
              "50%      4.443903           21.036653       24.868622         82.759376   \n",
              "75%      6.651072           47.729168      104.859138        416.468344   \n",
              "max     41.409728         1119.012845     1751.905062       3405.578451   \n",
              "\n",
              "       age_adj_booster_irr  age_adj_irr  continuity_correction  \n",
              "count           189.000000   196.000000             364.000000  \n",
              "mean             18.713985     6.548679               0.799451  \n",
              "std              19.529510     4.103940               0.400963  \n",
              "min               1.681941     1.908953               0.000000  \n",
              "25%               3.586796     3.292341               1.000000  \n",
              "50%              12.889732     4.738561               1.000000  \n",
              "75%              21.347579     8.524676               1.000000  \n",
              "max             127.187428    18.138191               1.000000  "
            ],
            "text/html": [
              "\n",
              "  <div id=\"df-af5c2933-fdda-4ac6-8797-8b82427a2da3\">\n",
              "    <div class=\"colab-df-container\">\n",
              "      <div>\n",
              "<style scoped>\n",
              "    .dataframe tbody tr th:only-of-type {\n",
              "        vertical-align: middle;\n",
              "    }\n",
              "\n",
              "    .dataframe tbody tr th {\n",
              "        vertical-align: top;\n",
              "    }\n",
              "\n",
              "    .dataframe thead th {\n",
              "        text-align: right;\n",
              "    }\n",
              "</style>\n",
              "<table border=\"1\" class=\"dataframe\">\n",
              "  <thead>\n",
              "    <tr style=\"text-align: right;\">\n",
              "      <th></th>\n",
              "      <th>mmwr_week</th>\n",
              "      <th>boosted_with_outcome</th>\n",
              "      <th>boosted_population</th>\n",
              "      <th>primary_series_only_with_outcome</th>\n",
              "      <th>primary_series_only_population</th>\n",
              "      <th>unvaccinated_with_outcome</th>\n",
              "      <th>unvaccinated_population</th>\n",
              "      <th>crude_booster_ir</th>\n",
              "      <th>crude_primary_series_only_ir</th>\n",
              "      <th>crude_unvax_ir</th>\n",
              "      <th>crude_booster_irr</th>\n",
              "      <th>crude_irr</th>\n",
              "      <th>age_adj_booster_ir</th>\n",
              "      <th>age_adj_vax_ir</th>\n",
              "      <th>age_adj_unvax_ir</th>\n",
              "      <th>age_adj_booster_irr</th>\n",
              "      <th>age_adj_irr</th>\n",
              "      <th>continuity_correction</th>\n",
              "    </tr>\n",
              "  </thead>\n",
              "  <tbody>\n",
              "    <tr>\n",
              "      <th>count</th>\n",
              "      <td>364.000000</td>\n",
              "      <td>364.000000</td>\n",
              "      <td>3.640000e+02</td>\n",
              "      <td>3.640000e+02</td>\n",
              "      <td>3.640000e+02</td>\n",
              "      <td>3.640000e+02</td>\n",
              "      <td>3.640000e+02</td>\n",
              "      <td>364.000000</td>\n",
              "      <td>364.000000</td>\n",
              "      <td>364.000000</td>\n",
              "      <td>344.000000</td>\n",
              "      <td>361.000000</td>\n",
              "      <td>196.000000</td>\n",
              "      <td>196.000000</td>\n",
              "      <td>196.000000</td>\n",
              "      <td>189.000000</td>\n",
              "      <td>196.000000</td>\n",
              "      <td>364.000000</td>\n",
              "    </tr>\n",
              "    <tr>\n",
              "      <th>mean</th>\n",
              "      <td>202170.247253</td>\n",
              "      <td>15473.631868</td>\n",
              "      <td>1.129615e+07</td>\n",
              "      <td>5.031551e+04</td>\n",
              "      <td>3.110529e+07</td>\n",
              "      <td>1.072512e+05</td>\n",
              "      <td>2.457566e+07</td>\n",
              "      <td>95.969333</td>\n",
              "      <td>166.813635</td>\n",
              "      <td>442.738053</td>\n",
              "      <td>13.243773</td>\n",
              "      <td>6.185385</td>\n",
              "      <td>106.147219</td>\n",
              "      <td>161.014243</td>\n",
              "      <td>436.122202</td>\n",
              "      <td>18.713985</td>\n",
              "      <td>6.548679</td>\n",
              "      <td>0.799451</td>\n",
              "    </tr>\n",
              "    <tr>\n",
              "      <th>std</th>\n",
              "      <td>30.024588</td>\n",
              "      <td>44001.687769</td>\n",
              "      <td>1.226936e+07</td>\n",
              "      <td>1.367835e+05</td>\n",
              "      <td>2.282263e+07</td>\n",
              "      <td>2.308260e+05</td>\n",
              "      <td>1.438859e+07</td>\n",
              "      <td>209.227979</td>\n",
              "      <td>351.800676</td>\n",
              "      <td>768.753436</td>\n",
              "      <td>13.004297</td>\n",
              "      <td>5.717385</td>\n",
              "      <td>229.005656</td>\n",
              "      <td>338.321906</td>\n",
              "      <td>764.241009</td>\n",
              "      <td>19.529510</td>\n",
              "      <td>4.103940</td>\n",
              "      <td>0.400963</td>\n",
              "    </tr>\n",
              "    <tr>\n",
              "      <th>min</th>\n",
              "      <td>202138.000000</td>\n",
              "      <td>0.000000</td>\n",
              "      <td>2.580500e+04</td>\n",
              "      <td>0.000000e+00</td>\n",
              "      <td>5.825051e+06</td>\n",
              "      <td>0.000000e+00</td>\n",
              "      <td>2.663226e+06</td>\n",
              "      <td>0.000000</td>\n",
              "      <td>0.000000</td>\n",
              "      <td>0.000000</td>\n",
              "      <td>1.257735</td>\n",
              "      <td>0.576452</td>\n",
              "      <td>0.000000</td>\n",
              "      <td>0.371365</td>\n",
              "      <td>3.365139</td>\n",
              "      <td>1.681941</td>\n",
              "      <td>1.908953</td>\n",
              "      <td>0.000000</td>\n",
              "    </tr>\n",
              "    <tr>\n",
              "      <th>25%</th>\n",
              "      <td>202144.000000</td>\n",
              "      <td>23.000000</td>\n",
              "      <td>1.563938e+06</td>\n",
              "      <td>3.400000e+02</td>\n",
              "      <td>1.147664e+07</td>\n",
              "      <td>2.035000e+03</td>\n",
              "      <td>6.164493e+06</td>\n",
              "      <td>0.601885</td>\n",
              "      <td>1.057723</td>\n",
              "      <td>8.430841</td>\n",
              "      <td>4.428267</td>\n",
              "      <td>3.021605</td>\n",
              "      <td>0.387360</td>\n",
              "      <td>1.021212</td>\n",
              "      <td>11.740185</td>\n",
              "      <td>3.586796</td>\n",
              "      <td>3.292341</td>\n",
              "      <td>1.000000</td>\n",
              "    </tr>\n",
              "    <tr>\n",
              "      <th>50%</th>\n",
              "      <td>202150.500000</td>\n",
              "      <td>349.500000</td>\n",
              "      <td>7.719620e+06</td>\n",
              "      <td>3.304000e+03</td>\n",
              "      <td>2.518593e+07</td>\n",
              "      <td>9.295500e+03</td>\n",
              "      <td>3.343374e+07</td>\n",
              "      <td>17.473333</td>\n",
              "      <td>25.318978</td>\n",
              "      <td>94.715500</td>\n",
              "      <td>10.285584</td>\n",
              "      <td>4.443903</td>\n",
              "      <td>21.036653</td>\n",
              "      <td>24.868622</td>\n",
              "      <td>82.759376</td>\n",
              "      <td>12.889732</td>\n",
              "      <td>4.738561</td>\n",
              "      <td>1.000000</td>\n",
              "    </tr>\n",
              "    <tr>\n",
              "      <th>75%</th>\n",
              "      <td>202204.000000</td>\n",
              "      <td>5155.000000</td>\n",
              "      <td>1.687804e+07</td>\n",
              "      <td>3.714525e+04</td>\n",
              "      <td>4.264931e+07</td>\n",
              "      <td>1.265080e+05</td>\n",
              "      <td>3.654297e+07</td>\n",
              "      <td>48.184132</td>\n",
              "      <td>104.871250</td>\n",
              "      <td>440.393784</td>\n",
              "      <td>17.216514</td>\n",
              "      <td>6.651072</td>\n",
              "      <td>47.729168</td>\n",
              "      <td>104.859138</td>\n",
              "      <td>416.468344</td>\n",
              "      <td>21.347579</td>\n",
              "      <td>8.524676</td>\n",
              "      <td>1.000000</td>\n",
              "    </tr>\n",
              "    <tr>\n",
              "      <th>max</th>\n",
              "      <td>202211.000000</td>\n",
              "      <td>358921.000000</td>\n",
              "      <td>5.687477e+07</td>\n",
              "      <td>1.206804e+06</td>\n",
              "      <td>9.706128e+07</td>\n",
              "      <td>1.297550e+06</td>\n",
              "      <td>4.199063e+07</td>\n",
              "      <td>1322.037957</td>\n",
              "      <td>1931.600885</td>\n",
              "      <td>3650.690353</td>\n",
              "      <td>81.696530</td>\n",
              "      <td>41.409728</td>\n",
              "      <td>1119.012845</td>\n",
              "      <td>1751.905062</td>\n",
              "      <td>3405.578451</td>\n",
              "      <td>127.187428</td>\n",
              "      <td>18.138191</td>\n",
              "      <td>1.000000</td>\n",
              "    </tr>\n",
              "  </tbody>\n",
              "</table>\n",
              "</div>\n",
              "      <button class=\"colab-df-convert\" onclick=\"convertToInteractive('df-af5c2933-fdda-4ac6-8797-8b82427a2da3')\"\n",
              "              title=\"Convert this dataframe to an interactive table.\"\n",
              "              style=\"display:none;\">\n",
              "        \n",
              "  <svg xmlns=\"http://www.w3.org/2000/svg\" height=\"24px\"viewBox=\"0 0 24 24\"\n",
              "       width=\"24px\">\n",
              "    <path d=\"M0 0h24v24H0V0z\" fill=\"none\"/>\n",
              "    <path d=\"M18.56 5.44l.94 2.06.94-2.06 2.06-.94-2.06-.94-.94-2.06-.94 2.06-2.06.94zm-11 1L8.5 8.5l.94-2.06 2.06-.94-2.06-.94L8.5 2.5l-.94 2.06-2.06.94zm10 10l.94 2.06.94-2.06 2.06-.94-2.06-.94-.94-2.06-.94 2.06-2.06.94z\"/><path d=\"M17.41 7.96l-1.37-1.37c-.4-.4-.92-.59-1.43-.59-.52 0-1.04.2-1.43.59L10.3 9.45l-7.72 7.72c-.78.78-.78 2.05 0 2.83L4 21.41c.39.39.9.59 1.41.59.51 0 1.02-.2 1.41-.59l7.78-7.78 2.81-2.81c.8-.78.8-2.07 0-2.86zM5.41 20L4 18.59l7.72-7.72 1.47 1.35L5.41 20z\"/>\n",
              "  </svg>\n",
              "      </button>\n",
              "      \n",
              "  <style>\n",
              "    .colab-df-container {\n",
              "      display:flex;\n",
              "      flex-wrap:wrap;\n",
              "      gap: 12px;\n",
              "    }\n",
              "\n",
              "    .colab-df-convert {\n",
              "      background-color: #E8F0FE;\n",
              "      border: none;\n",
              "      border-radius: 50%;\n",
              "      cursor: pointer;\n",
              "      display: none;\n",
              "      fill: #1967D2;\n",
              "      height: 32px;\n",
              "      padding: 0 0 0 0;\n",
              "      width: 32px;\n",
              "    }\n",
              "\n",
              "    .colab-df-convert:hover {\n",
              "      background-color: #E2EBFA;\n",
              "      box-shadow: 0px 1px 2px rgba(60, 64, 67, 0.3), 0px 1px 3px 1px rgba(60, 64, 67, 0.15);\n",
              "      fill: #174EA6;\n",
              "    }\n",
              "\n",
              "    [theme=dark] .colab-df-convert {\n",
              "      background-color: #3B4455;\n",
              "      fill: #D2E3FC;\n",
              "    }\n",
              "\n",
              "    [theme=dark] .colab-df-convert:hover {\n",
              "      background-color: #434B5C;\n",
              "      box-shadow: 0px 1px 3px 1px rgba(0, 0, 0, 0.15);\n",
              "      filter: drop-shadow(0px 1px 2px rgba(0, 0, 0, 0.3));\n",
              "      fill: #FFFFFF;\n",
              "    }\n",
              "  </style>\n",
              "\n",
              "      <script>\n",
              "        const buttonEl =\n",
              "          document.querySelector('#df-af5c2933-fdda-4ac6-8797-8b82427a2da3 button.colab-df-convert');\n",
              "        buttonEl.style.display =\n",
              "          google.colab.kernel.accessAllowed ? 'block' : 'none';\n",
              "\n",
              "        async function convertToInteractive(key) {\n",
              "          const element = document.querySelector('#df-af5c2933-fdda-4ac6-8797-8b82427a2da3');\n",
              "          const dataTable =\n",
              "            await google.colab.kernel.invokeFunction('convertToInteractive',\n",
              "                                                     [key], {});\n",
              "          if (!dataTable) return;\n",
              "\n",
              "          const docLinkHtml = 'Like what you see? Visit the ' +\n",
              "            '<a target=\"_blank\" href=https://colab.research.google.com/notebooks/data_table.ipynb>data table notebook</a>'\n",
              "            + ' to learn more about interactive tables.';\n",
              "          element.innerHTML = '';\n",
              "          dataTable['output_type'] = 'display_data';\n",
              "          await google.colab.output.renderOutput(dataTable, element);\n",
              "          const docLink = document.createElement('div');\n",
              "          docLink.innerHTML = docLinkHtml;\n",
              "          element.appendChild(docLink);\n",
              "        }\n",
              "      </script>\n",
              "    </div>\n",
              "  </div>\n",
              "  "
            ]
          },
          "metadata": {},
          "execution_count": 5
        }
      ],
      "source": [
        "data.describe()"
      ]
    },
    {
      "cell_type": "code",
      "execution_count": 6,
      "metadata": {
        "colab": {
          "base_uri": "https://localhost:8080/"
        },
        "id": "bpMcgeOV2bCA",
        "outputId": "c4cb0414-056a-45cd-89cd-b20d278ec8a9"
      },
      "outputs": [
        {
          "output_type": "execute_result",
          "data": {
            "text/plain": [
              "['outcome',\n",
              " 'month',\n",
              " 'mmwr_week',\n",
              " 'age_group',\n",
              " 'vaccine_product',\n",
              " 'boosted_with_outcome',\n",
              " 'boosted_population',\n",
              " 'primary_series_only_with_outcome',\n",
              " 'primary_series_only_population',\n",
              " 'unvaccinated_with_outcome',\n",
              " 'unvaccinated_population',\n",
              " 'crude_booster_ir',\n",
              " 'crude_primary_series_only_ir',\n",
              " 'crude_unvax_ir',\n",
              " 'crude_booster_irr',\n",
              " 'crude_irr',\n",
              " 'age_adj_booster_ir',\n",
              " 'age_adj_vax_ir',\n",
              " 'age_adj_unvax_ir',\n",
              " 'age_adj_booster_irr',\n",
              " 'age_adj_irr',\n",
              " 'continuity_correction']"
            ]
          },
          "metadata": {},
          "execution_count": 6
        }
      ],
      "source": [
        "list(data.columns)"
      ]
    },
    {
      "cell_type": "code",
      "execution_count": 7,
      "metadata": {
        "colab": {
          "base_uri": "https://localhost:8080/"
        },
        "id": "JXbk9fxD2bCB",
        "outputId": "0b052e27-146e-4c20-98e0-14c6ed5f0d92"
      },
      "outputs": [
        {
          "output_type": "execute_result",
          "data": {
            "text/plain": [
              "outcome                              object\n",
              "month                                object\n",
              "mmwr_week                             int64\n",
              "age_group                            object\n",
              "vaccine_product                      object\n",
              "boosted_with_outcome                  int64\n",
              "boosted_population                    int64\n",
              "primary_series_only_with_outcome      int64\n",
              "primary_series_only_population        int64\n",
              "unvaccinated_with_outcome             int64\n",
              "unvaccinated_population             float64\n",
              "crude_booster_ir                    float64\n",
              "crude_primary_series_only_ir        float64\n",
              "crude_unvax_ir                      float64\n",
              "crude_booster_irr                   float64\n",
              "crude_irr                           float64\n",
              "age_adj_booster_ir                  float64\n",
              "age_adj_vax_ir                      float64\n",
              "age_adj_unvax_ir                    float64\n",
              "age_adj_booster_irr                 float64\n",
              "age_adj_irr                         float64\n",
              "continuity_correction                 int64\n",
              "dtype: object"
            ]
          },
          "metadata": {},
          "execution_count": 7
        }
      ],
      "source": [
        "data.dtypes"
      ]
    },
    {
      "cell_type": "code",
      "execution_count": 8,
      "metadata": {
        "colab": {
          "base_uri": "https://localhost:8080/"
        },
        "id": "K3pWtHn52bCC",
        "outputId": "c159ae76-602c-4580-da6e-4da07b54a6c1"
      },
      "outputs": [
        {
          "output_type": "execute_result",
          "data": {
            "text/plain": [
              "0      11.907157\n",
              "1      13.474673\n",
              "2      18.128018\n",
              "3      15.194580\n",
              "4      10.822640\n",
              "         ...    \n",
              "359    16.387394\n",
              "360     4.759216\n",
              "361     7.908445\n",
              "362     3.984658\n",
              "363     5.318641\n",
              "Name: crude_booster_irr, Length: 364, dtype: float64"
            ]
          },
          "metadata": {},
          "execution_count": 8
        }
      ],
      "source": [
        "# max column length is 364, but crude_booster_irr has a length of 344. How are the remaining rows filled?\n",
        "data['crude_booster_irr']"
      ]
    },
    {
      "cell_type": "code",
      "execution_count": 9,
      "metadata": {
        "colab": {
          "base_uri": "https://localhost:8080/"
        },
        "id": "WAP8nG3W2bCD",
        "outputId": "241e0796-b537-4a45-fbed-11f1850ac4ca"
      },
      "outputs": [
        {
          "output_type": "execute_result",
          "data": {
            "text/plain": [
              "344"
            ]
          },
          "metadata": {},
          "execution_count": 9
        }
      ],
      "source": [
        "data['crude_booster_irr'].count()"
      ]
    },
    {
      "cell_type": "code",
      "execution_count": 10,
      "metadata": {
        "colab": {
          "base_uri": "https://localhost:8080/"
        },
        "id": "swmAyY9j2bCE",
        "outputId": "5a9ba192-714d-4224-eef3-1ea06b1d9ed4"
      },
      "outputs": [
        {
          "output_type": "execute_result",
          "data": {
            "text/plain": [
              "outcome  month     mmwr_week  age_group  vaccine_product  boosted_with_outcome  boosted_population  primary_series_only_with_outcome  primary_series_only_population  unvaccinated_with_outcome  unvaccinated_population  crude_booster_ir  crude_primary_series_only_ir  crude_unvax_ir  crude_booster_irr  crude_irr  age_adj_booster_ir  age_adj_vax_ir  age_adj_unvax_ir  age_adj_booster_irr  age_adj_irr  continuity_correction\n",
              "case     DEC 2021  202148     all_ages   Janssen          490                   1020914             13515                             7832143                         193387                     35326412.85              47.996207         172.558136                    547.428919      11.405670          3.172432   53.000370           171.241544      557.837428        10.525161            3.257606     1                        1\n",
              "death    FEB 2022  202206     all_ages   Pfizer           241                   26200654            323                               35004587                        1742                       34675222.65              0.919824          0.922736                      5.023760        5.461651           5.444416   0.495174            1.148792        8.848534          17.869547            7.702466     1                        1\n",
              "         DEC 2021  202152     all_ages   Moderna          214                   14881988            753                               23722701                        4014                       37292647.10              1.437980          3.174175                      10.763516       7.485164           3.390965   0.564852            2.284461        18.180363         32.186065            7.958272     1                        1\n",
              "                                         Pfizer           344                   18270929            1005                              41493152                        4014                       37292647.10              1.882772          2.422086                      10.763516       5.716844           4.443903   0.832201            2.965781        18.180363         21.846109            6.130042     1                        1\n",
              "                                         all_types        581                   35017515            2033                              71921776                        4014                       37292647.10              1.659170          2.826682                      10.763516       6.487291           3.807827   0.708513            2.786920        18.180363         25.659893            6.523462     1                        1\n",
              "                                                                                                                                                                                                                                                                                                                                                                                                                                        ..\n",
              "case     NOV 2021  202144     all_ages   Moderna          273                   1602916             27512                             38344119                        126508                     37806902.80              17.031460         71.750247                     334.616143      19.646944          4.663624   23.477218           74.994313       338.658164        14.424970            4.515785     1                        1\n",
              "                                         Pfizer           1597                  7227397             42332                             46702875                        126508                     37806902.80              22.096475         90.641101                     334.616143      15.143417          3.691660   31.136790           91.251105       338.658164        10.876464            3.711277     1                        1\n",
              "                                         all_types        1894                  8914327             78815                             93609599                        126508                     37806902.80              21.246696         84.195425                     334.616143      15.749090          3.974279   29.870439           86.063741       338.658164        11.337569            3.934969     1                        1\n",
              "                   202145     all_ages   Janssen          89                    292423              9688                              8348660                         137756                     37195832.40              30.435362         116.042575                    370.353319      12.168520          3.191530   31.877842           116.181314      375.496348        11.779227            3.231986     1                        1\n",
              "death    SEP 2021  202139     all_ages   all_types        23                    1805307             879                               89989465                        2899                       39300857.20              1.274022          0.976781                      7.376429        5.789878           7.551774   0.956820            0.688441        10.215993         10.677028            14.839315    1                        1\n",
              "Length: 189, dtype: int64"
            ]
          },
          "metadata": {},
          "execution_count": 10
        }
      ],
      "source": [
        "# data['crude_booster_irr']\n",
        "data.value_counts()"
      ]
    },
    {
      "cell_type": "code",
      "source": [
        "data.info()"
      ],
      "metadata": {
        "colab": {
          "base_uri": "https://localhost:8080/"
        },
        "id": "OaGOlnAD4ExH",
        "outputId": "42bf3ae7-bb3e-4c72-cb64-ab0e14bf8c9c"
      },
      "execution_count": 11,
      "outputs": [
        {
          "output_type": "stream",
          "name": "stdout",
          "text": [
            "<class 'pandas.core.frame.DataFrame'>\n",
            "RangeIndex: 364 entries, 0 to 363\n",
            "Data columns (total 22 columns):\n",
            " #   Column                            Non-Null Count  Dtype  \n",
            "---  ------                            --------------  -----  \n",
            " 0   outcome                           364 non-null    object \n",
            " 1   month                             364 non-null    object \n",
            " 2   mmwr_week                         364 non-null    int64  \n",
            " 3   age_group                         364 non-null    object \n",
            " 4   vaccine_product                   364 non-null    object \n",
            " 5   boosted_with_outcome              364 non-null    int64  \n",
            " 6   boosted_population                364 non-null    int64  \n",
            " 7   primary_series_only_with_outcome  364 non-null    int64  \n",
            " 8   primary_series_only_population    364 non-null    int64  \n",
            " 9   unvaccinated_with_outcome         364 non-null    int64  \n",
            " 10  unvaccinated_population           364 non-null    float64\n",
            " 11  crude_booster_ir                  364 non-null    float64\n",
            " 12  crude_primary_series_only_ir      364 non-null    float64\n",
            " 13  crude_unvax_ir                    364 non-null    float64\n",
            " 14  crude_booster_irr                 344 non-null    float64\n",
            " 15  crude_irr                         361 non-null    float64\n",
            " 16  age_adj_booster_ir                196 non-null    float64\n",
            " 17  age_adj_vax_ir                    196 non-null    float64\n",
            " 18  age_adj_unvax_ir                  196 non-null    float64\n",
            " 19  age_adj_booster_irr               189 non-null    float64\n",
            " 20  age_adj_irr                       196 non-null    float64\n",
            " 21  continuity_correction             364 non-null    int64  \n",
            "dtypes: float64(11), int64(7), object(4)\n",
            "memory usage: 62.7+ KB\n"
          ]
        }
      ]
    },
    {
      "cell_type": "code",
      "source": [
        "data.isnull().sum()"
      ],
      "metadata": {
        "colab": {
          "base_uri": "https://localhost:8080/"
        },
        "id": "BZJZXV604W7V",
        "outputId": "e8182da3-4a1c-4237-d827-c278f133d121"
      },
      "execution_count": 12,
      "outputs": [
        {
          "output_type": "execute_result",
          "data": {
            "text/plain": [
              "outcome                               0\n",
              "month                                 0\n",
              "mmwr_week                             0\n",
              "age_group                             0\n",
              "vaccine_product                       0\n",
              "boosted_with_outcome                  0\n",
              "boosted_population                    0\n",
              "primary_series_only_with_outcome      0\n",
              "primary_series_only_population        0\n",
              "unvaccinated_with_outcome             0\n",
              "unvaccinated_population               0\n",
              "crude_booster_ir                      0\n",
              "crude_primary_series_only_ir          0\n",
              "crude_unvax_ir                        0\n",
              "crude_booster_irr                    20\n",
              "crude_irr                             3\n",
              "age_adj_booster_ir                  168\n",
              "age_adj_vax_ir                      168\n",
              "age_adj_unvax_ir                    168\n",
              "age_adj_booster_irr                 175\n",
              "age_adj_irr                         168\n",
              "continuity_correction                 0\n",
              "dtype: int64"
            ]
          },
          "metadata": {},
          "execution_count": 12
        }
      ]
    },
    {
      "cell_type": "code",
      "source": [
        "rows, columns = data.shape\n",
        "cell_count = rows * columns\n",
        "number_of_nulls = data.isnull().sum().sum()\n",
        "percentage_of_missing = (number_of_nulls / cell_count) * 100\n",
        "print(f'Percentage of missing values: {percentage_of_missing}%')"
      ],
      "metadata": {
        "colab": {
          "base_uri": "https://localhost:8080/"
        },
        "id": "9UEcPlNh5bGZ",
        "outputId": "a9e82aa7-225b-41db-e996-afcb0eedccf3"
      },
      "execution_count": 13,
      "outputs": [
        {
          "output_type": "stream",
          "name": "stdout",
          "text": [
            "Percentage of missing values: 10.864135864135864%\n"
          ]
        }
      ]
    },
    {
      "cell_type": "code",
      "source": [
        "data['outcome'] = data['outcome'].astype('category')\n",
        "# data.plot(y='outcome', use_index=True)\n",
        "data['outcome'].value_counts()"
      ],
      "metadata": {
        "colab": {
          "base_uri": "https://localhost:8080/"
        },
        "id": "mJ5Z1Gv26Lk2",
        "outputId": "475a4d05-f303-42eb-a77c-0fb84adbb4a5"
      },
      "execution_count": 16,
      "outputs": [
        {
          "output_type": "execute_result",
          "data": {
            "text/plain": [
              "case     194\n",
              "death    170\n",
              "Name: outcome, dtype: int64"
            ]
          },
          "metadata": {},
          "execution_count": 16
        }
      ]
    },
    {
      "cell_type": "code",
      "source": [
        "plt.hist(data['outcome'])"
      ],
      "metadata": {
        "colab": {
          "base_uri": "https://localhost:8080/",
          "height": 317
        },
        "id": "Lnf9gxnD8FUW",
        "outputId": "c69e095b-3170-4a66-8b44-1aa2ffc18d21"
      },
      "execution_count": 17,
      "outputs": [
        {
          "output_type": "execute_result",
          "data": {
            "text/plain": [
              "(array([194.,   0.,   0.,   0.,   0.,   0.,   0.,   0.,   0., 170.]),\n",
              " array([0. , 0.1, 0.2, 0.3, 0.4, 0.5, 0.6, 0.7, 0.8, 0.9, 1. ]),\n",
              " <a list of 10 Patch objects>)"
            ]
          },
          "metadata": {},
          "execution_count": 17
        },
        {
          "output_type": "display_data",
          "data": {
            "text/plain": [
              "<Figure size 432x288 with 1 Axes>"
            ],
            "image/png": "[encoded data removed]"
          },
          "metadata": {
            "needs_background": "light"
          }
        }
      ]
    },
    {
      "cell_type": "code",
      "source": [
        "group_by_outcome = data.groupby('outcome')\n",
        "group_by_outcome['boosted_with_outcome'].value_counts()\n"
      ],
      "metadata": {
        "colab": {
          "base_uri": "https://localhost:8080/"
        },
        "id": "sf69c4OJ8cqh",
        "outputId": "b980e072-71ea-4986-bee1-cb51676c2372"
      },
      "execution_count": 24,
      "outputs": [
        {
          "output_type": "execute_result",
          "data": {
            "text/plain": [
              "outcome  boosted_with_outcome\n",
              "case     168                     3\n",
              "         11                      2\n",
              "         7                       1\n",
              "         8                       1\n",
              "         13                      1\n",
              "                                ..\n",
              "death    936                     1\n",
              "         1023                    1\n",
              "         1033                    1\n",
              "         1081                    1\n",
              "         1149                    1\n",
              "Name: boosted_with_outcome, Length: 287, dtype: int64"
            ]
          },
          "metadata": {},
          "execution_count": 24
        }
      ]
    },
    {
      "cell_type": "code",
      "source": [
        "group_by_outcome.plot(y='boosted_with_outcome', use_index=True)"
      ],
      "metadata": {
        "colab": {
          "base_uri": "https://localhost:8080/",
          "height": 585
        },
        "id": "V-6cIixV_1B4",
        "outputId": "2259595c-645f-4e6b-d803-8006b3ce5945"
      },
      "execution_count": 26,
      "outputs": [
        {
          "output_type": "execute_result",
          "data": {
            "text/plain": [
              "outcome\n",
              "case     AxesSubplot(0.125,0.125;0.775x0.755)\n",
              "death    AxesSubplot(0.125,0.125;0.775x0.755)\n",
              "dtype: object"
            ]
          },
          "metadata": {},
          "execution_count": 26
        },
        {
          "output_type": "display_data",
          "data": {
            "text/plain": [
              "<Figure size 432x288 with 1 Axes>"
            ],
            "image/png": "[encoded data removed]"
          },
          "metadata": {
            "needs_background": "light"
          }
        },
        {
          "output_type": "display_data",
          "data": {
            "text/plain": [
              "<Figure size 432x288 with 1 Axes>"
            ],
            "image/png": "[encoded data removed]"
          },
          "metadata": {
            "needs_background": "light"
          }
        }
      ]
    },
    {
      "cell_type": "code",
      "source": [
        "deaths = data[data['outcome']=='death']\n",
        "boosted_deaths = deaths['boosted_with_outcome'].count()"
      ],
      "metadata": {
        "id": "lGlHM55hAXlJ"
      },
      "execution_count": 30,
      "outputs": []
    },
    {
      "cell_type": "code",
      "source": [
        "cases = data[data['outcome']=='case']\n",
        "boosted_cases = cases['boosted_with_outcome'].count()"
      ],
      "metadata": {
        "id": "u6l2BvqNBp7u"
      },
      "execution_count": 31,
      "outputs": []
    },
    {
      "cell_type": "code",
      "source": [
        "boosted_total = data['boosted_with_outcome'].count()\n",
        "print('Percent boosted deaths = ',(boosted_deaths/boosted_total)*100, '%  Percent boosted cases = ', (boosted_cases/boosted_total)*100)"
      ],
      "metadata": {
        "colab": {
          "base_uri": "https://localhost:8080/"
        },
        "id": "kcPy_mL6B_h4",
        "outputId": "b803fb52-9463-4197-a379-17cb64716e9e"
      },
      "execution_count": 33,
      "outputs": [
        {
          "output_type": "stream",
          "name": "stdout",
          "text": [
            "Percent boosted deaths =  46.7032967032967 %  Percent boosted cases =  53.2967032967033\n"
          ]
        }
      ]
    },
    {
      "cell_type": "code",
      "execution_count": null,
      "metadata": {
        "id": "StmXET0r2bCI"
      },
      "outputs": [],
      "source": [
        "# sns.lmplot(data = data, x = \"total_bill\", y = \"tip\");"
      ]
    },
    {
      "cell_type": "code",
      "execution_count": null,
      "metadata": {
        "id": "7_wqtPQd2bCJ"
      },
      "outputs": [],
      "source": [
        "# from sklearn.linear_model import LinearRegression\n",
        "# model = LinearRegression()"
      ]
    }
  ],
  "metadata": {
    "kernelspec": {
      "display_name": "Python 3",
      "language": "python",
      "name": "python3"
    },
    "language_info": {
      "codemirror_mode": {
        "name": "ipython",
        "version": 3
      },
      "file_extension": ".py",
      "mimetype": "text/x-python",
      "name": "python",
      "nbconvert_exporter": "python",
      "pygments_lexer": "ipython3",
      "version": "3.6.5"
    },
    "colab": {
      "name": "CDC_data.ipynb",
      "provenance": [],
      "include_colab_link": true
    }
  },
  "nbformat": 4,
  "nbformat_minor": 0
}