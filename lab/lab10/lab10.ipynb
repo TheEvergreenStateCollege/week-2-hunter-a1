{
  "cells": [
    {
      "cell_type": "code",
      "execution_count": 53,
      "metadata": {
        "deletable": false,
        "editable": false,
        "id": "_dNF0g_QzMQp",
        "outputId": "fa854e97-bcf7-4c4f-fddb-93c51604d32b",
        "colab": {
          "base_uri": "https://localhost:8080/"
        }
      },
      "outputs": [
        {
          "output_type": "stream",
          "name": "stdout",
          "text": [
            "Looking in indexes: https://pypi.org/simple, https://us-python.pkg.dev/colab-wheels/public/simple/\n",
            "Requirement already satisfied: otter-grader in /usr/local/lib/python3.7/dist-packages (3.3.0)\n",
            "Requirement already satisfied: pdfkit in /usr/local/lib/python3.7/dist-packages (from otter-grader) (1.0.0)\n",
            "Requirement already satisfied: google-api-python-client in /usr/local/lib/python3.7/dist-packages (from otter-grader) (1.12.11)\n",
            "Requirement already satisfied: gspread in /usr/local/lib/python3.7/dist-packages (from otter-grader) (3.4.2)\n",
            "Requirement already satisfied: six in /usr/local/lib/python3.7/dist-packages (from otter-grader) (1.15.0)\n",
            "Requirement already satisfied: PyPDF2 in /usr/local/lib/python3.7/dist-packages (from otter-grader) (1.28.4)\n",
            "Requirement already satisfied: python-on-whales in /usr/local/lib/python3.7/dist-packages (from otter-grader) (0.46.0)\n",
            "Requirement already satisfied: matplotlib in /usr/local/lib/python3.7/dist-packages (from otter-grader) (3.2.2)\n",
            "Requirement already satisfied: requests in /usr/local/lib/python3.7/dist-packages (from otter-grader) (2.23.0)\n",
            "Requirement already satisfied: ipykernel in /usr/local/lib/python3.7/dist-packages (from otter-grader) (4.10.1)\n",
            "Requirement already satisfied: dill in /usr/local/lib/python3.7/dist-packages (from otter-grader) (0.3.5.1)\n",
            "Requirement already satisfied: google-auth-oauthlib in /usr/local/lib/python3.7/dist-packages (from otter-grader) (0.4.6)\n",
            "Requirement already satisfied: jinja2 in /usr/local/lib/python3.7/dist-packages (from otter-grader) (2.11.3)\n",
            "Requirement already satisfied: nbconvert in /usr/local/lib/python3.7/dist-packages (from otter-grader) (5.6.1)\n",
            "Requirement already satisfied: pandas in /usr/local/lib/python3.7/dist-packages (from otter-grader) (1.3.5)\n",
            "Requirement already satisfied: nbformat in /usr/local/lib/python3.7/dist-packages (from otter-grader) (5.4.0)\n",
            "Requirement already satisfied: PyYAML in /usr/local/lib/python3.7/dist-packages (from otter-grader) (3.13)\n",
            "Requirement already satisfied: jupyter-client in /usr/local/lib/python3.7/dist-packages (from otter-grader) (5.3.5)\n",
            "Requirement already satisfied: google-api-core<3dev,>=1.21.0 in /usr/local/lib/python3.7/dist-packages (from google-api-python-client->otter-grader) (1.31.5)\n",
            "Requirement already satisfied: uritemplate<4dev,>=3.0.0 in /usr/local/lib/python3.7/dist-packages (from google-api-python-client->otter-grader) (3.0.1)\n",
            "Requirement already satisfied: google-auth-httplib2>=0.0.3 in /usr/local/lib/python3.7/dist-packages (from google-api-python-client->otter-grader) (0.0.4)\n",
            "Requirement already satisfied: google-auth<3dev,>=1.16.0 in /usr/local/lib/python3.7/dist-packages (from google-api-python-client->otter-grader) (1.35.0)\n",
            "Requirement already satisfied: httplib2<1dev,>=0.15.0 in /usr/local/lib/python3.7/dist-packages (from google-api-python-client->otter-grader) (0.17.4)\n",
            "Requirement already satisfied: googleapis-common-protos<2.0dev,>=1.6.0 in /usr/local/lib/python3.7/dist-packages (from google-api-core<3dev,>=1.21.0->google-api-python-client->otter-grader) (1.56.1)\n",
            "Requirement already satisfied: packaging>=14.3 in /usr/local/lib/python3.7/dist-packages (from google-api-core<3dev,>=1.21.0->google-api-python-client->otter-grader) (21.3)\n",
            "Requirement already satisfied: pytz in /usr/local/lib/python3.7/dist-packages (from google-api-core<3dev,>=1.21.0->google-api-python-client->otter-grader) (2022.1)\n",
            "Requirement already satisfied: protobuf>=3.12.0 in /usr/local/lib/python3.7/dist-packages (from google-api-core<3dev,>=1.21.0->google-api-python-client->otter-grader) (3.17.3)\n",
            "Requirement already satisfied: setuptools>=40.3.0 in /usr/local/lib/python3.7/dist-packages (from google-api-core<3dev,>=1.21.0->google-api-python-client->otter-grader) (57.4.0)\n",
            "Requirement already satisfied: rsa<5,>=3.1.4 in /usr/local/lib/python3.7/dist-packages (from google-auth<3dev,>=1.16.0->google-api-python-client->otter-grader) (4.8)\n",
            "Requirement already satisfied: pyasn1-modules>=0.2.1 in /usr/local/lib/python3.7/dist-packages (from google-auth<3dev,>=1.16.0->google-api-python-client->otter-grader) (0.2.8)\n",
            "Requirement already satisfied: cachetools<5.0,>=2.0.0 in /usr/local/lib/python3.7/dist-packages (from google-auth<3dev,>=1.16.0->google-api-python-client->otter-grader) (4.2.4)\n",
            "Requirement already satisfied: pyparsing!=3.0.5,>=2.0.2 in /usr/local/lib/python3.7/dist-packages (from packaging>=14.3->google-api-core<3dev,>=1.21.0->google-api-python-client->otter-grader) (3.0.9)\n",
            "Requirement already satisfied: pyasn1<0.5.0,>=0.4.6 in /usr/local/lib/python3.7/dist-packages (from pyasn1-modules>=0.2.1->google-auth<3dev,>=1.16.0->google-api-python-client->otter-grader) (0.4.8)\n",
            "Requirement already satisfied: chardet<4,>=3.0.2 in /usr/local/lib/python3.7/dist-packages (from requests->otter-grader) (3.0.4)\n",
            "Requirement already satisfied: certifi>=2017.4.17 in /usr/local/lib/python3.7/dist-packages (from requests->otter-grader) (2022.5.18.1)\n",
            "Requirement already satisfied: idna<3,>=2.5 in /usr/local/lib/python3.7/dist-packages (from requests->otter-grader) (2.10)\n",
            "Requirement already satisfied: urllib3!=1.25.0,!=1.25.1,<1.26,>=1.21.1 in /usr/local/lib/python3.7/dist-packages (from requests->otter-grader) (1.24.3)\n",
            "Requirement already satisfied: requests-oauthlib>=0.7.0 in /usr/local/lib/python3.7/dist-packages (from google-auth-oauthlib->otter-grader) (1.3.1)\n",
            "Requirement already satisfied: oauthlib>=3.0.0 in /usr/local/lib/python3.7/dist-packages (from requests-oauthlib>=0.7.0->google-auth-oauthlib->otter-grader) (3.2.0)\n",
            "Requirement already satisfied: traitlets>=4.1.0 in /usr/local/lib/python3.7/dist-packages (from ipykernel->otter-grader) (5.1.1)\n",
            "Requirement already satisfied: tornado>=4.0 in /usr/local/lib/python3.7/dist-packages (from ipykernel->otter-grader) (5.1.1)\n",
            "Requirement already satisfied: ipython>=4.0.0 in /usr/local/lib/python3.7/dist-packages (from ipykernel->otter-grader) (5.5.0)\n",
            "Requirement already satisfied: pexpect in /usr/local/lib/python3.7/dist-packages (from ipython>=4.0.0->ipykernel->otter-grader) (4.8.0)\n",
            "Requirement already satisfied: decorator in /usr/local/lib/python3.7/dist-packages (from ipython>=4.0.0->ipykernel->otter-grader) (4.4.2)\n",
            "Requirement already satisfied: simplegeneric>0.8 in /usr/local/lib/python3.7/dist-packages (from ipython>=4.0.0->ipykernel->otter-grader) (0.8.1)\n",
            "Requirement already satisfied: pygments in /usr/local/lib/python3.7/dist-packages (from ipython>=4.0.0->ipykernel->otter-grader) (2.6.1)\n",
            "Requirement already satisfied: prompt-toolkit<2.0.0,>=1.0.4 in /usr/local/lib/python3.7/dist-packages (from ipython>=4.0.0->ipykernel->otter-grader) (1.0.18)\n",
            "Requirement already satisfied: pickleshare in /usr/local/lib/python3.7/dist-packages (from ipython>=4.0.0->ipykernel->otter-grader) (0.7.5)\n",
            "Requirement already satisfied: wcwidth in /usr/local/lib/python3.7/dist-packages (from prompt-toolkit<2.0.0,>=1.0.4->ipython>=4.0.0->ipykernel->otter-grader) (0.2.5)\n",
            "Requirement already satisfied: MarkupSafe>=0.23 in /usr/local/lib/python3.7/dist-packages (from jinja2->otter-grader) (2.0.1)\n",
            "Requirement already satisfied: pyzmq>=13 in /usr/local/lib/python3.7/dist-packages (from jupyter-client->otter-grader) (23.0.0)\n",
            "Requirement already satisfied: jupyter-core>=4.6.0 in /usr/local/lib/python3.7/dist-packages (from jupyter-client->otter-grader) (4.10.0)\n",
            "Requirement already satisfied: python-dateutil>=2.1 in /usr/local/lib/python3.7/dist-packages (from jupyter-client->otter-grader) (2.8.2)\n",
            "Requirement already satisfied: numpy>=1.11 in /usr/local/lib/python3.7/dist-packages (from matplotlib->otter-grader) (1.21.6)\n",
            "Requirement already satisfied: kiwisolver>=1.0.1 in /usr/local/lib/python3.7/dist-packages (from matplotlib->otter-grader) (1.4.2)\n",
            "Requirement already satisfied: cycler>=0.10 in /usr/local/lib/python3.7/dist-packages (from matplotlib->otter-grader) (0.11.0)\n",
            "Requirement already satisfied: typing-extensions in /usr/local/lib/python3.7/dist-packages (from kiwisolver>=1.0.1->matplotlib->otter-grader) (4.2.0)\n",
            "Requirement already satisfied: mistune<2,>=0.8.1 in /usr/local/lib/python3.7/dist-packages (from nbconvert->otter-grader) (0.8.4)\n",
            "Requirement already satisfied: testpath in /usr/local/lib/python3.7/dist-packages (from nbconvert->otter-grader) (0.6.0)\n",
            "Requirement already satisfied: defusedxml in /usr/local/lib/python3.7/dist-packages (from nbconvert->otter-grader) (0.7.1)\n",
            "Requirement already satisfied: entrypoints>=0.2.2 in /usr/local/lib/python3.7/dist-packages (from nbconvert->otter-grader) (0.4)\n",
            "Requirement already satisfied: pandocfilters>=1.4.1 in /usr/local/lib/python3.7/dist-packages (from nbconvert->otter-grader) (1.5.0)\n",
            "Requirement already satisfied: bleach in /usr/local/lib/python3.7/dist-packages (from nbconvert->otter-grader) (5.0.0)\n",
            "Requirement already satisfied: jsonschema>=2.6 in /usr/local/lib/python3.7/dist-packages (from nbformat->otter-grader) (4.3.3)\n",
            "Requirement already satisfied: fastjsonschema in /usr/local/lib/python3.7/dist-packages (from nbformat->otter-grader) (2.15.3)\n",
            "Requirement already satisfied: importlib-resources>=1.4.0 in /usr/local/lib/python3.7/dist-packages (from jsonschema>=2.6->nbformat->otter-grader) (5.7.1)\n",
            "Requirement already satisfied: pyrsistent!=0.17.0,!=0.17.1,!=0.17.2,>=0.14.0 in /usr/local/lib/python3.7/dist-packages (from jsonschema>=2.6->nbformat->otter-grader) (0.18.1)\n",
            "Requirement already satisfied: importlib-metadata in /usr/local/lib/python3.7/dist-packages (from jsonschema>=2.6->nbformat->otter-grader) (4.11.3)\n",
            "Requirement already satisfied: attrs>=17.4.0 in /usr/local/lib/python3.7/dist-packages (from jsonschema>=2.6->nbformat->otter-grader) (21.4.0)\n",
            "Requirement already satisfied: zipp>=3.1.0 in /usr/local/lib/python3.7/dist-packages (from importlib-resources>=1.4.0->jsonschema>=2.6->nbformat->otter-grader) (3.8.0)\n",
            "Requirement already satisfied: webencodings in /usr/local/lib/python3.7/dist-packages (from bleach->nbconvert->otter-grader) (0.5.1)\n",
            "Requirement already satisfied: ptyprocess>=0.5 in /usr/local/lib/python3.7/dist-packages (from pexpect->ipython>=4.0.0->ipykernel->otter-grader) (0.7.0)\n",
            "Requirement already satisfied: pydantic in /usr/local/lib/python3.7/dist-packages (from python-on-whales->otter-grader) (1.9.1)\n",
            "Requirement already satisfied: tqdm in /usr/local/lib/python3.7/dist-packages (from python-on-whales->otter-grader) (4.64.0)\n",
            "Requirement already satisfied: typer>=0.4.1 in /usr/local/lib/python3.7/dist-packages (from python-on-whales->otter-grader) (0.4.1)\n",
            "Requirement already satisfied: click<9.0.0,>=7.1.1 in /usr/local/lib/python3.7/dist-packages (from typer>=0.4.1->python-on-whales->otter-grader) (7.1.2)\n"
          ]
        }
      ],
      "source": [
        "# Initialize Otter\n",
        "!pip install otter-grader\n",
        "import otter\n",
        "grader = otter.Notebook(\"lab10.ipynb\")"
      ]
    },
    {
      "cell_type": "markdown",
      "metadata": {
        "nbgrader": {
          "grade": false,
          "grade_id": "title",
          "locked": true,
          "schema_version": 2,
          "solution": false
        },
        "id": "gE27q6t4zMQ0"
      },
      "source": [
        "# Lab 10: Feature Engineering & Cross-Validation\n",
        "In this lab, you will practice using `scikit-learn` to do feature engineering and cross-validation to produce a model with low error on held-out data.\n",
        "\n",
        "### Due Date \n",
        "This assignment is due on **Thursday, November 4th at 11:59pm PDT**.\n",
        "\n",
        "### Collaboration Policy\n",
        "Data science is a collaborative activity. While you may talk with others about this assignment, we ask that you **write your solutions individually**. If you discuss the assignment with others, please **include their names** in the cell below."
      ]
    },
    {
      "cell_type": "markdown",
      "metadata": {
        "id": "VQs3O4ZDzMQ6"
      },
      "source": [
        "**Collaborators:** *list names here*"
      ]
    },
    {
      "cell_type": "code",
      "execution_count": 54,
      "metadata": {
        "nbgrader": {
          "grade": false,
          "grade_id": "setup",
          "locked": true,
          "schema_version": 2,
          "solution": false
        },
        "id": "ruRsDt51zMQ8"
      },
      "outputs": [],
      "source": [
        "# Run this cell to set up your notebook\n",
        "import seaborn as sns\n",
        "import csv\n",
        "import numpy as np\n",
        "import pandas as pd\n",
        "import matplotlib.pyplot as plt\n",
        "%matplotlib inline\n",
        "sns.set()\n",
        "sns.set_context(\"talk\")\n",
        "\n",
        "from IPython.display import display, Latex, Markdown"
      ]
    },
    {
      "cell_type": "markdown",
      "metadata": {
        "nbgrader": {
          "grade": false,
          "grade_id": "intro",
          "locked": true,
          "schema_version": 2,
          "solution": false
        },
        "id": "7epPnbR9zMQ_"
      },
      "source": [
        "### Introduction\n",
        "\n",
        "For this lab, we will use a toy dataset to predict the house prices in Boston with data provided by the `sklearn.datasets` package. There are more interesting datasets in the package if you want to explore them during your free time!\n",
        "\n",
        "Run the following cell to load the data. `load_boston()` will return a dictionary object which includes keys for:\n",
        "- `data` : the covariates (X)\n",
        "- `target` : the response vector (Y)\n",
        "- `feature_names`: the column names\n",
        "- `DESCR` : a full description of the data\n",
        "- `filename`: name of the csv file\n"
      ]
    },
    {
      "cell_type": "code",
      "execution_count": 55,
      "metadata": {
        "nbgrader": {
          "grade": false,
          "grade_id": "load_data",
          "locked": true,
          "schema_version": 2,
          "solution": false
        },
        "scrolled": true,
        "id": "Q_nd-cnZzMRA",
        "outputId": "a1e12489-6e2a-450d-939e-f7dd3ac402a2",
        "colab": {
          "base_uri": "https://localhost:8080/"
        }
      },
      "outputs": [
        {
          "output_type": "stream",
          "name": "stdout",
          "text": [
            "dict_keys(['data', 'target', 'feature_names', 'DESCR', 'filename', 'data_module'])\n"
          ]
        },
        {
          "output_type": "stream",
          "name": "stderr",
          "text": [
            "/usr/local/lib/python3.7/dist-packages/sklearn/utils/deprecation.py:87: FutureWarning: Function load_boston is deprecated; `load_boston` is deprecated in 1.0 and will be removed in 1.2.\n",
            "\n",
            "    The Boston housing prices dataset has an ethical problem. You can refer to\n",
            "    the documentation of this function for further details.\n",
            "\n",
            "    The scikit-learn maintainers therefore strongly discourage the use of this\n",
            "    dataset unless the purpose of the code is to study and educate about\n",
            "    ethical issues in data science and machine learning.\n",
            "\n",
            "    In this special case, you can fetch the dataset from the original\n",
            "    source::\n",
            "\n",
            "        import pandas as pd\n",
            "        import numpy as np\n",
            "\n",
            "\n",
            "        data_url = \"http://lib.stat.cmu.edu/datasets/boston\"\n",
            "        raw_df = pd.read_csv(data_url, sep=\"\\s+\", skiprows=22, header=None)\n",
            "        data = np.hstack([raw_df.values[::2, :], raw_df.values[1::2, :2]])\n",
            "        target = raw_df.values[1::2, 2]\n",
            "\n",
            "    Alternative datasets include the California housing dataset (i.e.\n",
            "    :func:`~sklearn.datasets.fetch_california_housing`) and the Ames housing\n",
            "    dataset. You can load the datasets as follows::\n",
            "\n",
            "        from sklearn.datasets import fetch_california_housing\n",
            "        housing = fetch_california_housing()\n",
            "\n",
            "    for the California housing dataset and::\n",
            "\n",
            "        from sklearn.datasets import fetch_openml\n",
            "        housing = fetch_openml(name=\"house_prices\", as_frame=True)\n",
            "\n",
            "    for the Ames housing dataset.\n",
            "    \n",
            "  warnings.warn(msg, category=FutureWarning)\n"
          ]
        }
      ],
      "source": [
        "from sklearn.datasets import load_boston\n",
        "\n",
        "boston_data = load_boston()\n",
        "print(boston_data.keys())"
      ]
    },
    {
      "cell_type": "code",
      "execution_count": 56,
      "metadata": {
        "id": "SiFcrXDZzMRC",
        "outputId": "c5adcac2-d1ad-4abe-ddb7-2277fd2f72c1",
        "colab": {
          "base_uri": "https://localhost:8080/"
        }
      },
      "outputs": [
        {
          "output_type": "stream",
          "name": "stdout",
          "text": [
            ".. _boston_dataset:\n",
            "\n",
            "Boston house prices dataset\n",
            "---------------------------\n",
            "\n",
            "**Data Set Characteristics:**  \n",
            "\n",
            "    :Number of Instances: 506 \n",
            "\n",
            "    :Number of Attributes: 13 numeric/categorical predictive. Median Value (attribute 14) is usually the target.\n",
            "\n",
            "    :Attribute Information (in order):\n",
            "        - CRIM     per capita crime rate by town\n",
            "        - ZN       proportion of residential land zoned for lots over 25,000 sq.ft.\n",
            "        - INDUS    proportion of non-retail business acres per town\n",
            "        - CHAS     Charles River dummy variable (= 1 if tract bounds river; 0 otherwise)\n",
            "        - NOX      nitric oxides concentration (parts per 10 million)\n",
            "        - RM       average number of rooms per dwelling\n",
            "        - AGE      proportion of owner-occupied units built prior to 1940\n",
            "        - DIS      weighted distances to five Boston employment centres\n",
            "        - RAD      index of accessibility to radial highways\n",
            "        - TAX      full-value property-tax rate per $10,000\n",
            "        - PTRATIO  pupil-teacher ratio by town\n",
            "        - B        1000(Bk - 0.63)^2 where Bk is the proportion of black people by town\n",
            "        - LSTAT    % lower status of the population\n",
            "        - MEDV     Median value of owner-occupied homes in $1000's\n",
            "\n",
            "    :Missing Attribute Values: None\n",
            "\n",
            "    :Creator: Harrison, D. and Rubinfeld, D.L.\n",
            "\n",
            "This is a copy of UCI ML housing dataset.\n",
            "https://archive.ics.uci.edu/ml/machine-learning-databases/housing/\n",
            "\n",
            "\n",
            "This dataset was taken from the StatLib library which is maintained at Carnegie Mellon University.\n",
            "\n",
            "The Boston house-price data of Harrison, D. and Rubinfeld, D.L. 'Hedonic\n",
            "prices and the demand for clean air', J. Environ. Economics & Management,\n",
            "vol.5, 81-102, 1978.   Used in Belsley, Kuh & Welsch, 'Regression diagnostics\n",
            "...', Wiley, 1980.   N.B. Various transformations are used in the table on\n",
            "pages 244-261 of the latter.\n",
            "\n",
            "The Boston house-price data has been used in many machine learning papers that address regression\n",
            "problems.   \n",
            "     \n",
            ".. topic:: References\n",
            "\n",
            "   - Belsley, Kuh & Welsch, 'Regression diagnostics: Identifying Influential Data and Sources of Collinearity', Wiley, 1980. 244-261.\n",
            "   - Quinlan,R. (1993). Combining Instance-Based and Model-Based Learning. In Proceedings on the Tenth International Conference of Machine Learning, 236-243, University of Massachusetts, Amherst. Morgan Kaufmann.\n",
            "\n"
          ]
        }
      ],
      "source": [
        "print(boston_data['DESCR'])"
      ]
    },
    {
      "cell_type": "markdown",
      "metadata": {
        "nbgrader": {
          "grade": false,
          "grade_id": "data_description",
          "locked": true,
          "schema_version": 2,
          "solution": false
        },
        "id": "CuYtzzprzMRF"
      },
      "source": [
        "A look at the `DESCR` attribute tells us the data contains these features:\n",
        "\n",
        "    1. CRIM      per capita crime rate by town\n",
        "    2. ZN        proportion of residential land zoned for lots over \n",
        "                 25,000 sq.ft.\n",
        "    3. INDUS     proportion of non-retail business acres per town\n",
        "    4. CHAS      Charles River dummy variable (= 1 if tract bounds \n",
        "                 river; 0 otherwise)\n",
        "    5. NOX       nitric oxides concentration (parts per 10 million)\n",
        "    6. RM        average number of rooms per dwelling\n",
        "    7. AGE       proportion of owner-occupied units built prior to 1940\n",
        "    8. DIS       weighted distances to five Boston employment centres\n",
        "    9. RAD       index of accessibility to radial highways\n",
        "    10. TAX      full-value property-tax rate per 10,000 USD\n",
        "    11. PTRATIO  pupil-teacher ratio by town\n",
        "    12. B        1000(Bk - 0.63)^2 where Bk is the proportion of black \n",
        "                 residents by town\n",
        "    13. LSTAT    % lower status of the population\n",
        "    \n",
        "Let's now convert this data into a pandas DataFrame. "
      ]
    },
    {
      "cell_type": "code",
      "execution_count": 57,
      "metadata": {
        "nbgrader": {
          "grade": false,
          "grade_id": "data_head",
          "locked": true,
          "schema_version": 2,
          "solution": false
        },
        "id": "61U2Z4RYzMRI",
        "outputId": "f3d3ba56-79a8-4232-8778-255e7540884d",
        "colab": {
          "base_uri": "https://localhost:8080/",
          "height": 206
        }
      },
      "outputs": [
        {
          "output_type": "execute_result",
          "data": {
            "text/plain": [
              "      CRIM    ZN  INDUS  CHAS    NOX     RM   AGE     DIS  RAD    TAX  \\\n",
              "0  0.00632  18.0   2.31   0.0  0.538  6.575  65.2  4.0900  1.0  296.0   \n",
              "1  0.02731   0.0   7.07   0.0  0.469  6.421  78.9  4.9671  2.0  242.0   \n",
              "2  0.02729   0.0   7.07   0.0  0.469  7.185  61.1  4.9671  2.0  242.0   \n",
              "3  0.03237   0.0   2.18   0.0  0.458  6.998  45.8  6.0622  3.0  222.0   \n",
              "4  0.06905   0.0   2.18   0.0  0.458  7.147  54.2  6.0622  3.0  222.0   \n",
              "\n",
              "   PTRATIO       B  LSTAT  \n",
              "0     15.3  396.90   4.98  \n",
              "1     17.8  396.90   9.14  \n",
              "2     17.8  392.83   4.03  \n",
              "3     18.7  394.63   2.94  \n",
              "4     18.7  396.90   5.33  "
            ],
            "text/html": [
              "\n",
              "  <div id=\"df-497dcf52-cb46-42e8-ba0d-8732b910bd93\">\n",
              "    <div class=\"colab-df-container\">\n",
              "      <div>\n",
              "<style scoped>\n",
              "    .dataframe tbody tr th:only-of-type {\n",
              "        vertical-align: middle;\n",
              "    }\n",
              "\n",
              "    .dataframe tbody tr th {\n",
              "        vertical-align: top;\n",
              "    }\n",
              "\n",
              "    .dataframe thead th {\n",
              "        text-align: right;\n",
              "    }\n",
              "</style>\n",
              "<table border=\"1\" class=\"dataframe\">\n",
              "  <thead>\n",
              "    <tr style=\"text-align: right;\">\n",
              "      <th></th>\n",
              "      <th>CRIM</th>\n",
              "      <th>ZN</th>\n",
              "      <th>INDUS</th>\n",
              "      <th>CHAS</th>\n",
              "      <th>NOX</th>\n",
              "      <th>RM</th>\n",
              "      <th>AGE</th>\n",
              "      <th>DIS</th>\n",
              "      <th>RAD</th>\n",
              "      <th>TAX</th>\n",
              "      <th>PTRATIO</th>\n",
              "      <th>B</th>\n",
              "      <th>LSTAT</th>\n",
              "    </tr>\n",
              "  </thead>\n",
              "  <tbody>\n",
              "    <tr>\n",
              "      <th>0</th>\n",
              "      <td>0.00632</td>\n",
              "      <td>18.0</td>\n",
              "      <td>2.31</td>\n",
              "      <td>0.0</td>\n",
              "      <td>0.538</td>\n",
              "      <td>6.575</td>\n",
              "      <td>65.2</td>\n",
              "      <td>4.0900</td>\n",
              "      <td>1.0</td>\n",
              "      <td>296.0</td>\n",
              "      <td>15.3</td>\n",
              "      <td>396.90</td>\n",
              "      <td>4.98</td>\n",
              "    </tr>\n",
              "    <tr>\n",
              "      <th>1</th>\n",
              "      <td>0.02731</td>\n",
              "      <td>0.0</td>\n",
              "      <td>7.07</td>\n",
              "      <td>0.0</td>\n",
              "      <td>0.469</td>\n",
              "      <td>6.421</td>\n",
              "      <td>78.9</td>\n",
              "      <td>4.9671</td>\n",
              "      <td>2.0</td>\n",
              "      <td>242.0</td>\n",
              "      <td>17.8</td>\n",
              "      <td>396.90</td>\n",
              "      <td>9.14</td>\n",
              "    </tr>\n",
              "    <tr>\n",
              "      <th>2</th>\n",
              "      <td>0.02729</td>\n",
              "      <td>0.0</td>\n",
              "      <td>7.07</td>\n",
              "      <td>0.0</td>\n",
              "      <td>0.469</td>\n",
              "      <td>7.185</td>\n",
              "      <td>61.1</td>\n",
              "      <td>4.9671</td>\n",
              "      <td>2.0</td>\n",
              "      <td>242.0</td>\n",
              "      <td>17.8</td>\n",
              "      <td>392.83</td>\n",
              "      <td>4.03</td>\n",
              "    </tr>\n",
              "    <tr>\n",
              "      <th>3</th>\n",
              "      <td>0.03237</td>\n",
              "      <td>0.0</td>\n",
              "      <td>2.18</td>\n",
              "      <td>0.0</td>\n",
              "      <td>0.458</td>\n",
              "      <td>6.998</td>\n",
              "      <td>45.8</td>\n",
              "      <td>6.0622</td>\n",
              "      <td>3.0</td>\n",
              "      <td>222.0</td>\n",
              "      <td>18.7</td>\n",
              "      <td>394.63</td>\n",
              "      <td>2.94</td>\n",
              "    </tr>\n",
              "    <tr>\n",
              "      <th>4</th>\n",
              "      <td>0.06905</td>\n",
              "      <td>0.0</td>\n",
              "      <td>2.18</td>\n",
              "      <td>0.0</td>\n",
              "      <td>0.458</td>\n",
              "      <td>7.147</td>\n",
              "      <td>54.2</td>\n",
              "      <td>6.0622</td>\n",
              "      <td>3.0</td>\n",
              "      <td>222.0</td>\n",
              "      <td>18.7</td>\n",
              "      <td>396.90</td>\n",
              "      <td>5.33</td>\n",
              "    </tr>\n",
              "  </tbody>\n",
              "</table>\n",
              "</div>\n",
              "      <button class=\"colab-df-convert\" onclick=\"convertToInteractive('df-497dcf52-cb46-42e8-ba0d-8732b910bd93')\"\n",
              "              title=\"Convert this dataframe to an interactive table.\"\n",
              "              style=\"display:none;\">\n",
              "        \n",
              "  <svg xmlns=\"http://www.w3.org/2000/svg\" height=\"24px\"viewBox=\"0 0 24 24\"\n",
              "       width=\"24px\">\n",
              "    <path d=\"M0 0h24v24H0V0z\" fill=\"none\"/>\n",
              "    <path d=\"M18.56 5.44l.94 2.06.94-2.06 2.06-.94-2.06-.94-.94-2.06-.94 2.06-2.06.94zm-11 1L8.5 8.5l.94-2.06 2.06-.94-2.06-.94L8.5 2.5l-.94 2.06-2.06.94zm10 10l.94 2.06.94-2.06 2.06-.94-2.06-.94-.94-2.06-.94 2.06-2.06.94z\"/><path d=\"M17.41 7.96l-1.37-1.37c-.4-.4-.92-.59-1.43-.59-.52 0-1.04.2-1.43.59L10.3 9.45l-7.72 7.72c-.78.78-.78 2.05 0 2.83L4 21.41c.39.39.9.59 1.41.59.51 0 1.02-.2 1.41-.59l7.78-7.78 2.81-2.81c.8-.78.8-2.07 0-2.86zM5.41 20L4 18.59l7.72-7.72 1.47 1.35L5.41 20z\"/>\n",
              "  </svg>\n",
              "      </button>\n",
              "      \n",
              "  <style>\n",
              "    .colab-df-container {\n",
              "      display:flex;\n",
              "      flex-wrap:wrap;\n",
              "      gap: 12px;\n",
              "    }\n",
              "\n",
              "    .colab-df-convert {\n",
              "      background-color: #E8F0FE;\n",
              "      border: none;\n",
              "      border-radius: 50%;\n",
              "      cursor: pointer;\n",
              "      display: none;\n",
              "      fill: #1967D2;\n",
              "      height: 32px;\n",
              "      padding: 0 0 0 0;\n",
              "      width: 32px;\n",
              "    }\n",
              "\n",
              "    .colab-df-convert:hover {\n",
              "      background-color: #E2EBFA;\n",
              "      box-shadow: 0px 1px 2px rgba(60, 64, 67, 0.3), 0px 1px 3px 1px rgba(60, 64, 67, 0.15);\n",
              "      fill: #174EA6;\n",
              "    }\n",
              "\n",
              "    [theme=dark] .colab-df-convert {\n",
              "      background-color: #3B4455;\n",
              "      fill: #D2E3FC;\n",
              "    }\n",
              "\n",
              "    [theme=dark] .colab-df-convert:hover {\n",
              "      background-color: #434B5C;\n",
              "      box-shadow: 0px 1px 3px 1px rgba(0, 0, 0, 0.15);\n",
              "      filter: drop-shadow(0px 1px 2px rgba(0, 0, 0, 0.3));\n",
              "      fill: #FFFFFF;\n",
              "    }\n",
              "  </style>\n",
              "\n",
              "      <script>\n",
              "        const buttonEl =\n",
              "          document.querySelector('#df-497dcf52-cb46-42e8-ba0d-8732b910bd93 button.colab-df-convert');\n",
              "        buttonEl.style.display =\n",
              "          google.colab.kernel.accessAllowed ? 'block' : 'none';\n",
              "\n",
              "        async function convertToInteractive(key) {\n",
              "          const element = document.querySelector('#df-497dcf52-cb46-42e8-ba0d-8732b910bd93');\n",
              "          const dataTable =\n",
              "            await google.colab.kernel.invokeFunction('convertToInteractive',\n",
              "                                                     [key], {});\n",
              "          if (!dataTable) return;\n",
              "\n",
              "          const docLinkHtml = 'Like what you see? Visit the ' +\n",
              "            '<a target=\"_blank\" href=https://colab.research.google.com/notebooks/data_table.ipynb>data table notebook</a>'\n",
              "            + ' to learn more about interactive tables.';\n",
              "          element.innerHTML = '';\n",
              "          dataTable['output_type'] = 'display_data';\n",
              "          await google.colab.output.renderOutput(dataTable, element);\n",
              "          const docLink = document.createElement('div');\n",
              "          docLink.innerHTML = docLinkHtml;\n",
              "          element.appendChild(docLink);\n",
              "        }\n",
              "      </script>\n",
              "    </div>\n",
              "  </div>\n",
              "  "
            ]
          },
          "metadata": {},
          "execution_count": 57
        }
      ],
      "source": [
        "boston = pd.DataFrame(boston_data['data'], columns=boston_data['feature_names'])\n",
        "boston.head()"
      ]
    },
    {
      "cell_type": "markdown",
      "metadata": {
        "deletable": false,
        "editable": false,
        "nbgrader": {
          "grade": false,
          "grade_id": "q1_text",
          "locked": true,
          "schema_version": 2,
          "solution": false
        },
        "id": "KAsgHvyKzMRK"
      },
      "source": [
        "### Question 1\n",
        "\n",
        "Let's model this housing price data! Before we can do this, however, we need to split the data into training and test sets. Remember that the response vector (housing prices) lives in the `target` attribute. A random seed is set here so that we can deterministically generate the same splitting in the future if we want to test our result again and find potential bugs.\n",
        "\n",
        "Use the [`train_test_split`](http://scikit-learn.org/stable/modules/generated/sklearn.model_selection.train_test_split.html) function to split out 10% of the data for the test set. Call the resulting splits `X_train`, `X_test`, `Y_train`, `Y_test`.\n",
        "\n",
        "<!--\n",
        "BEGIN QUESTION\n",
        "name: q1\n",
        "-->"
      ]
    },
    {
      "cell_type": "code",
      "execution_count": 58,
      "metadata": {
        "nbgrader": {
          "grade": false,
          "grade_id": "q1_code",
          "locked": false,
          "schema_version": 2,
          "solution": true
        },
        "tags": [
          "student"
        ],
        "id": "kxWt7p5AzMRN"
      },
      "outputs": [],
      "source": [
        "from sklearn.model_selection import train_test_split\n",
        "np.random.seed(47)\n",
        "\n",
        "X = boston\n",
        "Y = pd.Series(boston_data['target'])\n",
        "\n",
        "X_train, X_test, Y_train, Y_test = train_test_split(X, Y, test_size = 0.10)"
      ]
    },
    {
      "cell_type": "code",
      "execution_count": 59,
      "metadata": {
        "deletable": false,
        "editable": false,
        "id": "5aDe7unyzMRP",
        "outputId": "16e14a1e-d6e0-41f3-c1a2-5c6f088c4f5e",
        "colab": {
          "base_uri": "https://localhost:8080/",
          "height": 46
        }
      },
      "outputs": [
        {
          "output_type": "execute_result",
          "data": {
            "text/plain": [
              "q1 results: All test cases passed!"
            ],
            "text/html": [
              "<p><strong><pre style='display: inline;'>q1</pre></strong> passed!</p>"
            ]
          },
          "metadata": {},
          "execution_count": 59
        }
      ],
      "source": [
        "grader.check(\"q1\")"
      ]
    },
    {
      "cell_type": "markdown",
      "metadata": {
        "deletable": false,
        "editable": false,
        "nbgrader": {
          "grade": false,
          "grade_id": "q2_text",
          "locked": true,
          "schema_version": 2,
          "solution": false
        },
        "id": "Ana3rwS_zMRQ"
      },
      "source": [
        "### Question 2\n",
        "\n",
        "As a warmup, fit a linear model to describe the relationship between the housing price and all available covariates. We've imported `sklearn.linear_model` as `lm`, so you can use that instead of typing out the whole module name. Fill in the cells below to fit a linear regression model to the covariates and create a scatter plot for our predictions vs. the true prices.\n",
        "\n",
        "<!--\n",
        "BEGIN QUESTION\n",
        "name: q2\n",
        "-->"
      ]
    },
    {
      "cell_type": "code",
      "execution_count": 60,
      "metadata": {
        "nbgrader": {
          "grade": false,
          "grade_id": "q2_code",
          "locked": false,
          "schema_version": 2,
          "solution": true
        },
        "tags": [
          "student"
        ],
        "id": "6Q88QdRVzMRQ",
        "outputId": "d69e4412-5fd9-4734-f08c-4b3628b04e67",
        "colab": {
          "base_uri": "https://localhost:8080/",
          "height": 321
        }
      },
      "outputs": [
        {
          "output_type": "display_data",
          "data": {
            "text/plain": [
              "<Figure size 432x288 with 1 Axes>"
            ],
            "image/png": "[encoded data removed]"
          },
          "metadata": {}
        }
      ],
      "source": [
        "import sklearn.linear_model as lm\n",
        "\n",
        "linear_model = lm.LinearRegression()\n",
        "\n",
        "# Fit your linear model\n",
        "linear_model.fit(X, Y)\n",
        "\n",
        "# Predict housing prices on the test set\n",
        "Y_pred = linear_model.predict(X_test)\n",
        "\n",
        "# Plot predicted vs true prices\n",
        "plt.scatter(Y_test, Y_pred, alpha=0.5)\n",
        "plt.xlabel(\"Prices\")\n",
        "plt.ylabel(\"Predicted Prices\")\n",
        "plt.title(\"Prices vs Predicted Prices\");"
      ]
    },
    {
      "cell_type": "markdown",
      "metadata": {
        "nbgrader": {
          "grade": false,
          "grade_id": "cell-655458f2b7de0645",
          "locked": true,
          "schema_version": 2,
          "solution": false
        },
        "id": "3lkQXtGzzMRR"
      },
      "source": [
        "Briefly analyze the scatter plot above. Do you notice any outliers? Write your answer in the cell below."
      ]
    },
    {
      "cell_type": "markdown",
      "metadata": {
        "id": "TDEdvP7CzMRR"
      },
      "source": [
        "Outlier at price = 50, predicted price = 23"
      ]
    },
    {
      "cell_type": "markdown",
      "metadata": {
        "deletable": false,
        "editable": false,
        "nbgrader": {
          "grade": false,
          "grade_id": "q3_text",
          "locked": true,
          "schema_version": 2,
          "solution": false
        },
        "id": "qF6APx-WzMRS"
      },
      "source": [
        "### Question 3\n",
        "\n",
        "As we find from the scatter plot, our model is not perfect. If it were perfect, we would see the identity line (i.e. a line of slope 1). Compute the root mean squared error (RMSE) of the predicted responses: \n",
        "\n",
        "$$\n",
        "\\textbf{RMSE} = \\sqrt{\\frac{1}{n}\\sum_{i=1}^n \\left( y_i - \\hat{y}_i \\right)^2 }\n",
        "$$\n",
        "\n",
        "Fill out the function below and compute the RMSE for our predictions on both the training data `X_train` and the test set `X_test`.  Your implementation **should not** use for loops.\n",
        "\n",
        "<!--\n",
        "BEGIN QUESTION\n",
        "name: q3\n",
        "-->"
      ]
    },
    {
      "cell_type": "code",
      "execution_count": 61,
      "metadata": {
        "nbgrader": {
          "grade": false,
          "grade_id": "q3_code",
          "locked": false,
          "schema_version": 2,
          "solution": true
        },
        "tags": [
          "student"
        ],
        "id": "OY7tH_tEzMRT",
        "outputId": "a54fd554-3eb7-4398-d744-7f01162e9100",
        "colab": {
          "base_uri": "https://localhost:8080/"
        }
      },
      "outputs": [
        {
          "output_type": "stream",
          "name": "stdout",
          "text": [
            "Training RMSE: 4.593607962692057\n",
            "Test RMSE: 5.382839573674798\n"
          ]
        }
      ],
      "source": [
        "def rmse(actual_y, predicted_y):\n",
        "    \"\"\"\n",
        "    Args:\n",
        "        predicted_y: an array of the prediction from the model\n",
        "        actual_y: an array of the groudtruth label\n",
        "        \n",
        "    Returns:\n",
        "        The root mean square error between the prediction and the groudtruth\n",
        "    \"\"\"\n",
        "    return np.sqrt(sum((actual_y - predicted_y)**2)/len(actual_y))\n",
        "#end rmse\n",
        "Y_pred_train = linear_model.predict(X_train)\n",
        "train_error = rmse(Y_train, Y_pred_train)\n",
        "test_error = rmse(Y_test, Y_pred)\n",
        "\n",
        "print(\"Training RMSE:\", train_error)\n",
        "print(\"Test RMSE:\", test_error)"
      ]
    },
    {
      "cell_type": "code",
      "execution_count": 62,
      "metadata": {
        "deletable": false,
        "editable": false,
        "id": "7ekcnP7uzMRV",
        "outputId": "ea92d16e-882c-4c9f-ffe0-b60e25e6ded7",
        "colab": {
          "base_uri": "https://localhost:8080/",
          "height": 278
        }
      },
      "outputs": [
        {
          "output_type": "execute_result",
          "data": {
            "text/plain": [
              "q3 results:\n",
              "    q3 - 1 result:\n",
              "        Trying:\n",
              "            np.allclose((train_error, test_error), (4.56230596093393, 5.887073477757788))\n",
              "        Expecting:\n",
              "            True\n",
              "        **********************************************************************\n",
              "        Line 1, in q3 0\n",
              "        Failed example:\n",
              "            np.allclose((train_error, test_error), (4.56230596093393, 5.887073477757788))\n",
              "        Expected:\n",
              "            True\n",
              "        Got:\n",
              "            False"
            ],
            "text/html": [
              "<p><strong style='color: red;'><pre style='display: inline;'>q3</pre> results:</strong></p><p><strong><pre style='display: inline;'>q3 - 1</pre> result:</strong></p><pre>    Trying:\n",
              "        np.allclose((train_error, test_error), (4.56230596093393, 5.887073477757788))\n",
              "    Expecting:\n",
              "        True\n",
              "    **********************************************************************\n",
              "    Line 1, in q3 0\n",
              "    Failed example:\n",
              "        np.allclose((train_error, test_error), (4.56230596093393, 5.887073477757788))\n",
              "    Expected:\n",
              "        True\n",
              "    Got:\n",
              "        False\n",
              "</pre>"
            ]
          },
          "metadata": {},
          "execution_count": 62
        }
      ],
      "source": [
        "grader.check(\"q3\")"
      ]
    },
    {
      "cell_type": "markdown",
      "metadata": {
        "nbgrader": {
          "grade": false,
          "grade_id": "cell-0f349e0d791db2f2",
          "locked": true,
          "schema_version": 2,
          "solution": false
        },
        "id": "BnUOzF9UzMRW"
      },
      "source": [
        "Is your training error lower than the test error? If so, why could this be happening? Answer in the cell below."
      ]
    },
    {
      "cell_type": "code",
      "source": [
        "print(len(X_train))\n",
        "print(len(X_test))"
      ],
      "metadata": {
        "id": "fyZh2Tqj9WSJ",
        "outputId": "aabd44e3-aead-4e01-f451-a02db9ed1d22",
        "colab": {
          "base_uri": "https://localhost:8080/"
        }
      },
      "execution_count": 63,
      "outputs": [
        {
          "output_type": "stream",
          "name": "stdout",
          "text": [
            "455\n",
            "51\n"
          ]
        }
      ]
    },
    {
      "cell_type": "markdown",
      "metadata": {
        "id": "SKekdqwbzMRY"
      },
      "source": [
        "My training error is lower than my test error. This says that the model more closely matches the training set than the test set. This could be becuase the training set is much larger (455) than the test set (51) and the model is fit/trained using all of the data."
      ]
    },
    {
      "cell_type": "markdown",
      "metadata": {
        "id": "zaOeMGVHzMRY"
      },
      "source": [
        "## Overfitting"
      ]
    },
    {
      "cell_type": "markdown",
      "metadata": {
        "id": "NP-Hx3TKzMRZ"
      },
      "source": [
        "Sometimes we can get even higher accuracy by adding more features. For example, the code below adds the square, square root, and hyperbolic tangent of every feature to the design matrix. We've chosen these bizarre features specifically to highlight overfitting."
      ]
    },
    {
      "cell_type": "code",
      "execution_count": 64,
      "metadata": {
        "id": "n2n5111VzMRa",
        "outputId": "6dce94b7-676d-4567-d838-0fba1db567d3",
        "colab": {
          "base_uri": "https://localhost:8080/",
          "height": 300
        }
      },
      "outputs": [
        {
          "output_type": "execute_result",
          "data": {
            "text/plain": [
              "      CRIM    ZN  INDUS  CHAS    NOX     RM   AGE     DIS  RAD    TAX  ...  \\\n",
              "0  0.00632  18.0   2.31   0.0  0.538  6.575  65.2  4.0900  1.0  296.0  ...   \n",
              "1  0.02731   0.0   7.07   0.0  0.469  6.421  78.9  4.9671  2.0  242.0  ...   \n",
              "2  0.02729   0.0   7.07   0.0  0.469  7.185  61.1  4.9671  2.0  242.0  ...   \n",
              "3  0.03237   0.0   2.18   0.0  0.458  6.998  45.8  6.0622  3.0  222.0  ...   \n",
              "4  0.06905   0.0   2.18   0.0  0.458  7.147  54.2  6.0622  3.0  222.0  ...   \n",
              "\n",
              "   tanhTAX  PTRATIO^2  sqrtPTRATIO  tanhPTRATIO          B^2      sqrtB  \\\n",
              "0      1.0     234.09     3.911521          1.0  157529.6100  19.922349   \n",
              "1      1.0     316.84     4.219005          1.0  157529.6100  19.922349   \n",
              "2      1.0     316.84     4.219005          1.0  154315.4089  19.819939   \n",
              "3      1.0     349.69     4.324350          1.0  155732.8369  19.865296   \n",
              "4      1.0     349.69     4.324350          1.0  157529.6100  19.922349   \n",
              "\n",
              "   tanhB  LSTAT^2  sqrtLSTAT  tanhLSTAT  \n",
              "0    1.0  24.8004   2.231591   0.999905  \n",
              "1    1.0  83.5396   3.023243   1.000000  \n",
              "2    1.0  16.2409   2.007486   0.999368  \n",
              "3    1.0   8.6436   1.714643   0.994426  \n",
              "4    1.0  28.4089   2.308679   0.999953  \n",
              "\n",
              "[5 rows x 52 columns]"
            ],
            "text/html": [
              "\n",
              "  <div id=\"df-1b01da51-8c3a-43fc-8c4d-32c507fe8cf8\">\n",
              "    <div class=\"colab-df-container\">\n",
              "      <div>\n",
              "<style scoped>\n",
              "    .dataframe tbody tr th:only-of-type {\n",
              "        vertical-align: middle;\n",
              "    }\n",
              "\n",
              "    .dataframe tbody tr th {\n",
              "        vertical-align: top;\n",
              "    }\n",
              "\n",
              "    .dataframe thead th {\n",
              "        text-align: right;\n",
              "    }\n",
              "</style>\n",
              "<table border=\"1\" class=\"dataframe\">\n",
              "  <thead>\n",
              "    <tr style=\"text-align: right;\">\n",
              "      <th></th>\n",
              "      <th>CRIM</th>\n",
              "      <th>ZN</th>\n",
              "      <th>INDUS</th>\n",
              "      <th>CHAS</th>\n",
              "      <th>NOX</th>\n",
              "      <th>RM</th>\n",
              "      <th>AGE</th>\n",
              "      <th>DIS</th>\n",
              "      <th>RAD</th>\n",
              "      <th>TAX</th>\n",
              "      <th>...</th>\n",
              "      <th>tanhTAX</th>\n",
              "      <th>PTRATIO^2</th>\n",
              "      <th>sqrtPTRATIO</th>\n",
              "      <th>tanhPTRATIO</th>\n",
              "      <th>B^2</th>\n",
              "      <th>sqrtB</th>\n",
              "      <th>tanhB</th>\n",
              "      <th>LSTAT^2</th>\n",
              "      <th>sqrtLSTAT</th>\n",
              "      <th>tanhLSTAT</th>\n",
              "    </tr>\n",
              "  </thead>\n",
              "  <tbody>\n",
              "    <tr>\n",
              "      <th>0</th>\n",
              "      <td>0.00632</td>\n",
              "      <td>18.0</td>\n",
              "      <td>2.31</td>\n",
              "      <td>0.0</td>\n",
              "      <td>0.538</td>\n",
              "      <td>6.575</td>\n",
              "      <td>65.2</td>\n",
              "      <td>4.0900</td>\n",
              "      <td>1.0</td>\n",
              "      <td>296.0</td>\n",
              "      <td>...</td>\n",
              "      <td>1.0</td>\n",
              "      <td>234.09</td>\n",
              "      <td>3.911521</td>\n",
              "      <td>1.0</td>\n",
              "      <td>157529.6100</td>\n",
              "      <td>19.922349</td>\n",
              "      <td>1.0</td>\n",
              "      <td>24.8004</td>\n",
              "      <td>2.231591</td>\n",
              "      <td>0.999905</td>\n",
              "    </tr>\n",
              "    <tr>\n",
              "      <th>1</th>\n",
              "      <td>0.02731</td>\n",
              "      <td>0.0</td>\n",
              "      <td>7.07</td>\n",
              "      <td>0.0</td>\n",
              "      <td>0.469</td>\n",
              "      <td>6.421</td>\n",
              "      <td>78.9</td>\n",
              "      <td>4.9671</td>\n",
              "      <td>2.0</td>\n",
              "      <td>242.0</td>\n",
              "      <td>...</td>\n",
              "      <td>1.0</td>\n",
              "      <td>316.84</td>\n",
              "      <td>4.219005</td>\n",
              "      <td>1.0</td>\n",
              "      <td>157529.6100</td>\n",
              "      <td>19.922349</td>\n",
              "      <td>1.0</td>\n",
              "      <td>83.5396</td>\n",
              "      <td>3.023243</td>\n",
              "      <td>1.000000</td>\n",
              "    </tr>\n",
              "    <tr>\n",
              "      <th>2</th>\n",
              "      <td>0.02729</td>\n",
              "      <td>0.0</td>\n",
              "      <td>7.07</td>\n",
              "      <td>0.0</td>\n",
              "      <td>0.469</td>\n",
              "      <td>7.185</td>\n",
              "      <td>61.1</td>\n",
              "      <td>4.9671</td>\n",
              "      <td>2.0</td>\n",
              "      <td>242.0</td>\n",
              "      <td>...</td>\n",
              "      <td>1.0</td>\n",
              "      <td>316.84</td>\n",
              "      <td>4.219005</td>\n",
              "      <td>1.0</td>\n",
              "      <td>154315.4089</td>\n",
              "      <td>19.819939</td>\n",
              "      <td>1.0</td>\n",
              "      <td>16.2409</td>\n",
              "      <td>2.007486</td>\n",
              "      <td>0.999368</td>\n",
              "    </tr>\n",
              "    <tr>\n",
              "      <th>3</th>\n",
              "      <td>0.03237</td>\n",
              "      <td>0.0</td>\n",
              "      <td>2.18</td>\n",
              "      <td>0.0</td>\n",
              "      <td>0.458</td>\n",
              "      <td>6.998</td>\n",
              "      <td>45.8</td>\n",
              "      <td>6.0622</td>\n",
              "      <td>3.0</td>\n",
              "      <td>222.0</td>\n",
              "      <td>...</td>\n",
              "      <td>1.0</td>\n",
              "      <td>349.69</td>\n",
              "      <td>4.324350</td>\n",
              "      <td>1.0</td>\n",
              "      <td>155732.8369</td>\n",
              "      <td>19.865296</td>\n",
              "      <td>1.0</td>\n",
              "      <td>8.6436</td>\n",
              "      <td>1.714643</td>\n",
              "      <td>0.994426</td>\n",
              "    </tr>\n",
              "    <tr>\n",
              "      <th>4</th>\n",
              "      <td>0.06905</td>\n",
              "      <td>0.0</td>\n",
              "      <td>2.18</td>\n",
              "      <td>0.0</td>\n",
              "      <td>0.458</td>\n",
              "      <td>7.147</td>\n",
              "      <td>54.2</td>\n",
              "      <td>6.0622</td>\n",
              "      <td>3.0</td>\n",
              "      <td>222.0</td>\n",
              "      <td>...</td>\n",
              "      <td>1.0</td>\n",
              "      <td>349.69</td>\n",
              "      <td>4.324350</td>\n",
              "      <td>1.0</td>\n",
              "      <td>157529.6100</td>\n",
              "      <td>19.922349</td>\n",
              "      <td>1.0</td>\n",
              "      <td>28.4089</td>\n",
              "      <td>2.308679</td>\n",
              "      <td>0.999953</td>\n",
              "    </tr>\n",
              "  </tbody>\n",
              "</table>\n",
              "<p>5 rows × 52 columns</p>\n",
              "</div>\n",
              "      <button class=\"colab-df-convert\" onclick=\"convertToInteractive('df-1b01da51-8c3a-43fc-8c4d-32c507fe8cf8')\"\n",
              "              title=\"Convert this dataframe to an interactive table.\"\n",
              "              style=\"display:none;\">\n",
              "        \n",
              "  <svg xmlns=\"http://www.w3.org/2000/svg\" height=\"24px\"viewBox=\"0 0 24 24\"\n",
              "       width=\"24px\">\n",
              "    <path d=\"M0 0h24v24H0V0z\" fill=\"none\"/>\n",
              "    <path d=\"M18.56 5.44l.94 2.06.94-2.06 2.06-.94-2.06-.94-.94-2.06-.94 2.06-2.06.94zm-11 1L8.5 8.5l.94-2.06 2.06-.94-2.06-.94L8.5 2.5l-.94 2.06-2.06.94zm10 10l.94 2.06.94-2.06 2.06-.94-2.06-.94-.94-2.06-.94 2.06-2.06.94z\"/><path d=\"M17.41 7.96l-1.37-1.37c-.4-.4-.92-.59-1.43-.59-.52 0-1.04.2-1.43.59L10.3 9.45l-7.72 7.72c-.78.78-.78 2.05 0 2.83L4 21.41c.39.39.9.59 1.41.59.51 0 1.02-.2 1.41-.59l7.78-7.78 2.81-2.81c.8-.78.8-2.07 0-2.86zM5.41 20L4 18.59l7.72-7.72 1.47 1.35L5.41 20z\"/>\n",
              "  </svg>\n",
              "      </button>\n",
              "      \n",
              "  <style>\n",
              "    .colab-df-container {\n",
              "      display:flex;\n",
              "      flex-wrap:wrap;\n",
              "      gap: 12px;\n",
              "    }\n",
              "\n",
              "    .colab-df-convert {\n",
              "      background-color: #E8F0FE;\n",
              "      border: none;\n",
              "      border-radius: 50%;\n",
              "      cursor: pointer;\n",
              "      display: none;\n",
              "      fill: #1967D2;\n",
              "      height: 32px;\n",
              "      padding: 0 0 0 0;\n",
              "      width: 32px;\n",
              "    }\n",
              "\n",
              "    .colab-df-convert:hover {\n",
              "      background-color: #E2EBFA;\n",
              "      box-shadow: 0px 1px 2px rgba(60, 64, 67, 0.3), 0px 1px 3px 1px rgba(60, 64, 67, 0.15);\n",
              "      fill: #174EA6;\n",
              "    }\n",
              "\n",
              "    [theme=dark] .colab-df-convert {\n",
              "      background-color: #3B4455;\n",
              "      fill: #D2E3FC;\n",
              "    }\n",
              "\n",
              "    [theme=dark] .colab-df-convert:hover {\n",
              "      background-color: #434B5C;\n",
              "      box-shadow: 0px 1px 3px 1px rgba(0, 0, 0, 0.15);\n",
              "      filter: drop-shadow(0px 1px 2px rgba(0, 0, 0, 0.3));\n",
              "      fill: #FFFFFF;\n",
              "    }\n",
              "  </style>\n",
              "\n",
              "      <script>\n",
              "        const buttonEl =\n",
              "          document.querySelector('#df-1b01da51-8c3a-43fc-8c4d-32c507fe8cf8 button.colab-df-convert');\n",
              "        buttonEl.style.display =\n",
              "          google.colab.kernel.accessAllowed ? 'block' : 'none';\n",
              "\n",
              "        async function convertToInteractive(key) {\n",
              "          const element = document.querySelector('#df-1b01da51-8c3a-43fc-8c4d-32c507fe8cf8');\n",
              "          const dataTable =\n",
              "            await google.colab.kernel.invokeFunction('convertToInteractive',\n",
              "                                                     [key], {});\n",
              "          if (!dataTable) return;\n",
              "\n",
              "          const docLinkHtml = 'Like what you see? Visit the ' +\n",
              "            '<a target=\"_blank\" href=https://colab.research.google.com/notebooks/data_table.ipynb>data table notebook</a>'\n",
              "            + ' to learn more about interactive tables.';\n",
              "          element.innerHTML = '';\n",
              "          dataTable['output_type'] = 'display_data';\n",
              "          await google.colab.output.renderOutput(dataTable, element);\n",
              "          const docLink = document.createElement('div');\n",
              "          docLink.innerHTML = docLinkHtml;\n",
              "          element.appendChild(docLink);\n",
              "        }\n",
              "      </script>\n",
              "    </div>\n",
              "  </div>\n",
              "  "
            ]
          },
          "metadata": {},
          "execution_count": 64
        }
      ],
      "source": [
        "boston_with_extra_features = boston.copy()\n",
        "for feature_name in boston.columns:\n",
        "    boston_with_extra_features[feature_name + \"^2\"] = boston_with_extra_features[feature_name] ** 2\n",
        "    boston_with_extra_features[\"sqrt\" + feature_name] = np.sqrt(boston_with_extra_features[feature_name])\n",
        "    boston_with_extra_features[\"tanh\" + feature_name] = np.tanh(boston_with_extra_features[feature_name])\n",
        "    \n",
        "boston_with_extra_features.head(5)"
      ]
    },
    {
      "cell_type": "markdown",
      "metadata": {
        "id": "1v4tvFbxzMRa"
      },
      "source": [
        "We split up our data again and refit the model. From this cell forward, we append `2` to the variable names `X_Train, X_test, Y_train, Y_test, train_error, test_error` in order to maintain our original data. **Make sure you use these variable names from this cell forward**."
      ]
    },
    {
      "cell_type": "code",
      "execution_count": 65,
      "metadata": {
        "id": "brZT1bV-zMRb"
      },
      "outputs": [],
      "source": [
        "np.random.seed(32)\n",
        "X = boston_with_extra_features\n",
        "X_train2, X_test2, Y_train2, Y_test2 = train_test_split(X, Y, test_size = 0.10)\n",
        "linear_model.fit(X_train2, Y_train2);"
      ]
    },
    {
      "cell_type": "markdown",
      "metadata": {
        "id": "DiTladYTzMRc"
      },
      "source": [
        "Looking at our training and test RMSE, we see that they are lower than you computed earlier. This strange model is seemingly better, even though it includes seemingly useless features like the hyperbolic tangent of the average number of rooms per dwelling."
      ]
    },
    {
      "cell_type": "code",
      "execution_count": 66,
      "metadata": {
        "scrolled": true,
        "id": "YDhFP0oGzMRd",
        "outputId": "56aa49de-fadb-4653-87a1-87ffa75fe391",
        "colab": {
          "base_uri": "https://localhost:8080/"
        }
      },
      "outputs": [
        {
          "output_type": "stream",
          "name": "stdout",
          "text": [
            "Training RMSE: 3.2698705135205843\n",
            "Test RMSE: 5.1774348909532035\n"
          ]
        }
      ],
      "source": [
        "train_error2 = rmse(Y_train2, linear_model.predict(X_train2)) \n",
        "test_error2 = rmse(Y_test2, linear_model.predict(X_test2))\n",
        "\n",
        "print(\"Training RMSE:\", train_error2)\n",
        "print(\"Test RMSE:\", test_error2)"
      ]
    },
    {
      "cell_type": "markdown",
      "metadata": {
        "id": "5U0X0N0FzMRe"
      },
      "source": [
        "However, if we plot the training and test error as we add each additional feature, we see that our model is beginning to overfit. That is, even though our training error continues to decrease (since our model bias is decreasing), our test error starts increasing since the lessons learned from these last 20+ features aren't actually useful when applied to unseen data. That is, our model isn't generalizable."
      ]
    },
    {
      "cell_type": "code",
      "execution_count": 67,
      "metadata": {
        "id": "ZY_X3UeWzMRg",
        "outputId": "18807a1f-f5aa-47dd-ff5f-7a4cac337920",
        "colab": {
          "base_uri": "https://localhost:8080/",
          "height": 430
        }
      },
      "outputs": [
        {
          "output_type": "display_data",
          "data": {
            "text/plain": [
              "<Figure size 720x432 with 1 Axes>"
            ],
            "image/png": "[encoded data removed]"
          },
          "metadata": {}
        }
      ],
      "source": [
        "train_error_vs_N = []\n",
        "test_error_vs_N = []\n",
        "\n",
        "range_of_num_features = range(1, X_train2.shape[1] + 1)\n",
        "\n",
        "for N in range_of_num_features:\n",
        "    X_train_first_N_features = X_train2.iloc[:, :N]    \n",
        "    \n",
        "    linear_model.fit(X_train_first_N_features, Y_train2)\n",
        "    train_error_overfit = rmse(Y_train2, linear_model.predict(X_train_first_N_features))\n",
        "    train_error_vs_N.append(train_error_overfit)\n",
        "    \n",
        "    X_test_first_N_features = X_test2.iloc[:, :N]\n",
        "    test_error_overfit = rmse(Y_test2, linear_model.predict(X_test_first_N_features))    \n",
        "    test_error_vs_N.append(test_error_overfit)\n",
        "    \n",
        "plt.figure(figsize=(10, 6))\n",
        "plt.plot(range_of_num_features, train_error_vs_N)\n",
        "plt.plot(range_of_num_features, test_error_vs_N)\n",
        "plt.legend([\"training\", \"test error\"])\n",
        "plt.title('RMSE vs Number of Features')\n",
        "plt.xlabel(\"number of features\")\n",
        "plt.ylabel(\"RMSE\");"
      ]
    },
    {
      "cell_type": "markdown",
      "metadata": {
        "nbgrader": {
          "grade": false,
          "grade_id": "cv",
          "locked": true,
          "schema_version": 2,
          "solution": false
        },
        "id": "3rwPzMpmzMRh"
      },
      "source": [
        "## Cross Validation\n",
        "\n",
        "To figure out which feature set to use, we can use cross validation. Since there are 52 features, in theory, we could consider $2^{52}$ different models. For the sake of simplicity, we'll consider only 52 models, where the $i$th model includes features 1 through $i$. For example, the 3rd model would include the first 3 features only (\"CRIM\", \"ZN\", and \"INDUS\").\n",
        "\n",
        "While using fewer features may increase our training error, it may also decrease our test error and help prevent overfitting to the training set.\n",
        "\n",
        "You might ask, why don't we just use the plot above to find $p$, the optimal number of features? In real life, you'd NEVER generate this plot. Using the test set more than once for any reason is not a good idea. Otherwise, you're effectively using the test data to fit your hyperparameters (in this case, N, the number of features).\n",
        "\n",
        "In the next section, we'll instead use $k$-fold cross-validation to select the best subset of features for our model. Recall the approach looks something like:\n",
        "\n",
        "<img src=\"https://github.com/TheEvergreenStateCollege/week-2-hunter-a1/blob/main/lab/lab10/cv.png?raw=1\" width=500px>\n",
        "\n",
        "**Warning**: The above questions are to illustrate some general differences we can see between train set and test set and the phenomenon on overfitting, however, we **should not use the test set at all when selecting models**. Instead, we should use cross-validation to select the feature set. When selecting features or choosing hyper-parameters, we can split the training set further into multiple train and validation sets (each split is called a \"fold\", hence k-fold cross validation). We will use the average validation error across all k folds to help select the optimal hyper-parameters and feature set.\n",
        "\n",
        "**Furthermore,** selecting the first $N$ features, in general, is not a good way to select features, since the order of our columns is relatively meaningless. We present this as an example for you here to illustrate the concept of cross validation. In future assignments, we will look at more robust methods for feature selection."
      ]
    },
    {
      "cell_type": "markdown",
      "metadata": {
        "deletable": false,
        "editable": false,
        "nbgrader": {
          "grade": false,
          "grade_id": "q4_text",
          "locked": true,
          "schema_version": 2,
          "solution": false
        },
        "id": "WEcLxjNjzMRi"
      },
      "source": [
        "### Question 4\n",
        "\n",
        "Scikit-learn has built-in support for cross validation.  However, to better understand how cross validation works complete the following function which cross validates a given model.\n",
        "\n",
        "1. Use the [`KFold.split`](http://scikit-learn.org/stable/modules/generated/sklearn.model_selection.KFold.html) function to get 4 splits on the training data. Note that `split` returns the indices of the data for that split.\n",
        "2. For **each** split:\n",
        "    1. Select out the training and validation rows and columns based on the split indices and features.\n",
        "    2. Compute the RMSE on the validation split.\n",
        "    3. Return the average error across all cross validation splits.\n",
        "\n",
        "<!--\n",
        "BEGIN QUESTION\n",
        "name: q4\n",
        "-->"
      ]
    },
    {
      "cell_type": "code",
      "source": [
        "print(type(X_train))\n",
        "X_train[:4]"
      ],
      "metadata": {
        "id": "K41blNseDhLl",
        "outputId": "98a0debc-861b-40ba-d801-cc711d9a1cb7",
        "colab": {
          "base_uri": "https://localhost:8080/",
          "height": 192
        }
      },
      "execution_count": 73,
      "outputs": [
        {
          "output_type": "stream",
          "name": "stdout",
          "text": [
            "<class 'pandas.core.frame.DataFrame'>\n"
          ]
        },
        {
          "output_type": "execute_result",
          "data": {
            "text/plain": [
              "         CRIM   ZN  INDUS  CHAS    NOX     RM    AGE     DIS   RAD    TAX  \\\n",
              "206   0.22969  0.0  10.59   0.0  0.489  6.326   52.5  4.3549   4.0  277.0   \n",
              "404  41.52920  0.0  18.10   0.0  0.693  5.531   85.4  1.6074  24.0  666.0   \n",
              "318   0.40202  0.0   9.90   0.0  0.544  6.382   67.2  3.5325   4.0  304.0   \n",
              "373  11.10810  0.0  18.10   0.0  0.668  4.906  100.0  1.1742  24.0  666.0   \n",
              "\n",
              "     PTRATIO       B  LSTAT  \n",
              "206     18.6  394.87  10.97  \n",
              "404     20.2  329.46  27.38  \n",
              "318     18.4  395.21  10.36  \n",
              "373     20.2  396.90  34.77  "
            ],
            "text/html": [
              "\n",
              "  <div id=\"df-e9b19ac9-048e-4ac8-9dda-3effa0e161cf\">\n",
              "    <div class=\"colab-df-container\">\n",
              "      <div>\n",
              "<style scoped>\n",
              "    .dataframe tbody tr th:only-of-type {\n",
              "        vertical-align: middle;\n",
              "    }\n",
              "\n",
              "    .dataframe tbody tr th {\n",
              "        vertical-align: top;\n",
              "    }\n",
              "\n",
              "    .dataframe thead th {\n",
              "        text-align: right;\n",
              "    }\n",
              "</style>\n",
              "<table border=\"1\" class=\"dataframe\">\n",
              "  <thead>\n",
              "    <tr style=\"text-align: right;\">\n",
              "      <th></th>\n",
              "      <th>CRIM</th>\n",
              "      <th>ZN</th>\n",
              "      <th>INDUS</th>\n",
              "      <th>CHAS</th>\n",
              "      <th>NOX</th>\n",
              "      <th>RM</th>\n",
              "      <th>AGE</th>\n",
              "      <th>DIS</th>\n",
              "      <th>RAD</th>\n",
              "      <th>TAX</th>\n",
              "      <th>PTRATIO</th>\n",
              "      <th>B</th>\n",
              "      <th>LSTAT</th>\n",
              "    </tr>\n",
              "  </thead>\n",
              "  <tbody>\n",
              "    <tr>\n",
              "      <th>206</th>\n",
              "      <td>0.22969</td>\n",
              "      <td>0.0</td>\n",
              "      <td>10.59</td>\n",
              "      <td>0.0</td>\n",
              "      <td>0.489</td>\n",
              "      <td>6.326</td>\n",
              "      <td>52.5</td>\n",
              "      <td>4.3549</td>\n",
              "      <td>4.0</td>\n",
              "      <td>277.0</td>\n",
              "      <td>18.6</td>\n",
              "      <td>394.87</td>\n",
              "      <td>10.97</td>\n",
              "    </tr>\n",
              "    <tr>\n",
              "      <th>404</th>\n",
              "      <td>41.52920</td>\n",
              "      <td>0.0</td>\n",
              "      <td>18.10</td>\n",
              "      <td>0.0</td>\n",
              "      <td>0.693</td>\n",
              "      <td>5.531</td>\n",
              "      <td>85.4</td>\n",
              "      <td>1.6074</td>\n",
              "      <td>24.0</td>\n",
              "      <td>666.0</td>\n",
              "      <td>20.2</td>\n",
              "      <td>329.46</td>\n",
              "      <td>27.38</td>\n",
              "    </tr>\n",
              "    <tr>\n",
              "      <th>318</th>\n",
              "      <td>0.40202</td>\n",
              "      <td>0.0</td>\n",
              "      <td>9.90</td>\n",
              "      <td>0.0</td>\n",
              "      <td>0.544</td>\n",
              "      <td>6.382</td>\n",
              "      <td>67.2</td>\n",
              "      <td>3.5325</td>\n",
              "      <td>4.0</td>\n",
              "      <td>304.0</td>\n",
              "      <td>18.4</td>\n",
              "      <td>395.21</td>\n",
              "      <td>10.36</td>\n",
              "    </tr>\n",
              "    <tr>\n",
              "      <th>373</th>\n",
              "      <td>11.10810</td>\n",
              "      <td>0.0</td>\n",
              "      <td>18.10</td>\n",
              "      <td>0.0</td>\n",
              "      <td>0.668</td>\n",
              "      <td>4.906</td>\n",
              "      <td>100.0</td>\n",
              "      <td>1.1742</td>\n",
              "      <td>24.0</td>\n",
              "      <td>666.0</td>\n",
              "      <td>20.2</td>\n",
              "      <td>396.90</td>\n",
              "      <td>34.77</td>\n",
              "    </tr>\n",
              "  </tbody>\n",
              "</table>\n",
              "</div>\n",
              "      <button class=\"colab-df-convert\" onclick=\"convertToInteractive('df-e9b19ac9-048e-4ac8-9dda-3effa0e161cf')\"\n",
              "              title=\"Convert this dataframe to an interactive table.\"\n",
              "              style=\"display:none;\">\n",
              "        \n",
              "  <svg xmlns=\"http://www.w3.org/2000/svg\" height=\"24px\"viewBox=\"0 0 24 24\"\n",
              "       width=\"24px\">\n",
              "    <path d=\"M0 0h24v24H0V0z\" fill=\"none\"/>\n",
              "    <path d=\"M18.56 5.44l.94 2.06.94-2.06 2.06-.94-2.06-.94-.94-2.06-.94 2.06-2.06.94zm-11 1L8.5 8.5l.94-2.06 2.06-.94-2.06-.94L8.5 2.5l-.94 2.06-2.06.94zm10 10l.94 2.06.94-2.06 2.06-.94-2.06-.94-.94-2.06-.94 2.06-2.06.94z\"/><path d=\"M17.41 7.96l-1.37-1.37c-.4-.4-.92-.59-1.43-.59-.52 0-1.04.2-1.43.59L10.3 9.45l-7.72 7.72c-.78.78-.78 2.05 0 2.83L4 21.41c.39.39.9.59 1.41.59.51 0 1.02-.2 1.41-.59l7.78-7.78 2.81-2.81c.8-.78.8-2.07 0-2.86zM5.41 20L4 18.59l7.72-7.72 1.47 1.35L5.41 20z\"/>\n",
              "  </svg>\n",
              "      </button>\n",
              "      \n",
              "  <style>\n",
              "    .colab-df-container {\n",
              "      display:flex;\n",
              "      flex-wrap:wrap;\n",
              "      gap: 12px;\n",
              "    }\n",
              "\n",
              "    .colab-df-convert {\n",
              "      background-color: #E8F0FE;\n",
              "      border: none;\n",
              "      border-radius: 50%;\n",
              "      cursor: pointer;\n",
              "      display: none;\n",
              "      fill: #1967D2;\n",
              "      height: 32px;\n",
              "      padding: 0 0 0 0;\n",
              "      width: 32px;\n",
              "    }\n",
              "\n",
              "    .colab-df-convert:hover {\n",
              "      background-color: #E2EBFA;\n",
              "      box-shadow: 0px 1px 2px rgba(60, 64, 67, 0.3), 0px 1px 3px 1px rgba(60, 64, 67, 0.15);\n",
              "      fill: #174EA6;\n",
              "    }\n",
              "\n",
              "    [theme=dark] .colab-df-convert {\n",
              "      background-color: #3B4455;\n",
              "      fill: #D2E3FC;\n",
              "    }\n",
              "\n",
              "    [theme=dark] .colab-df-convert:hover {\n",
              "      background-color: #434B5C;\n",
              "      box-shadow: 0px 1px 3px 1px rgba(0, 0, 0, 0.15);\n",
              "      filter: drop-shadow(0px 1px 2px rgba(0, 0, 0, 0.3));\n",
              "      fill: #FFFFFF;\n",
              "    }\n",
              "  </style>\n",
              "\n",
              "      <script>\n",
              "        const buttonEl =\n",
              "          document.querySelector('#df-e9b19ac9-048e-4ac8-9dda-3effa0e161cf button.colab-df-convert');\n",
              "        buttonEl.style.display =\n",
              "          google.colab.kernel.accessAllowed ? 'block' : 'none';\n",
              "\n",
              "        async function convertToInteractive(key) {\n",
              "          const element = document.querySelector('#df-e9b19ac9-048e-4ac8-9dda-3effa0e161cf');\n",
              "          const dataTable =\n",
              "            await google.colab.kernel.invokeFunction('convertToInteractive',\n",
              "                                                     [key], {});\n",
              "          if (!dataTable) return;\n",
              "\n",
              "          const docLinkHtml = 'Like what you see? Visit the ' +\n",
              "            '<a target=\"_blank\" href=https://colab.research.google.com/notebooks/data_table.ipynb>data table notebook</a>'\n",
              "            + ' to learn more about interactive tables.';\n",
              "          element.innerHTML = '';\n",
              "          dataTable['output_type'] = 'display_data';\n",
              "          await google.colab.output.renderOutput(dataTable, element);\n",
              "          const docLink = document.createElement('div');\n",
              "          docLink.innerHTML = docLinkHtml;\n",
              "          element.appendChild(docLink);\n",
              "        }\n",
              "      </script>\n",
              "    </div>\n",
              "  </div>\n",
              "  "
            ]
          },
          "metadata": {},
          "execution_count": 73
        }
      ]
    },
    {
      "cell_type": "code",
      "execution_count": 79,
      "metadata": {
        "nbgrader": {
          "grade": false,
          "grade_id": "q4_code",
          "locked": false,
          "schema_version": 2,
          "solution": true
        },
        "tags": [
          "student"
        ],
        "id": "tOnlyh1IzMRm"
      },
      "outputs": [],
      "source": [
        "from sklearn.model_selection import KFold\n",
        "\n",
        "def compute_CV_error(model, X_train, Y_train):\n",
        "    '''\n",
        "    Split the training data into 4 subsets.\n",
        "    For each subset, \n",
        "        fit a model holding out that subset\n",
        "        compute the MSE on that subset (the validation set)\n",
        "    You should be fitting 4 models total.\n",
        "    Return the average MSE of these 4 folds.\n",
        "\n",
        "    Args:\n",
        "        model: an sklearn model with fit and predict functions \n",
        "        X_train (data_frame): Training data\n",
        "        Y_train (data_frame): Label \n",
        "\n",
        "    Return:\n",
        "        the average validation MSE for the 4 splits.\n",
        "    '''\n",
        "    kf = KFold(n_splits=4)\n",
        "    validation_errors = []\n",
        "    \n",
        "    for train_idx, valid_idx in kf.split(X_train):\n",
        "        # split the data\n",
        "        print(\"Before index\")\n",
        "        split_X_train, split_X_valid = X_train.iloc[:train_idx], X_train.iloc[valid_idx] #X_train[:train_idx], X_train[valid_idx]\n",
        "        print('After first index')\n",
        "        split_Y_train, split_Y_valid = Y_train[:train_idx], Y_train[valid_idx]\n",
        "        print('After second index')\n",
        "\n",
        "        # Fit the model on the training split\n",
        "        model.fit(split_X_train, split_Y_train)\n",
        "        \n",
        "        # Compute the RMSE on the validation split\n",
        "        error = rmse(model.predict(split_X_valid), split_Y_valid)\n",
        "\n",
        "\n",
        "        validation_errors.append(error)\n",
        "        \n",
        "    return np.mean(validation_errors)"
      ]
    },
    {
      "cell_type": "code",
      "execution_count": 70,
      "metadata": {
        "deletable": false,
        "editable": false,
        "id": "q2FYZ6uWzMRn",
        "outputId": "4ee2b057-6e0d-4e8e-a60a-57f715f41b22",
        "colab": {
          "base_uri": "https://localhost:8080/",
          "height": 851
        }
      },
      "outputs": [
        {
          "output_type": "execute_result",
          "data": {
            "text/plain": [
              "q4 results:\n",
              "    q4 - 1 result:\n",
              "        Trying:\n",
              "            np.isclose(compute_CV_error(lm.LinearRegression(), X_train2[['TAX', 'INDUS', 'CRIM']],Y_train2), 7.761704927406191)\n",
              "        Expecting:\n",
              "            True\n",
              "        **********************************************************************\n",
              "        Line 1, in q4 0\n",
              "        Failed example:\n",
              "            np.isclose(compute_CV_error(lm.LinearRegression(), X_train2[['TAX', 'INDUS', 'CRIM']],Y_train2), 7.761704927406191)\n",
              "        Exception raised:\n",
              "            Traceback (most recent call last):\n",
              "              File \"/usr/lib/python3.7/doctest.py\", line 1337, in __run\n",
              "                compileflags, 1), test.globs)\n",
              "              File \"<doctest q4 0[0]>\", line 1, in <module>\n",
              "                np.isclose(compute_CV_error(lm.LinearRegression(), X_train2[['TAX', 'INDUS', 'CRIM']],Y_train2), 7.761704927406191)\n",
              "              File \"<ipython-input-69-10cfa5904f10>\", line 25, in compute_CV_error\n",
              "                split_X_train, split_X_valid = X_train[:train_idx], X_train[valid_idx]\n",
              "              File \"/usr/local/lib/python3.7/dist-packages/pandas/core/frame.py\", line 3430, in __getitem__\n",
              "                indexer = convert_to_index_sliceable(self, key)\n",
              "              File \"/usr/local/lib/python3.7/dist-packages/pandas/core/indexing.py\", line 2329, in convert_to_index_sliceable\n",
              "                return idx._convert_slice_indexer(key, kind=\"getitem\")\n",
              "              File \"/usr/local/lib/python3.7/dist-packages/pandas/core/indexes/numeric.py\", line 244, in _convert_slice_indexer\n",
              "                return super()._convert_slice_indexer(key, kind=kind)\n",
              "              File \"/usr/local/lib/python3.7/dist-packages/pandas/core/indexes/base.py\", line 3720, in _convert_slice_indexer\n",
              "                self._validate_indexer(\"slice\", key.stop, \"getitem\")\n",
              "              File \"/usr/local/lib/python3.7/dist-packages/pandas/core/indexes/base.py\", line 5719, in _validate_indexer\n",
              "                raise self._invalid_indexer(form, key)\n",
              "            TypeError: cannot do slice indexing on Int64Index with these indexers [[114 115 116 117 118 119 120 121 122 123 124 125 126 127 128 129 130 131\n",
              "             132 133 134 135 136 137 138 139 140 141 142 143 144 145 146 147 148 149\n",
              "             150 151 152 153 154 155 156 157 158 159 160 161 162 163 164 165 166 167\n",
              "             168 169 170 171 172 173 174 175 176 177 178 179 180 181 182 183 184 185\n",
              "             186 187 188 189 190 191 192 193 194 195 196 197 198 199 200 201 202 203\n",
              "             204 205 206 207 208 209 210 211 212 213 214 215 216 217 218 219 220 221\n",
              "             222 223 224 225 226 227 228 229 230 231 232 233 234 235 236 237 238 239\n",
              "             240 241 242 243 244 245 246 247 248 249 250 251 252 253 254 255 256 257\n",
              "             258 259 260 261 262 263 264 265 266 267 268 269 270 271 272 273 274 275\n",
              "             276 277 278 279 280 281 282 283 284 285 286 287 288 289 290 291 292 293\n",
              "             294 295 296 297 298 299 300 301 302 303 304 305 306 307 308 309 310 311\n",
              "             312 313 314 315 316 317 318 319 320 321 322 323 324 325 326 327 328 329\n",
              "             330 331 332 333 334 335 336 337 338 339 340 341 342 343 344 345 346 347\n",
              "             348 349 350 351 352 353 354 355 356 357 358 359 360 361 362 363 364 365\n",
              "             366 367 368 369 370 371 372 373 374 375 376 377 378 379 380 381 382 383\n",
              "             384 385 386 387 388 389 390 391 392 393 394 395 396 397 398 399 400 401\n",
              "             402 403 404 405 406 407 408 409 410 411 412 413 414 415 416 417 418 419\n",
              "             420 421 422 423 424 425 426 427 428 429 430 431 432 433 434 435 436 437\n",
              "             438 439 440 441 442 443 444 445 446 447 448 449 450 451 452 453 454]] of type ndarray"
            ],
            "text/html": [
              "<p><strong style='color: red;'><pre style='display: inline;'>q4</pre> results:</strong></p><p><strong><pre style='display: inline;'>q4 - 1</pre> result:</strong></p><pre>    Trying:\n",
              "        np.isclose(compute_CV_error(lm.LinearRegression(), X_train2[['TAX', 'INDUS', 'CRIM']],Y_train2), 7.761704927406191)\n",
              "    Expecting:\n",
              "        True\n",
              "    **********************************************************************\n",
              "    Line 1, in q4 0\n",
              "    Failed example:\n",
              "        np.isclose(compute_CV_error(lm.LinearRegression(), X_train2[['TAX', 'INDUS', 'CRIM']],Y_train2), 7.761704927406191)\n",
              "    Exception raised:\n",
              "        Traceback (most recent call last):\n",
              "          File \"/usr/lib/python3.7/doctest.py\", line 1337, in __run\n",
              "            compileflags, 1), test.globs)\n",
              "          File \"<doctest q4 0[0]>\", line 1, in <module>\n",
              "            np.isclose(compute_CV_error(lm.LinearRegression(), X_train2[['TAX', 'INDUS', 'CRIM']],Y_train2), 7.761704927406191)\n",
              "          File \"<ipython-input-69-10cfa5904f10>\", line 25, in compute_CV_error\n",
              "            split_X_train, split_X_valid = X_train[:train_idx], X_train[valid_idx]\n",
              "          File \"/usr/local/lib/python3.7/dist-packages/pandas/core/frame.py\", line 3430, in __getitem__\n",
              "            indexer = convert_to_index_sliceable(self, key)\n",
              "          File \"/usr/local/lib/python3.7/dist-packages/pandas/core/indexing.py\", line 2329, in convert_to_index_sliceable\n",
              "            return idx._convert_slice_indexer(key, kind=\"getitem\")\n",
              "          File \"/usr/local/lib/python3.7/dist-packages/pandas/core/indexes/numeric.py\", line 244, in _convert_slice_indexer\n",
              "            return super()._convert_slice_indexer(key, kind=kind)\n",
              "          File \"/usr/local/lib/python3.7/dist-packages/pandas/core/indexes/base.py\", line 3720, in _convert_slice_indexer\n",
              "            self._validate_indexer(\"slice\", key.stop, \"getitem\")\n",
              "          File \"/usr/local/lib/python3.7/dist-packages/pandas/core/indexes/base.py\", line 5719, in _validate_indexer\n",
              "            raise self._invalid_indexer(form, key)\n",
              "        TypeError: cannot do slice indexing on Int64Index with these indexers [[114 115 116 117 118 119 120 121 122 123 124 125 126 127 128 129 130 131\n",
              "         132 133 134 135 136 137 138 139 140 141 142 143 144 145 146 147 148 149\n",
              "         150 151 152 153 154 155 156 157 158 159 160 161 162 163 164 165 166 167\n",
              "         168 169 170 171 172 173 174 175 176 177 178 179 180 181 182 183 184 185\n",
              "         186 187 188 189 190 191 192 193 194 195 196 197 198 199 200 201 202 203\n",
              "         204 205 206 207 208 209 210 211 212 213 214 215 216 217 218 219 220 221\n",
              "         222 223 224 225 226 227 228 229 230 231 232 233 234 235 236 237 238 239\n",
              "         240 241 242 243 244 245 246 247 248 249 250 251 252 253 254 255 256 257\n",
              "         258 259 260 261 262 263 264 265 266 267 268 269 270 271 272 273 274 275\n",
              "         276 277 278 279 280 281 282 283 284 285 286 287 288 289 290 291 292 293\n",
              "         294 295 296 297 298 299 300 301 302 303 304 305 306 307 308 309 310 311\n",
              "         312 313 314 315 316 317 318 319 320 321 322 323 324 325 326 327 328 329\n",
              "         330 331 332 333 334 335 336 337 338 339 340 341 342 343 344 345 346 347\n",
              "         348 349 350 351 352 353 354 355 356 357 358 359 360 361 362 363 364 365\n",
              "         366 367 368 369 370 371 372 373 374 375 376 377 378 379 380 381 382 383\n",
              "         384 385 386 387 388 389 390 391 392 393 394 395 396 397 398 399 400 401\n",
              "         402 403 404 405 406 407 408 409 410 411 412 413 414 415 416 417 418 419\n",
              "         420 421 422 423 424 425 426 427 428 429 430 431 432 433 434 435 436 437\n",
              "         438 439 440 441 442 443 444 445 446 447 448 449 450 451 452 453 454]] of type ndarray\n",
              "</pre>"
            ]
          },
          "metadata": {},
          "execution_count": 70
        }
      ],
      "source": [
        "grader.check(\"q4\")"
      ]
    },
    {
      "cell_type": "markdown",
      "metadata": {
        "deletable": false,
        "editable": false,
        "nbgrader": {
          "grade": false,
          "grade_id": "cell-60cbde80f3e2acc4",
          "locked": true,
          "schema_version": 2,
          "solution": false
        },
        "id": "Cq9gXg5gzMRo"
      },
      "source": [
        "### Question 5\n",
        "\n",
        "Use `compute_CV_error` to determine how many of the first $N$ features we should use to get the lowest average validation error. Then, fill in the variables `best_num_features`, `best_err`.\n",
        "\n",
        "**Hint:** To find the index of the lowest error in `errors`, you may want to use [`np.argmin`](https://docs.scipy.org/doc/numpy/reference/generated/numpy.argmin.html). Watch out for off by one issues when converting the index to the number of features!\n",
        "\n",
        "<!--\n",
        "BEGIN QUESTION\n",
        "name: q5\n",
        "-->"
      ]
    },
    {
      "cell_type": "code",
      "execution_count": 80,
      "metadata": {
        "id": "pwtET-yFzMRp",
        "outputId": "cdbfa992-aaad-4926-a759-6619ffc99ec4",
        "colab": {
          "base_uri": "https://localhost:8080/",
          "height": 727
        }
      },
      "outputs": [
        {
          "output_type": "stream",
          "name": "stdout",
          "text": [
            "Trying first 1 features\n",
            "Before index\n"
          ]
        },
        {
          "output_type": "error",
          "ename": "TypeError",
          "evalue": "ignored",
          "traceback": [
            "\u001b[0;31m---------------------------------------------------------------------------\u001b[0m",
            "\u001b[0;31mTypeError\u001b[0m                                 Traceback (most recent call last)",
            "\u001b[0;32m<ipython-input-80-5cfaf8c480b8>\u001b[0m in \u001b[0;36m<module>\u001b[0;34m()\u001b[0m\n\u001b[1;32m      5\u001b[0m \u001b[0;34m\u001b[0m\u001b[0m\n\u001b[1;32m      6\u001b[0m     \u001b[0;31m# compute the cross validation error\u001b[0m\u001b[0;34m\u001b[0m\u001b[0;34m\u001b[0m\u001b[0;34m\u001b[0m\u001b[0m\n\u001b[0;32m----> 7\u001b[0;31m     \u001b[0merror\u001b[0m \u001b[0;34m=\u001b[0m \u001b[0mcompute_CV_error\u001b[0m\u001b[0;34m(\u001b[0m\u001b[0mmodel\u001b[0m\u001b[0;34m,\u001b[0m \u001b[0mX_train2\u001b[0m\u001b[0;34m,\u001b[0m \u001b[0mY_train2\u001b[0m\u001b[0;34m)\u001b[0m\u001b[0;34m\u001b[0m\u001b[0;34m\u001b[0m\u001b[0m\n\u001b[0m\u001b[1;32m      8\u001b[0m \u001b[0;34m\u001b[0m\u001b[0m\n\u001b[1;32m      9\u001b[0m     \u001b[0mprint\u001b[0m\u001b[0;34m(\u001b[0m\u001b[0;34m\"\\tRMSE:\"\u001b[0m\u001b[0;34m,\u001b[0m \u001b[0merror\u001b[0m\u001b[0;34m)\u001b[0m\u001b[0;34m\u001b[0m\u001b[0;34m\u001b[0m\u001b[0m\n",
            "\u001b[0;32m<ipython-input-79-1db9445f3596>\u001b[0m in \u001b[0;36mcompute_CV_error\u001b[0;34m(model, X_train, Y_train)\u001b[0m\n\u001b[1;32m     24\u001b[0m         \u001b[0;31m# split the data\u001b[0m\u001b[0;34m\u001b[0m\u001b[0;34m\u001b[0m\u001b[0;34m\u001b[0m\u001b[0m\n\u001b[1;32m     25\u001b[0m         \u001b[0mprint\u001b[0m\u001b[0;34m(\u001b[0m\u001b[0;34m\"Before index\"\u001b[0m\u001b[0;34m)\u001b[0m\u001b[0;34m\u001b[0m\u001b[0;34m\u001b[0m\u001b[0m\n\u001b[0;32m---> 26\u001b[0;31m         \u001b[0msplit_X_train\u001b[0m\u001b[0;34m,\u001b[0m \u001b[0msplit_X_valid\u001b[0m \u001b[0;34m=\u001b[0m \u001b[0mX_train\u001b[0m\u001b[0;34m.\u001b[0m\u001b[0miloc\u001b[0m\u001b[0;34m[\u001b[0m\u001b[0;34m:\u001b[0m\u001b[0mtrain_idx\u001b[0m\u001b[0;34m]\u001b[0m\u001b[0;34m,\u001b[0m \u001b[0mX_train\u001b[0m\u001b[0;34m.\u001b[0m\u001b[0miloc\u001b[0m\u001b[0;34m[\u001b[0m\u001b[0mvalid_idx\u001b[0m\u001b[0;34m]\u001b[0m \u001b[0;31m#X_train[:train_idx], X_train[valid_idx]\u001b[0m\u001b[0;34m\u001b[0m\u001b[0;34m\u001b[0m\u001b[0m\n\u001b[0m\u001b[1;32m     27\u001b[0m         \u001b[0mprint\u001b[0m\u001b[0;34m(\u001b[0m\u001b[0;34m'After first index'\u001b[0m\u001b[0;34m)\u001b[0m\u001b[0;34m\u001b[0m\u001b[0;34m\u001b[0m\u001b[0m\n\u001b[1;32m     28\u001b[0m         \u001b[0msplit_Y_train\u001b[0m\u001b[0;34m,\u001b[0m \u001b[0msplit_Y_valid\u001b[0m \u001b[0;34m=\u001b[0m \u001b[0mY_train\u001b[0m\u001b[0;34m[\u001b[0m\u001b[0;34m:\u001b[0m\u001b[0mtrain_idx\u001b[0m\u001b[0;34m]\u001b[0m\u001b[0;34m,\u001b[0m \u001b[0mY_train\u001b[0m\u001b[0;34m[\u001b[0m\u001b[0mvalid_idx\u001b[0m\u001b[0;34m]\u001b[0m\u001b[0;34m\u001b[0m\u001b[0;34m\u001b[0m\u001b[0m\n",
            "\u001b[0;32m/usr/local/lib/python3.7/dist-packages/pandas/core/indexing.py\u001b[0m in \u001b[0;36m__getitem__\u001b[0;34m(self, key)\u001b[0m\n\u001b[1;32m    929\u001b[0m \u001b[0;34m\u001b[0m\u001b[0m\n\u001b[1;32m    930\u001b[0m             \u001b[0mmaybe_callable\u001b[0m \u001b[0;34m=\u001b[0m \u001b[0mcom\u001b[0m\u001b[0;34m.\u001b[0m\u001b[0mapply_if_callable\u001b[0m\u001b[0;34m(\u001b[0m\u001b[0mkey\u001b[0m\u001b[0;34m,\u001b[0m \u001b[0mself\u001b[0m\u001b[0;34m.\u001b[0m\u001b[0mobj\u001b[0m\u001b[0;34m)\u001b[0m\u001b[0;34m\u001b[0m\u001b[0;34m\u001b[0m\u001b[0m\n\u001b[0;32m--> 931\u001b[0;31m             \u001b[0;32mreturn\u001b[0m \u001b[0mself\u001b[0m\u001b[0;34m.\u001b[0m\u001b[0m_getitem_axis\u001b[0m\u001b[0;34m(\u001b[0m\u001b[0mmaybe_callable\u001b[0m\u001b[0;34m,\u001b[0m \u001b[0maxis\u001b[0m\u001b[0;34m=\u001b[0m\u001b[0maxis\u001b[0m\u001b[0;34m)\u001b[0m\u001b[0;34m\u001b[0m\u001b[0;34m\u001b[0m\u001b[0m\n\u001b[0m\u001b[1;32m    932\u001b[0m \u001b[0;34m\u001b[0m\u001b[0m\n\u001b[1;32m    933\u001b[0m     \u001b[0;32mdef\u001b[0m \u001b[0m_is_scalar_access\u001b[0m\u001b[0;34m(\u001b[0m\u001b[0mself\u001b[0m\u001b[0;34m,\u001b[0m \u001b[0mkey\u001b[0m\u001b[0;34m:\u001b[0m \u001b[0mtuple\u001b[0m\u001b[0;34m)\u001b[0m\u001b[0;34m:\u001b[0m\u001b[0;34m\u001b[0m\u001b[0;34m\u001b[0m\u001b[0m\n",
            "\u001b[0;32m/usr/local/lib/python3.7/dist-packages/pandas/core/indexing.py\u001b[0m in \u001b[0;36m_getitem_axis\u001b[0;34m(self, key, axis)\u001b[0m\n\u001b[1;32m   1541\u001b[0m \u001b[0;34m\u001b[0m\u001b[0m\n\u001b[1;32m   1542\u001b[0m         \u001b[0;32mif\u001b[0m \u001b[0misinstance\u001b[0m\u001b[0;34m(\u001b[0m\u001b[0mkey\u001b[0m\u001b[0;34m,\u001b[0m \u001b[0mslice\u001b[0m\u001b[0;34m)\u001b[0m\u001b[0;34m:\u001b[0m\u001b[0;34m\u001b[0m\u001b[0;34m\u001b[0m\u001b[0m\n\u001b[0;32m-> 1543\u001b[0;31m             \u001b[0;32mreturn\u001b[0m \u001b[0mself\u001b[0m\u001b[0;34m.\u001b[0m\u001b[0m_get_slice_axis\u001b[0m\u001b[0;34m(\u001b[0m\u001b[0mkey\u001b[0m\u001b[0;34m,\u001b[0m \u001b[0maxis\u001b[0m\u001b[0;34m=\u001b[0m\u001b[0maxis\u001b[0m\u001b[0;34m)\u001b[0m\u001b[0;34m\u001b[0m\u001b[0;34m\u001b[0m\u001b[0m\n\u001b[0m\u001b[1;32m   1544\u001b[0m \u001b[0;34m\u001b[0m\u001b[0m\n\u001b[1;32m   1545\u001b[0m         \u001b[0;32mif\u001b[0m \u001b[0mis_iterator\u001b[0m\u001b[0;34m(\u001b[0m\u001b[0mkey\u001b[0m\u001b[0;34m)\u001b[0m\u001b[0;34m:\u001b[0m\u001b[0;34m\u001b[0m\u001b[0;34m\u001b[0m\u001b[0m\n",
            "\u001b[0;32m/usr/local/lib/python3.7/dist-packages/pandas/core/indexing.py\u001b[0m in \u001b[0;36m_get_slice_axis\u001b[0;34m(self, slice_obj, axis)\u001b[0m\n\u001b[1;32m   1576\u001b[0m \u001b[0;34m\u001b[0m\u001b[0m\n\u001b[1;32m   1577\u001b[0m         \u001b[0mlabels\u001b[0m \u001b[0;34m=\u001b[0m \u001b[0mobj\u001b[0m\u001b[0;34m.\u001b[0m\u001b[0m_get_axis\u001b[0m\u001b[0;34m(\u001b[0m\u001b[0maxis\u001b[0m\u001b[0;34m)\u001b[0m\u001b[0;34m\u001b[0m\u001b[0;34m\u001b[0m\u001b[0m\n\u001b[0;32m-> 1578\u001b[0;31m         \u001b[0mlabels\u001b[0m\u001b[0;34m.\u001b[0m\u001b[0m_validate_positional_slice\u001b[0m\u001b[0;34m(\u001b[0m\u001b[0mslice_obj\u001b[0m\u001b[0;34m)\u001b[0m\u001b[0;34m\u001b[0m\u001b[0;34m\u001b[0m\u001b[0m\n\u001b[0m\u001b[1;32m   1579\u001b[0m         \u001b[0;32mreturn\u001b[0m \u001b[0mself\u001b[0m\u001b[0;34m.\u001b[0m\u001b[0mobj\u001b[0m\u001b[0;34m.\u001b[0m\u001b[0m_slice\u001b[0m\u001b[0;34m(\u001b[0m\u001b[0mslice_obj\u001b[0m\u001b[0;34m,\u001b[0m \u001b[0maxis\u001b[0m\u001b[0;34m=\u001b[0m\u001b[0maxis\u001b[0m\u001b[0;34m)\u001b[0m\u001b[0;34m\u001b[0m\u001b[0;34m\u001b[0m\u001b[0m\n\u001b[1;32m   1580\u001b[0m \u001b[0;34m\u001b[0m\u001b[0m\n",
            "\u001b[0;32m/usr/local/lib/python3.7/dist-packages/pandas/core/indexes/base.py\u001b[0m in \u001b[0;36m_validate_positional_slice\u001b[0;34m(self, key)\u001b[0m\n\u001b[1;32m   3682\u001b[0m         \"\"\"\n\u001b[1;32m   3683\u001b[0m         \u001b[0mself\u001b[0m\u001b[0;34m.\u001b[0m\u001b[0m_validate_indexer\u001b[0m\u001b[0;34m(\u001b[0m\u001b[0;34m\"positional\"\u001b[0m\u001b[0;34m,\u001b[0m \u001b[0mkey\u001b[0m\u001b[0;34m.\u001b[0m\u001b[0mstart\u001b[0m\u001b[0;34m,\u001b[0m \u001b[0;34m\"iloc\"\u001b[0m\u001b[0;34m)\u001b[0m\u001b[0;34m\u001b[0m\u001b[0;34m\u001b[0m\u001b[0m\n\u001b[0;32m-> 3684\u001b[0;31m         \u001b[0mself\u001b[0m\u001b[0;34m.\u001b[0m\u001b[0m_validate_indexer\u001b[0m\u001b[0;34m(\u001b[0m\u001b[0;34m\"positional\"\u001b[0m\u001b[0;34m,\u001b[0m \u001b[0mkey\u001b[0m\u001b[0;34m.\u001b[0m\u001b[0mstop\u001b[0m\u001b[0;34m,\u001b[0m \u001b[0;34m\"iloc\"\u001b[0m\u001b[0;34m)\u001b[0m\u001b[0;34m\u001b[0m\u001b[0;34m\u001b[0m\u001b[0m\n\u001b[0m\u001b[1;32m   3685\u001b[0m         \u001b[0mself\u001b[0m\u001b[0;34m.\u001b[0m\u001b[0m_validate_indexer\u001b[0m\u001b[0;34m(\u001b[0m\u001b[0;34m\"positional\"\u001b[0m\u001b[0;34m,\u001b[0m \u001b[0mkey\u001b[0m\u001b[0;34m.\u001b[0m\u001b[0mstep\u001b[0m\u001b[0;34m,\u001b[0m \u001b[0;34m\"iloc\"\u001b[0m\u001b[0;34m)\u001b[0m\u001b[0;34m\u001b[0m\u001b[0;34m\u001b[0m\u001b[0m\n\u001b[1;32m   3686\u001b[0m \u001b[0;34m\u001b[0m\u001b[0m\n",
            "\u001b[0;32m/usr/local/lib/python3.7/dist-packages/pandas/core/indexes/base.py\u001b[0m in \u001b[0;36m_validate_indexer\u001b[0;34m(self, form, key, kind)\u001b[0m\n\u001b[1;32m   5717\u001b[0m \u001b[0;34m\u001b[0m\u001b[0m\n\u001b[1;32m   5718\u001b[0m         \u001b[0;32mif\u001b[0m \u001b[0mkey\u001b[0m \u001b[0;32mis\u001b[0m \u001b[0;32mnot\u001b[0m \u001b[0;32mNone\u001b[0m \u001b[0;32mand\u001b[0m \u001b[0;32mnot\u001b[0m \u001b[0mis_integer\u001b[0m\u001b[0;34m(\u001b[0m\u001b[0mkey\u001b[0m\u001b[0;34m)\u001b[0m\u001b[0;34m:\u001b[0m\u001b[0;34m\u001b[0m\u001b[0;34m\u001b[0m\u001b[0m\n\u001b[0;32m-> 5719\u001b[0;31m             \u001b[0;32mraise\u001b[0m \u001b[0mself\u001b[0m\u001b[0;34m.\u001b[0m\u001b[0m_invalid_indexer\u001b[0m\u001b[0;34m(\u001b[0m\u001b[0mform\u001b[0m\u001b[0;34m,\u001b[0m \u001b[0mkey\u001b[0m\u001b[0;34m)\u001b[0m\u001b[0;34m\u001b[0m\u001b[0;34m\u001b[0m\u001b[0m\n\u001b[0m\u001b[1;32m   5720\u001b[0m \u001b[0;34m\u001b[0m\u001b[0m\n\u001b[1;32m   5721\u001b[0m     \u001b[0;32mdef\u001b[0m \u001b[0m_maybe_cast_slice_bound\u001b[0m\u001b[0;34m(\u001b[0m\u001b[0mself\u001b[0m\u001b[0;34m,\u001b[0m \u001b[0mlabel\u001b[0m\u001b[0;34m,\u001b[0m \u001b[0mside\u001b[0m\u001b[0;34m:\u001b[0m \u001b[0mstr_t\u001b[0m\u001b[0;34m,\u001b[0m \u001b[0mkind\u001b[0m\u001b[0;34m=\u001b[0m\u001b[0mno_default\u001b[0m\u001b[0;34m)\u001b[0m\u001b[0;34m:\u001b[0m\u001b[0;34m\u001b[0m\u001b[0;34m\u001b[0m\u001b[0m\n",
            "\u001b[0;31mTypeError\u001b[0m: cannot do positional indexing on Int64Index with these indexers [[114 115 116 117 118 119 120 121 122 123 124 125 126 127 128 129 130 131\n 132 133 134 135 136 137 138 139 140 141 142 143 144 145 146 147 148 149\n 150 151 152 153 154 155 156 157 158 159 160 161 162 163 164 165 166 167\n 168 169 170 171 172 173 174 175 176 177 178 179 180 181 182 183 184 185\n 186 187 188 189 190 191 192 193 194 195 196 197 198 199 200 201 202 203\n 204 205 206 207 208 209 210 211 212 213 214 215 216 217 218 219 220 221\n 222 223 224 225 226 227 228 229 230 231 232 233 234 235 236 237 238 239\n 240 241 242 243 244 245 246 247 248 249 250 251 252 253 254 255 256 257\n 258 259 260 261 262 263 264 265 266 267 268 269 270 271 272 273 274 275\n 276 277 278 279 280 281 282 283 284 285 286 287 288 289 290 291 292 293\n 294 295 296 297 298 299 300 301 302 303 304 305 306 307 308 309 310 311\n 312 313 314 315 316 317 318 319 320 321 322 323 324 325 326 327 328 329\n 330 331 332 333 334 335 336 337 338 339 340 341 342 343 344 345 346 347\n 348 349 350 351 352 353 354 355 356 357 358 359 360 361 362 363 364 365\n 366 367 368 369 370 371 372 373 374 375 376 377 378 379 380 381 382 383\n 384 385 386 387 388 389 390 391 392 393 394 395 396 397 398 399 400 401\n 402 403 404 405 406 407 408 409 410 411 412 413 414 415 416 417 418 419\n 420 421 422 423 424 425 426 427 428 429 430 431 432 433 434 435 436 437\n 438 439 440 441 442 443 444 445 446 447 448 449 450 451 452 453 454]] of type ndarray"
          ]
        }
      ],
      "source": [
        "errors = []\n",
        "for N in range_of_num_features:\n",
        "    print(f\"Trying first {N} features\")\n",
        "    model = lm.LinearRegression()\n",
        "    \n",
        "    # compute the cross validation error\n",
        "    error = compute_CV_error(model, X_train2, Y_train2)\n",
        "    \n",
        "    print(\"\\tRMSE:\", error)\n",
        "    errors.append(error)\n",
        "\n",
        "# best_num_features = ...\n",
        "# best_err = ...\n",
        "\n",
        "# print(f\"Best choice, use the first {best_num_features} features\")"
      ]
    },
    {
      "cell_type": "code",
      "execution_count": null,
      "metadata": {
        "deletable": false,
        "editable": false,
        "id": "8NmFlfDtzMRq"
      },
      "outputs": [],
      "source": [
        "grader.check(\"q5\")"
      ]
    },
    {
      "cell_type": "markdown",
      "metadata": {
        "nbgrader": {
          "grade": false,
          "grade_id": "cell-1f5a870c74e96a0c",
          "locked": true,
          "schema_version": 2,
          "solution": false
        },
        "id": "5b9WMgSZzMRr"
      },
      "source": [
        "Why is it logical to use the set of features that result in the smallest average root mean squared error when performing cross-validation? Write your answer in the cell below."
      ]
    },
    {
      "cell_type": "markdown",
      "metadata": {
        "id": "dc2S_x9GzMRs"
      },
      "source": [
        "_Type your answer here, replacing this text._"
      ]
    },
    {
      "cell_type": "markdown",
      "metadata": {
        "deletable": false,
        "editable": false,
        "nbgrader": {
          "grade": false,
          "grade_id": "q6_text",
          "locked": true,
          "schema_version": 2,
          "solution": false
        },
        "id": "aEds_RVqzMRs"
      },
      "source": [
        "### Question 6\n",
        "\n",
        "Finally, fit a linear model using your best feature set and predict housing prices for your original test set. You can also try to select your own features (on top of the given ones) to lower the RMSE. Compute the final train and test RMSEs for a linear model using your best feature set.\n",
        "\n",
        "<!--\n",
        "BEGIN QUESTION\n",
        "name: q6\n",
        "-->"
      ]
    },
    {
      "cell_type": "code",
      "execution_count": null,
      "metadata": {
        "nbgrader": {
          "grade": false,
          "grade_id": "q6_code",
          "locked": false,
          "schema_version": 2,
          "solution": true
        },
        "tags": [
          "student"
        ],
        "id": "CGFlAfBdzMRt"
      },
      "outputs": [],
      "source": [
        "# Fit your linear model\n",
        "...\n",
        "\n",
        "# Predict points from our test set and calculate the rmse\n",
        "train_rmse = ... \n",
        "test_rmse = ...\n",
        "\n",
        "print(\"Train RMSE\", train_rmse)\n",
        "print(\"KFold Validation RMSE\", best_err)\n",
        "print(\"Test RMSE\", test_rmse)"
      ]
    },
    {
      "cell_type": "code",
      "execution_count": null,
      "metadata": {
        "deletable": false,
        "editable": false,
        "id": "Vnn6fzMtzMRt"
      },
      "outputs": [],
      "source": [
        "grader.check(\"q6\")"
      ]
    },
    {
      "cell_type": "markdown",
      "metadata": {
        "nbgrader": {
          "grade": false,
          "grade_id": "cell-1073b5a4c1d25928",
          "locked": true,
          "schema_version": 2,
          "solution": false
        },
        "id": "_ZtEgIMxzMRu"
      },
      "source": [
        "Here we've plotted a residual plot for each record from `X_test2`. After seeing your testing and training error, it is often helpful to visiualize your error. When points in the residual plot are randomly scattered around the line y = 0, then we know that a linear regression model is good for the data we have."
      ]
    },
    {
      "cell_type": "code",
      "execution_count": null,
      "metadata": {
        "nbgrader": {
          "grade": false,
          "grade_id": "cell-69418d5b2a92f393",
          "locked": true,
          "schema_version": 2,
          "solution": false
        },
        "id": "RiJ7pyNMzMRu"
      },
      "outputs": [],
      "source": [
        "plt.figure(figsize=(10, 6))\n",
        "fitted_values = model.predict(X_test2.iloc[:, :best_num_features])\n",
        "plt.scatter(fitted_values, Y_test2 - fitted_values)\n",
        "plt.xlabel('Fitted Values')\n",
        "plt.ylabel('residual (true y - estimated y)')\n",
        "plt.title(\"Residual of prediction for i'th house\")\n",
        "plt.axhline(y = 0, color='r');"
      ]
    },
    {
      "cell_type": "markdown",
      "metadata": {
        "nbgrader": {
          "grade": false,
          "grade_id": "cv_text",
          "locked": true,
          "schema_version": 2,
          "solution": false
        },
        "id": "SAX68DwyzMRv"
      },
      "source": [
        "Nice! You've used $k$-fold cross-validation to fit a linear regression model to the housing data.\n",
        "\n",
        "In the future, you'd probably want to use something like [`cross_val_predict`](http://scikit-learn.org/stable/modules/generated/sklearn.model_selection.cross_val_predict.html) to automatically perform cross-validation, but it's instructive to do it yourself at least once."
      ]
    },
    {
      "cell_type": "markdown",
      "metadata": {
        "nbgrader": {
          "grade": false,
          "grade_id": "finish",
          "locked": true,
          "schema_version": 2,
          "solution": false
        },
        "id": "gqqZ0WRlzMRv"
      },
      "source": [
        "## Submission\n",
        "\n",
        "Congratulations! You are finished with this assignment. Please don't forget to submit by 11:59pm PST on Thursday, November 4th!"
      ]
    },
    {
      "cell_type": "code",
      "execution_count": null,
      "metadata": {
        "id": "rFKUxkrLzMRw"
      },
      "outputs": [],
      "source": [
        ""
      ]
    },
    {
      "cell_type": "markdown",
      "metadata": {
        "deletable": false,
        "editable": false,
        "id": "3C3c6GU0zMRw"
      },
      "source": [
        "---\n",
        "\n",
        "To double-check your work, the cell below will rerun all of the autograder tests."
      ]
    },
    {
      "cell_type": "code",
      "execution_count": null,
      "metadata": {
        "deletable": false,
        "editable": false,
        "id": "vSj7OoBzzMRx"
      },
      "outputs": [],
      "source": [
        "grader.check_all()"
      ]
    },
    {
      "cell_type": "markdown",
      "metadata": {
        "deletable": false,
        "editable": false,
        "id": "xhUD6JT8zMRx"
      },
      "source": [
        "## Submission\n",
        "\n",
        "Make sure you have run all cells in your notebook in order before running the cell below, so that all images/graphs appear in the output. The cell below will generate a zip file for you to submit. **Please save before exporting!**"
      ]
    },
    {
      "cell_type": "code",
      "execution_count": null,
      "metadata": {
        "deletable": false,
        "editable": false,
        "id": "Ac67xY41zMRy"
      },
      "outputs": [],
      "source": [
        "# Save your notebook first, then run this cell to export your submission.\n",
        "grader.export(pdf=False)"
      ]
    },
    {
      "cell_type": "markdown",
      "metadata": {
        "id": "QohpW2WWzMRy"
      },
      "source": [
        " "
      ]
    }
  ],
  "metadata": {
    "celltoolbar": "Create Assignment",
    "kernelspec": {
      "display_name": "Python 3 (ipykernel)",
      "language": "python",
      "name": "python3"
    },
    "language_info": {
      "codemirror_mode": {
        "name": "ipython",
        "version": 3
      },
      "file_extension": ".py",
      "mimetype": "text/x-python",
      "name": "python",
      "nbconvert_exporter": "python",
      "pygments_lexer": "ipython3",
      "version": "3.9.7"
    },
    "colab": {
      "name": "lab10.ipynb",
      "provenance": []
    }
  },
  "nbformat": 4,
  "nbformat_minor": 0
}