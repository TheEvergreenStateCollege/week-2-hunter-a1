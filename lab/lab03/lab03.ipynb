{
  "cells": [
    {
      "cell_type": "code",
      "execution_count": 5,
      "metadata": {
        "deletable": false,
        "editable": false,
        "id": "gJ-scIEgWI1f",
        "outputId": "8a114ece-da39-4b45-adaf-47610f835e08",
        "colab": {
          "base_uri": "https://localhost:8080/"
        }
      },
      "outputs": [
        {
          "output_type": "stream",
          "name": "stdout",
          "text": [
            "Requirement already satisfied: otter-grader in /usr/local/lib/python3.7/dist-packages (3.2.1)\n",
            "Requirement already satisfied: PyYAML in /usr/local/lib/python3.7/dist-packages (from otter-grader) (3.13)\n",
            "Requirement already satisfied: python-on-whales in /usr/local/lib/python3.7/dist-packages (from otter-grader) (0.41.0)\n",
            "Requirement already satisfied: six in /usr/local/lib/python3.7/dist-packages (from otter-grader) (1.15.0)\n",
            "Requirement already satisfied: nbformat in /usr/local/lib/python3.7/dist-packages (from otter-grader) (5.2.0)\n",
            "Requirement already satisfied: jupyter-client in /usr/local/lib/python3.7/dist-packages (from otter-grader) (5.3.5)\n",
            "Requirement already satisfied: requests in /usr/local/lib/python3.7/dist-packages (from otter-grader) (2.23.0)\n",
            "Requirement already satisfied: pandas in /usr/local/lib/python3.7/dist-packages (from otter-grader) (1.3.5)\n",
            "Requirement already satisfied: matplotlib in /usr/local/lib/python3.7/dist-packages (from otter-grader) (3.2.2)\n",
            "Requirement already satisfied: ipykernel in /usr/local/lib/python3.7/dist-packages (from otter-grader) (4.10.1)\n",
            "Requirement already satisfied: jinja2 in /usr/local/lib/python3.7/dist-packages (from otter-grader) (2.11.3)\n",
            "Requirement already satisfied: dill in /usr/local/lib/python3.7/dist-packages (from otter-grader) (0.3.4)\n",
            "Requirement already satisfied: nbconvert in /usr/local/lib/python3.7/dist-packages (from otter-grader) (5.6.1)\n",
            "Requirement already satisfied: PyPDF2 in /usr/local/lib/python3.7/dist-packages (from otter-grader) (1.27.4)\n",
            "Requirement already satisfied: gspread in /usr/local/lib/python3.7/dist-packages (from otter-grader) (3.4.2)\n",
            "Requirement already satisfied: google-auth-oauthlib in /usr/local/lib/python3.7/dist-packages (from otter-grader) (0.4.6)\n",
            "Requirement already satisfied: google-api-python-client in /usr/local/lib/python3.7/dist-packages (from otter-grader) (1.12.11)\n",
            "Requirement already satisfied: pdfkit in /usr/local/lib/python3.7/dist-packages (from otter-grader) (1.0.0)\n",
            "Requirement already satisfied: google-auth<3dev,>=1.16.0 in /usr/local/lib/python3.7/dist-packages (from google-api-python-client->otter-grader) (1.35.0)\n",
            "Requirement already satisfied: google-api-core<3dev,>=1.21.0 in /usr/local/lib/python3.7/dist-packages (from google-api-python-client->otter-grader) (1.26.3)\n",
            "Requirement already satisfied: google-auth-httplib2>=0.0.3 in /usr/local/lib/python3.7/dist-packages (from google-api-python-client->otter-grader) (0.0.4)\n",
            "Requirement already satisfied: httplib2<1dev,>=0.15.0 in /usr/local/lib/python3.7/dist-packages (from google-api-python-client->otter-grader) (0.17.4)\n",
            "Requirement already satisfied: uritemplate<4dev,>=3.0.0 in /usr/local/lib/python3.7/dist-packages (from google-api-python-client->otter-grader) (3.0.1)\n",
            "Requirement already satisfied: googleapis-common-protos<2.0dev,>=1.6.0 in /usr/local/lib/python3.7/dist-packages (from google-api-core<3dev,>=1.21.0->google-api-python-client->otter-grader) (1.56.0)\n",
            "Requirement already satisfied: pytz in /usr/local/lib/python3.7/dist-packages (from google-api-core<3dev,>=1.21.0->google-api-python-client->otter-grader) (2018.9)\n",
            "Requirement already satisfied: setuptools>=40.3.0 in /usr/local/lib/python3.7/dist-packages (from google-api-core<3dev,>=1.21.0->google-api-python-client->otter-grader) (57.4.0)\n",
            "Requirement already satisfied: protobuf>=3.12.0 in /usr/local/lib/python3.7/dist-packages (from google-api-core<3dev,>=1.21.0->google-api-python-client->otter-grader) (3.17.3)\n",
            "Requirement already satisfied: packaging>=14.3 in /usr/local/lib/python3.7/dist-packages (from google-api-core<3dev,>=1.21.0->google-api-python-client->otter-grader) (21.3)\n",
            "Requirement already satisfied: cachetools<5.0,>=2.0.0 in /usr/local/lib/python3.7/dist-packages (from google-auth<3dev,>=1.16.0->google-api-python-client->otter-grader) (4.2.4)\n",
            "Requirement already satisfied: pyasn1-modules>=0.2.1 in /usr/local/lib/python3.7/dist-packages (from google-auth<3dev,>=1.16.0->google-api-python-client->otter-grader) (0.2.8)\n",
            "Requirement already satisfied: rsa<5,>=3.1.4 in /usr/local/lib/python3.7/dist-packages (from google-auth<3dev,>=1.16.0->google-api-python-client->otter-grader) (4.8)\n",
            "Requirement already satisfied: pyparsing!=3.0.5,>=2.0.2 in /usr/local/lib/python3.7/dist-packages (from packaging>=14.3->google-api-core<3dev,>=1.21.0->google-api-python-client->otter-grader) (3.0.7)\n",
            "Requirement already satisfied: pyasn1<0.5.0,>=0.4.6 in /usr/local/lib/python3.7/dist-packages (from pyasn1-modules>=0.2.1->google-auth<3dev,>=1.16.0->google-api-python-client->otter-grader) (0.4.8)\n",
            "Requirement already satisfied: urllib3!=1.25.0,!=1.25.1,<1.26,>=1.21.1 in /usr/local/lib/python3.7/dist-packages (from requests->otter-grader) (1.24.3)\n",
            "Requirement already satisfied: certifi>=2017.4.17 in /usr/local/lib/python3.7/dist-packages (from requests->otter-grader) (2021.10.8)\n",
            "Requirement already satisfied: chardet<4,>=3.0.2 in /usr/local/lib/python3.7/dist-packages (from requests->otter-grader) (3.0.4)\n",
            "Requirement already satisfied: idna<3,>=2.5 in /usr/local/lib/python3.7/dist-packages (from requests->otter-grader) (2.10)\n",
            "Requirement already satisfied: requests-oauthlib>=0.7.0 in /usr/local/lib/python3.7/dist-packages (from google-auth-oauthlib->otter-grader) (1.3.1)\n",
            "Requirement already satisfied: oauthlib>=3.0.0 in /usr/local/lib/python3.7/dist-packages (from requests-oauthlib>=0.7.0->google-auth-oauthlib->otter-grader) (3.2.0)\n",
            "Requirement already satisfied: tornado>=4.0 in /usr/local/lib/python3.7/dist-packages (from ipykernel->otter-grader) (5.1.1)\n",
            "Requirement already satisfied: traitlets>=4.1.0 in /usr/local/lib/python3.7/dist-packages (from ipykernel->otter-grader) (5.1.1)\n",
            "Requirement already satisfied: ipython>=4.0.0 in /usr/local/lib/python3.7/dist-packages (from ipykernel->otter-grader) (5.5.0)\n",
            "Requirement already satisfied: pygments in /usr/local/lib/python3.7/dist-packages (from ipython>=4.0.0->ipykernel->otter-grader) (2.6.1)\n",
            "Requirement already satisfied: prompt-toolkit<2.0.0,>=1.0.4 in /usr/local/lib/python3.7/dist-packages (from ipython>=4.0.0->ipykernel->otter-grader) (1.0.18)\n",
            "Requirement already satisfied: pickleshare in /usr/local/lib/python3.7/dist-packages (from ipython>=4.0.0->ipykernel->otter-grader) (0.7.5)\n",
            "Requirement already satisfied: decorator in /usr/local/lib/python3.7/dist-packages (from ipython>=4.0.0->ipykernel->otter-grader) (4.4.2)\n",
            "Requirement already satisfied: simplegeneric>0.8 in /usr/local/lib/python3.7/dist-packages (from ipython>=4.0.0->ipykernel->otter-grader) (0.8.1)\n",
            "Requirement already satisfied: pexpect in /usr/local/lib/python3.7/dist-packages (from ipython>=4.0.0->ipykernel->otter-grader) (4.8.0)\n",
            "Requirement already satisfied: wcwidth in /usr/local/lib/python3.7/dist-packages (from prompt-toolkit<2.0.0,>=1.0.4->ipython>=4.0.0->ipykernel->otter-grader) (0.2.5)\n",
            "Requirement already satisfied: MarkupSafe>=0.23 in /usr/local/lib/python3.7/dist-packages (from jinja2->otter-grader) (2.0.1)\n",
            "Requirement already satisfied: python-dateutil>=2.1 in /usr/local/lib/python3.7/dist-packages (from jupyter-client->otter-grader) (2.8.2)\n",
            "Requirement already satisfied: jupyter-core>=4.6.0 in /usr/local/lib/python3.7/dist-packages (from jupyter-client->otter-grader) (4.9.2)\n",
            "Requirement already satisfied: pyzmq>=13 in /usr/local/lib/python3.7/dist-packages (from jupyter-client->otter-grader) (22.3.0)\n",
            "Requirement already satisfied: numpy>=1.11 in /usr/local/lib/python3.7/dist-packages (from matplotlib->otter-grader) (1.21.5)\n",
            "Requirement already satisfied: kiwisolver>=1.0.1 in /usr/local/lib/python3.7/dist-packages (from matplotlib->otter-grader) (1.4.0)\n",
            "Requirement already satisfied: cycler>=0.10 in /usr/local/lib/python3.7/dist-packages (from matplotlib->otter-grader) (0.11.0)\n",
            "Requirement already satisfied: typing-extensions in /usr/local/lib/python3.7/dist-packages (from kiwisolver>=1.0.1->matplotlib->otter-grader) (3.10.0.2)\n",
            "Requirement already satisfied: mistune<2,>=0.8.1 in /usr/local/lib/python3.7/dist-packages (from nbconvert->otter-grader) (0.8.4)\n",
            "Requirement already satisfied: defusedxml in /usr/local/lib/python3.7/dist-packages (from nbconvert->otter-grader) (0.7.1)\n",
            "Requirement already satisfied: entrypoints>=0.2.2 in /usr/local/lib/python3.7/dist-packages (from nbconvert->otter-grader) (0.4)\n",
            "Requirement already satisfied: pandocfilters>=1.4.1 in /usr/local/lib/python3.7/dist-packages (from nbconvert->otter-grader) (1.5.0)\n",
            "Requirement already satisfied: bleach in /usr/local/lib/python3.7/dist-packages (from nbconvert->otter-grader) (4.1.0)\n",
            "Requirement already satisfied: testpath in /usr/local/lib/python3.7/dist-packages (from nbconvert->otter-grader) (0.6.0)\n",
            "Requirement already satisfied: jsonschema!=2.5.0,>=2.4 in /usr/local/lib/python3.7/dist-packages (from nbformat->otter-grader) (4.3.3)\n",
            "Requirement already satisfied: pyrsistent!=0.17.0,!=0.17.1,!=0.17.2,>=0.14.0 in /usr/local/lib/python3.7/dist-packages (from jsonschema!=2.5.0,>=2.4->nbformat->otter-grader) (0.18.1)\n",
            "Requirement already satisfied: importlib-metadata in /usr/local/lib/python3.7/dist-packages (from jsonschema!=2.5.0,>=2.4->nbformat->otter-grader) (4.11.3)\n",
            "Requirement already satisfied: attrs>=17.4.0 in /usr/local/lib/python3.7/dist-packages (from jsonschema!=2.5.0,>=2.4->nbformat->otter-grader) (21.4.0)\n",
            "Requirement already satisfied: importlib-resources>=1.4.0 in /usr/local/lib/python3.7/dist-packages (from jsonschema!=2.5.0,>=2.4->nbformat->otter-grader) (5.4.0)\n",
            "Requirement already satisfied: zipp>=3.1.0 in /usr/local/lib/python3.7/dist-packages (from importlib-resources>=1.4.0->jsonschema!=2.5.0,>=2.4->nbformat->otter-grader) (3.7.0)\n",
            "Requirement already satisfied: webencodings in /usr/local/lib/python3.7/dist-packages (from bleach->nbconvert->otter-grader) (0.5.1)\n",
            "Requirement already satisfied: ptyprocess>=0.5 in /usr/local/lib/python3.7/dist-packages (from pexpect->ipython>=4.0.0->ipykernel->otter-grader) (0.7.0)\n",
            "Requirement already satisfied: pydantic in /usr/local/lib/python3.7/dist-packages (from python-on-whales->otter-grader) (1.9.0)\n",
            "Requirement already satisfied: click<=8.0.4 in /usr/local/lib/python3.7/dist-packages (from python-on-whales->otter-grader) (7.1.2)\n",
            "Requirement already satisfied: tqdm in /usr/local/lib/python3.7/dist-packages (from python-on-whales->otter-grader) (4.63.0)\n",
            "Requirement already satisfied: typer in /usr/local/lib/python3.7/dist-packages (from python-on-whales->otter-grader) (0.4.1)\n"
          ]
        }
      ],
      "source": [
        "# Initialize Otter\n",
        "!pip install otter-grader\n",
        "import otter\n",
        "grader = otter.Notebook(\"lab03.ipynb\")"
      ]
    },
    {
      "cell_type": "markdown",
      "metadata": {
        "nbgrader": {
          "grade": false,
          "grade_id": "intro",
          "locked": true,
          "schema_version": 2,
          "solution": false
        },
        "id": "A9SDnr2aWI1m"
      },
      "source": [
        "# Lab 3: Data Cleaning and Visualization\n",
        "\n",
        "In this lab you will be working on visualizing a dataset from the City of Berkeley containing data on calls to the Berkeley Police Department. Information about the dataset can be found [at this link](https://data.cityofberkeley.info/Public-Safety/Berkeley-PD-Calls-for-Service/k2nh-s5h5).\n",
        "\n",
        "Note: This lab will not work on older versions of Python; make sure to work on DataHub.\n",
        "\n",
        "**This assignment should be completed and submitted by 11:59 PM PDT on Tuesday, September 14th, 2021.**\n",
        "\n",
        "**Content Warning: This lab includes an analysis of crime in Berkeley. If you feel uncomfortable about the topic, please feel free to contact your GSI or the instructors.**"
      ]
    },
    {
      "cell_type": "markdown",
      "metadata": {
        "nbgrader": {
          "grade": false,
          "grade_id": "setup",
          "locked": true,
          "schema_version": 2,
          "solution": false
        },
        "id": "fZ13ELbmWI1q"
      },
      "source": [
        "## Setup\n",
        "\n",
        "Note that we configure a custom default figure size. Virtually every default aspect of matplotlib [can be customized](https://matplotlib.org/users/customizing.html)."
      ]
    },
    {
      "cell_type": "code",
      "execution_count": 6,
      "metadata": {
        "nbgrader": {
          "grade": false,
          "grade_id": "imports",
          "locked": true,
          "schema_version": 2,
          "solution": false
        },
        "id": "D4erSMaYWI1r"
      },
      "outputs": [],
      "source": [
        "import pandas as pd\n",
        "import numpy as np\n",
        "import zipfile\n",
        "import matplotlib\n",
        "import matplotlib.pyplot as plt\n",
        "\n",
        "plt.rcParams['figure.figsize'] = (12, 9)"
      ]
    },
    {
      "cell_type": "markdown",
      "metadata": {
        "nbgrader": {
          "grade": false,
          "grade_id": "part1",
          "locked": true,
          "schema_version": 2,
          "solution": false
        },
        "id": "UV2f6X1QWI1s"
      },
      "source": [
        "## Part 1: Cleaning and Exploring the Data\n",
        "\n",
        "To retrieve the dataset, we will use the `ds100_utils.fetch_and_cache` utility."
      ]
    },
    {
      "cell_type": "code",
      "source": [
        "import requests\n",
        "from pathlib import Path\n",
        "\n",
        "def fetch_and_cache(data_url, file, data_dir=\"data\", force=False):\n",
        "    \"\"\"\n",
        "    Download and cache a url and return the file object.\n",
        "    \n",
        "    data_url: the web address to download\n",
        "    file: the file in which to save the results.\n",
        "    data_dir: (default=\"data\") the location to save the data\n",
        "    force: if true the file is always re-downloaded \n",
        "    \n",
        "    return: The pathlib.Path to the file.\n",
        "    \"\"\"\n",
        "    data_dir = Path(data_dir)\n",
        "    data_dir.mkdir(exist_ok=True)\n",
        "    file_path = data_dir/Path(file)\n",
        "    if force and file_path.exists():\n",
        "        file_path.unlink()\n",
        "    if force or not file_path.exists():\n",
        "        print('Downloading...', end=' ')\n",
        "        resp = requests.get(data_url)\n",
        "        with file_path.open('wb') as f:\n",
        "            f.write(resp.content)\n",
        "        print('Done!')\n",
        "    else:\n",
        "        import time \n",
        "        created = time.ctime(file_path.stat().st_ctime)\n",
        "        print(\"Using cached version downloaded at\", created)\n",
        "    return file_path"
      ],
      "metadata": {
        "id": "S-hvUtoLXhfd"
      },
      "execution_count": 7,
      "outputs": []
    },
    {
      "cell_type": "code",
      "execution_count": 8,
      "metadata": {
        "jupyter": {
          "outputs_hidden": false
        },
        "id": "TXmjHk6WWI1t",
        "outputId": "a81b4fcc-27b9-4188-fcee-ef33eac2eb95",
        "colab": {
          "base_uri": "https://localhost:8080/"
        }
      },
      "outputs": [
        {
          "output_type": "stream",
          "name": "stdout",
          "text": [
            "Downloading... Done!\n",
            "Located at data/lab04_data_fa20.zip\n"
          ]
        }
      ],
      "source": [
        "#import ds100_utils\n",
        "\n",
        "data_dir = 'data'\n",
        "data_url = 'http://www.ds100.org/fa20/resources/assets/datasets/lab04_data_fa20.zip'\n",
        "file_name = 'lab04_data_fa20.zip'\n",
        "\n",
        "# dest_path = ds100_utils.fetch_and_cache(data_url=data_url, file=file_name, data_dir=data_dir)\n",
        "dest_path = fetch_and_cache(data_url=data_url, file=file_name, data_dir=data_dir)\n",
        "print(f'Located at {dest_path}')"
      ]
    },
    {
      "cell_type": "markdown",
      "metadata": {
        "nbgrader": {
          "grade": false,
          "grade_id": "unzip-data-1",
          "locked": true,
          "schema_version": 2,
          "solution": false
        },
        "id": "jpyNqfGqWI1v"
      },
      "source": [
        "We will now directly unzip the ZIP archive and start working with the uncompressed files.\n",
        "\n",
        "Note: There is no single right answer regarding whether to work with compressed files in their compressed state or to uncompress them on disk permanently. If you for example need to work with multiple tools on the same files, or write many notebooks to analyze them, and they are not too large, it may be more convenient to uncompress them once.  But you may also have situations where you find it preferable to work with the compressed data directly.  \n",
        "\n",
        "Python gives you tools for both approaches, and you should know how to perform both tasks in order to choose the one that best suits the problem at hand.\n",
        "\n",
        "---\n",
        "\n",
        "Run the cell below to extract the zip file into the data directory."
      ]
    },
    {
      "cell_type": "code",
      "execution_count": 9,
      "metadata": {
        "id": "fRu9N8VHWI1x"
      },
      "outputs": [],
      "source": [
        "my_zip = zipfile.ZipFile(dest_path, 'r')\n",
        "my_zip.extractall(data_dir)"
      ]
    },
    {
      "cell_type": "markdown",
      "metadata": {
        "nbgrader": {
          "grade": false,
          "grade_id": "q0",
          "locked": true,
          "schema_version": 2,
          "solution": false
        },
        "id": "sYkQzI7nWI1z"
      },
      "source": [
        "Now, we'll use a method of the `Pathlib.Path` class called `glob` to list all files in the `data` directory. You will find useful information in pathlib [documentation](https://docs.python.org/3/library/pathlib.html).\n",
        "\n",
        "Below, we use pathlib's `glob` method to store the list of all files' names from the `data_dir` directory in the variable `file_names`. These names should be strings that contain only the file name (e.g. `dummy.txt` not `data/dummy.txt`). The asterisk (*) character is used with the `glob` method to match any string."
      ]
    },
    {
      "cell_type": "code",
      "execution_count": 10,
      "metadata": {
        "jupyter": {
          "outputs_hidden": false
        },
        "id": "zvHRi4u9WI10",
        "outputId": "136bd1e4-a8c4-448d-ea5b-e9bfac2b8188",
        "colab": {
          "base_uri": "https://localhost:8080/"
        }
      },
      "outputs": [
        {
          "output_type": "execute_result",
          "data": {
            "text/plain": [
              "['dummy.txt',\n",
              " 'lab04_data_fa20.zip',\n",
              " 'hello_world.py',\n",
              " 'ben_kurtovic.py',\n",
              " 'do_not_readme.md',\n",
              " 'Berkeley_PD_-_Calls_for_Service.csv']"
            ]
          },
          "metadata": {},
          "execution_count": 10
        }
      ],
      "source": [
        "from pathlib import Path\n",
        "data_dir_path = Path('data') # creates a Path object that points to the data directory\n",
        "file_names = [x.name for x in data_dir_path.glob('*') if x.is_file()]\n",
        "file_names"
      ]
    },
    {
      "cell_type": "markdown",
      "metadata": {
        "nbgrader": {
          "grade": false,
          "grade_id": "explore-0",
          "locked": true,
          "schema_version": 2,
          "solution": false
        },
        "id": "9akcejsuWI12"
      },
      "source": [
        "Let's now load the CSV file we have into a `pandas.DataFrame` object."
      ]
    },
    {
      "cell_type": "code",
      "execution_count": 11,
      "metadata": {
        "jupyter": {
          "outputs_hidden": false
        },
        "id": "V5XARdn_WI13",
        "outputId": "5756410f-f53b-4caf-f1ac-44b32249bf3b",
        "colab": {
          "base_uri": "https://localhost:8080/",
          "height": 337
        }
      },
      "outputs": [
        {
          "output_type": "execute_result",
          "data": {
            "text/plain": [
              "     CASENO                   OFFENSE                 EVENTDT EVENTTM  \\\n",
              "0  18022300               DISTURBANCE  04/18/2018 12:00:00 AM   22:17   \n",
              "1  18026683  THEFT MISD. (UNDER $950)  05/09/2018 12:00:00 AM   21:25   \n",
              "2  18038550  THEFT MISD. (UNDER $950)  05/18/2018 12:00:00 AM   20:00   \n",
              "3  18014810             BURGLARY AUTO  03/13/2018 12:00:00 AM   08:50   \n",
              "4  18018643           ALCOHOL OFFENSE  03/31/2018 12:00:00 AM   13:29   \n",
              "\n",
              "               CVLEGEND  CVDOW                InDbDate  \\\n",
              "0    DISORDERLY CONDUCT      3  09/06/2018 03:30:12 AM   \n",
              "1               LARCENY      3  09/06/2018 03:30:13 AM   \n",
              "2               LARCENY      5  09/06/2018 03:30:09 AM   \n",
              "3    BURGLARY - VEHICLE      2  09/06/2018 03:30:08 AM   \n",
              "4  LIQUOR LAW VIOLATION      6  09/06/2018 03:30:11 AM   \n",
              "\n",
              "                                      Block_Location  \\\n",
              "0  OREGON STREET &amp; MCGEE AVE\\nBerkeley, CA\\n(...   \n",
              "1  200 UNIVERSITY AVE\\nBerkeley, CA\\n(37.865511, ...   \n",
              "2  2200 MILVIA ST\\nBerkeley, CA\\n(37.868574, -122...   \n",
              "3  1200 SIXTH ST\\nBerkeley, CA\\n(37.881142, -122....   \n",
              "4  CENTER STREET &amp; SHATTUCK AVE\\nBerkeley, CA...   \n",
              "\n",
              "                        BLKADDR      City State  \n",
              "0     OREGON STREET & MCGEE AVE  Berkeley    CA  \n",
              "1            200 UNIVERSITY AVE  Berkeley    CA  \n",
              "2                2200 MILVIA ST  Berkeley    CA  \n",
              "3                 1200 SIXTH ST  Berkeley    CA  \n",
              "4  CENTER STREET & SHATTUCK AVE  Berkeley    CA  "
            ],
            "text/html": [
              "\n",
              "  <div id=\"df-035a3b0c-8fed-4baa-bb23-3fb731b5e3c0\">\n",
              "    <div class=\"colab-df-container\">\n",
              "      <div>\n",
              "<style scoped>\n",
              "    .dataframe tbody tr th:only-of-type {\n",
              "        vertical-align: middle;\n",
              "    }\n",
              "\n",
              "    .dataframe tbody tr th {\n",
              "        vertical-align: top;\n",
              "    }\n",
              "\n",
              "    .dataframe thead th {\n",
              "        text-align: right;\n",
              "    }\n",
              "</style>\n",
              "<table border=\"1\" class=\"dataframe\">\n",
              "  <thead>\n",
              "    <tr style=\"text-align: right;\">\n",
              "      <th></th>\n",
              "      <th>CASENO</th>\n",
              "      <th>OFFENSE</th>\n",
              "      <th>EVENTDT</th>\n",
              "      <th>EVENTTM</th>\n",
              "      <th>CVLEGEND</th>\n",
              "      <th>CVDOW</th>\n",
              "      <th>InDbDate</th>\n",
              "      <th>Block_Location</th>\n",
              "      <th>BLKADDR</th>\n",
              "      <th>City</th>\n",
              "      <th>State</th>\n",
              "    </tr>\n",
              "  </thead>\n",
              "  <tbody>\n",
              "    <tr>\n",
              "      <th>0</th>\n",
              "      <td>18022300</td>\n",
              "      <td>DISTURBANCE</td>\n",
              "      <td>04/18/2018 12:00:00 AM</td>\n",
              "      <td>22:17</td>\n",
              "      <td>DISORDERLY CONDUCT</td>\n",
              "      <td>3</td>\n",
              "      <td>09/06/2018 03:30:12 AM</td>\n",
              "      <td>OREGON STREET &amp;amp; MCGEE AVE\\nBerkeley, CA\\n(...</td>\n",
              "      <td>OREGON STREET &amp; MCGEE AVE</td>\n",
              "      <td>Berkeley</td>\n",
              "      <td>CA</td>\n",
              "    </tr>\n",
              "    <tr>\n",
              "      <th>1</th>\n",
              "      <td>18026683</td>\n",
              "      <td>THEFT MISD. (UNDER $950)</td>\n",
              "      <td>05/09/2018 12:00:00 AM</td>\n",
              "      <td>21:25</td>\n",
              "      <td>LARCENY</td>\n",
              "      <td>3</td>\n",
              "      <td>09/06/2018 03:30:13 AM</td>\n",
              "      <td>200 UNIVERSITY AVE\\nBerkeley, CA\\n(37.865511, ...</td>\n",
              "      <td>200 UNIVERSITY AVE</td>\n",
              "      <td>Berkeley</td>\n",
              "      <td>CA</td>\n",
              "    </tr>\n",
              "    <tr>\n",
              "      <th>2</th>\n",
              "      <td>18038550</td>\n",
              "      <td>THEFT MISD. (UNDER $950)</td>\n",
              "      <td>05/18/2018 12:00:00 AM</td>\n",
              "      <td>20:00</td>\n",
              "      <td>LARCENY</td>\n",
              "      <td>5</td>\n",
              "      <td>09/06/2018 03:30:09 AM</td>\n",
              "      <td>2200 MILVIA ST\\nBerkeley, CA\\n(37.868574, -122...</td>\n",
              "      <td>2200 MILVIA ST</td>\n",
              "      <td>Berkeley</td>\n",
              "      <td>CA</td>\n",
              "    </tr>\n",
              "    <tr>\n",
              "      <th>3</th>\n",
              "      <td>18014810</td>\n",
              "      <td>BURGLARY AUTO</td>\n",
              "      <td>03/13/2018 12:00:00 AM</td>\n",
              "      <td>08:50</td>\n",
              "      <td>BURGLARY - VEHICLE</td>\n",
              "      <td>2</td>\n",
              "      <td>09/06/2018 03:30:08 AM</td>\n",
              "      <td>1200 SIXTH ST\\nBerkeley, CA\\n(37.881142, -122....</td>\n",
              "      <td>1200 SIXTH ST</td>\n",
              "      <td>Berkeley</td>\n",
              "      <td>CA</td>\n",
              "    </tr>\n",
              "    <tr>\n",
              "      <th>4</th>\n",
              "      <td>18018643</td>\n",
              "      <td>ALCOHOL OFFENSE</td>\n",
              "      <td>03/31/2018 12:00:00 AM</td>\n",
              "      <td>13:29</td>\n",
              "      <td>LIQUOR LAW VIOLATION</td>\n",
              "      <td>6</td>\n",
              "      <td>09/06/2018 03:30:11 AM</td>\n",
              "      <td>CENTER STREET &amp;amp; SHATTUCK AVE\\nBerkeley, CA...</td>\n",
              "      <td>CENTER STREET &amp; SHATTUCK AVE</td>\n",
              "      <td>Berkeley</td>\n",
              "      <td>CA</td>\n",
              "    </tr>\n",
              "  </tbody>\n",
              "</table>\n",
              "</div>\n",
              "      <button class=\"colab-df-convert\" onclick=\"convertToInteractive('df-035a3b0c-8fed-4baa-bb23-3fb731b5e3c0')\"\n",
              "              title=\"Convert this dataframe to an interactive table.\"\n",
              "              style=\"display:none;\">\n",
              "        \n",
              "  <svg xmlns=\"http://www.w3.org/2000/svg\" height=\"24px\"viewBox=\"0 0 24 24\"\n",
              "       width=\"24px\">\n",
              "    <path d=\"M0 0h24v24H0V0z\" fill=\"none\"/>\n",
              "    <path d=\"M18.56 5.44l.94 2.06.94-2.06 2.06-.94-2.06-.94-.94-2.06-.94 2.06-2.06.94zm-11 1L8.5 8.5l.94-2.06 2.06-.94-2.06-.94L8.5 2.5l-.94 2.06-2.06.94zm10 10l.94 2.06.94-2.06 2.06-.94-2.06-.94-.94-2.06-.94 2.06-2.06.94z\"/><path d=\"M17.41 7.96l-1.37-1.37c-.4-.4-.92-.59-1.43-.59-.52 0-1.04.2-1.43.59L10.3 9.45l-7.72 7.72c-.78.78-.78 2.05 0 2.83L4 21.41c.39.39.9.59 1.41.59.51 0 1.02-.2 1.41-.59l7.78-7.78 2.81-2.81c.8-.78.8-2.07 0-2.86zM5.41 20L4 18.59l7.72-7.72 1.47 1.35L5.41 20z\"/>\n",
              "  </svg>\n",
              "      </button>\n",
              "      \n",
              "  <style>\n",
              "    .colab-df-container {\n",
              "      display:flex;\n",
              "      flex-wrap:wrap;\n",
              "      gap: 12px;\n",
              "    }\n",
              "\n",
              "    .colab-df-convert {\n",
              "      background-color: #E8F0FE;\n",
              "      border: none;\n",
              "      border-radius: 50%;\n",
              "      cursor: pointer;\n",
              "      display: none;\n",
              "      fill: #1967D2;\n",
              "      height: 32px;\n",
              "      padding: 0 0 0 0;\n",
              "      width: 32px;\n",
              "    }\n",
              "\n",
              "    .colab-df-convert:hover {\n",
              "      background-color: #E2EBFA;\n",
              "      box-shadow: 0px 1px 2px rgba(60, 64, 67, 0.3), 0px 1px 3px 1px rgba(60, 64, 67, 0.15);\n",
              "      fill: #174EA6;\n",
              "    }\n",
              "\n",
              "    [theme=dark] .colab-df-convert {\n",
              "      background-color: #3B4455;\n",
              "      fill: #D2E3FC;\n",
              "    }\n",
              "\n",
              "    [theme=dark] .colab-df-convert:hover {\n",
              "      background-color: #434B5C;\n",
              "      box-shadow: 0px 1px 3px 1px rgba(0, 0, 0, 0.15);\n",
              "      filter: drop-shadow(0px 1px 2px rgba(0, 0, 0, 0.3));\n",
              "      fill: #FFFFFF;\n",
              "    }\n",
              "  </style>\n",
              "\n",
              "      <script>\n",
              "        const buttonEl =\n",
              "          document.querySelector('#df-035a3b0c-8fed-4baa-bb23-3fb731b5e3c0 button.colab-df-convert');\n",
              "        buttonEl.style.display =\n",
              "          google.colab.kernel.accessAllowed ? 'block' : 'none';\n",
              "\n",
              "        async function convertToInteractive(key) {\n",
              "          const element = document.querySelector('#df-035a3b0c-8fed-4baa-bb23-3fb731b5e3c0');\n",
              "          const dataTable =\n",
              "            await google.colab.kernel.invokeFunction('convertToInteractive',\n",
              "                                                     [key], {});\n",
              "          if (!dataTable) return;\n",
              "\n",
              "          const docLinkHtml = 'Like what you see? Visit the ' +\n",
              "            '<a target=\"_blank\" href=https://colab.research.google.com/notebooks/data_table.ipynb>data table notebook</a>'\n",
              "            + ' to learn more about interactive tables.';\n",
              "          element.innerHTML = '';\n",
              "          dataTable['output_type'] = 'display_data';\n",
              "          await google.colab.output.renderOutput(dataTable, element);\n",
              "          const docLink = document.createElement('div');\n",
              "          docLink.innerHTML = docLinkHtml;\n",
              "          element.appendChild(docLink);\n",
              "        }\n",
              "      </script>\n",
              "    </div>\n",
              "  </div>\n",
              "  "
            ]
          },
          "metadata": {},
          "execution_count": 11
        }
      ],
      "source": [
        "calls = pd.read_csv(\"data/Berkeley_PD_-_Calls_for_Service.csv\")\n",
        "calls.head()"
      ]
    },
    {
      "cell_type": "markdown",
      "metadata": {
        "id": "XqcTwQqdWI13"
      },
      "source": [
        "We see that the fields include a case number, the offense type, the date and time of the offense, the \"CVLEGEND\" which appears to be related to the offense type, a \"CVDOW\" which has no apparent meaning, a date added to the database, and the location spread across four fields.\n",
        "\n",
        "Let's also check some basic information about these files using the `DataFrame.info` and `DataFrame.describe` methods."
      ]
    },
    {
      "cell_type": "code",
      "execution_count": 12,
      "metadata": {
        "jupyter": {
          "outputs_hidden": false
        },
        "id": "eD68S5leWI14",
        "outputId": "f194e9bd-7c2d-4270-de6c-413c2c3d5b91",
        "colab": {
          "base_uri": "https://localhost:8080/"
        }
      },
      "outputs": [
        {
          "output_type": "stream",
          "name": "stdout",
          "text": [
            "<class 'pandas.core.frame.DataFrame'>\n",
            "RangeIndex: 3788 entries, 0 to 3787\n",
            "Data columns (total 11 columns):\n",
            " #   Column          Non-Null Count  Dtype \n",
            "---  ------          --------------  ----- \n",
            " 0   CASENO          3788 non-null   int64 \n",
            " 1   OFFENSE         3788 non-null   object\n",
            " 2   EVENTDT         3788 non-null   object\n",
            " 3   EVENTTM         3788 non-null   object\n",
            " 4   CVLEGEND        3788 non-null   object\n",
            " 5   CVDOW           3788 non-null   int64 \n",
            " 6   InDbDate        3788 non-null   object\n",
            " 7   Block_Location  3788 non-null   object\n",
            " 8   BLKADDR         3766 non-null   object\n",
            " 9   City            3788 non-null   object\n",
            " 10  State           3788 non-null   object\n",
            "dtypes: int64(2), object(9)\n",
            "memory usage: 325.7+ KB\n"
          ]
        }
      ],
      "source": [
        "calls.info()"
      ]
    },
    {
      "cell_type": "markdown",
      "metadata": {
        "id": "45ykZUwwWI15"
      },
      "source": [
        "Note that the `BLKADDR` column only has 3766 non-null entries, while the other columns all have 3788 entries. This is because the `.info()` method only counts non-null entries."
      ]
    },
    {
      "cell_type": "code",
      "execution_count": 13,
      "metadata": {
        "jupyter": {
          "outputs_hidden": false
        },
        "id": "Kr4npFaVWI15",
        "outputId": "76f6478e-fad4-47f9-8878-f41365984336",
        "colab": {
          "base_uri": "https://localhost:8080/",
          "height": 300
        }
      },
      "outputs": [
        {
          "output_type": "execute_result",
          "data": {
            "text/plain": [
              "             CASENO        CVDOW\n",
              "count  3.788000e+03  3788.000000\n",
              "mean   1.804387e+07     2.997888\n",
              "std    2.665970e+04     1.952160\n",
              "min    1.801375e+07     0.000000\n",
              "25%    1.802444e+07     1.000000\n",
              "50%    1.803530e+07     3.000000\n",
              "75%    1.804537e+07     5.000000\n",
              "max    1.809135e+07     6.000000"
            ],
            "text/html": [
              "\n",
              "  <div id=\"df-ef3ab5e3-4480-4cc6-81f3-77bff6c006f5\">\n",
              "    <div class=\"colab-df-container\">\n",
              "      <div>\n",
              "<style scoped>\n",
              "    .dataframe tbody tr th:only-of-type {\n",
              "        vertical-align: middle;\n",
              "    }\n",
              "\n",
              "    .dataframe tbody tr th {\n",
              "        vertical-align: top;\n",
              "    }\n",
              "\n",
              "    .dataframe thead th {\n",
              "        text-align: right;\n",
              "    }\n",
              "</style>\n",
              "<table border=\"1\" class=\"dataframe\">\n",
              "  <thead>\n",
              "    <tr style=\"text-align: right;\">\n",
              "      <th></th>\n",
              "      <th>CASENO</th>\n",
              "      <th>CVDOW</th>\n",
              "    </tr>\n",
              "  </thead>\n",
              "  <tbody>\n",
              "    <tr>\n",
              "      <th>count</th>\n",
              "      <td>3.788000e+03</td>\n",
              "      <td>3788.000000</td>\n",
              "    </tr>\n",
              "    <tr>\n",
              "      <th>mean</th>\n",
              "      <td>1.804387e+07</td>\n",
              "      <td>2.997888</td>\n",
              "    </tr>\n",
              "    <tr>\n",
              "      <th>std</th>\n",
              "      <td>2.665970e+04</td>\n",
              "      <td>1.952160</td>\n",
              "    </tr>\n",
              "    <tr>\n",
              "      <th>min</th>\n",
              "      <td>1.801375e+07</td>\n",
              "      <td>0.000000</td>\n",
              "    </tr>\n",
              "    <tr>\n",
              "      <th>25%</th>\n",
              "      <td>1.802444e+07</td>\n",
              "      <td>1.000000</td>\n",
              "    </tr>\n",
              "    <tr>\n",
              "      <th>50%</th>\n",
              "      <td>1.803530e+07</td>\n",
              "      <td>3.000000</td>\n",
              "    </tr>\n",
              "    <tr>\n",
              "      <th>75%</th>\n",
              "      <td>1.804537e+07</td>\n",
              "      <td>5.000000</td>\n",
              "    </tr>\n",
              "    <tr>\n",
              "      <th>max</th>\n",
              "      <td>1.809135e+07</td>\n",
              "      <td>6.000000</td>\n",
              "    </tr>\n",
              "  </tbody>\n",
              "</table>\n",
              "</div>\n",
              "      <button class=\"colab-df-convert\" onclick=\"convertToInteractive('df-ef3ab5e3-4480-4cc6-81f3-77bff6c006f5')\"\n",
              "              title=\"Convert this dataframe to an interactive table.\"\n",
              "              style=\"display:none;\">\n",
              "        \n",
              "  <svg xmlns=\"http://www.w3.org/2000/svg\" height=\"24px\"viewBox=\"0 0 24 24\"\n",
              "       width=\"24px\">\n",
              "    <path d=\"M0 0h24v24H0V0z\" fill=\"none\"/>\n",
              "    <path d=\"M18.56 5.44l.94 2.06.94-2.06 2.06-.94-2.06-.94-.94-2.06-.94 2.06-2.06.94zm-11 1L8.5 8.5l.94-2.06 2.06-.94-2.06-.94L8.5 2.5l-.94 2.06-2.06.94zm10 10l.94 2.06.94-2.06 2.06-.94-2.06-.94-.94-2.06-.94 2.06-2.06.94z\"/><path d=\"M17.41 7.96l-1.37-1.37c-.4-.4-.92-.59-1.43-.59-.52 0-1.04.2-1.43.59L10.3 9.45l-7.72 7.72c-.78.78-.78 2.05 0 2.83L4 21.41c.39.39.9.59 1.41.59.51 0 1.02-.2 1.41-.59l7.78-7.78 2.81-2.81c.8-.78.8-2.07 0-2.86zM5.41 20L4 18.59l7.72-7.72 1.47 1.35L5.41 20z\"/>\n",
              "  </svg>\n",
              "      </button>\n",
              "      \n",
              "  <style>\n",
              "    .colab-df-container {\n",
              "      display:flex;\n",
              "      flex-wrap:wrap;\n",
              "      gap: 12px;\n",
              "    }\n",
              "\n",
              "    .colab-df-convert {\n",
              "      background-color: #E8F0FE;\n",
              "      border: none;\n",
              "      border-radius: 50%;\n",
              "      cursor: pointer;\n",
              "      display: none;\n",
              "      fill: #1967D2;\n",
              "      height: 32px;\n",
              "      padding: 0 0 0 0;\n",
              "      width: 32px;\n",
              "    }\n",
              "\n",
              "    .colab-df-convert:hover {\n",
              "      background-color: #E2EBFA;\n",
              "      box-shadow: 0px 1px 2px rgba(60, 64, 67, 0.3), 0px 1px 3px 1px rgba(60, 64, 67, 0.15);\n",
              "      fill: #174EA6;\n",
              "    }\n",
              "\n",
              "    [theme=dark] .colab-df-convert {\n",
              "      background-color: #3B4455;\n",
              "      fill: #D2E3FC;\n",
              "    }\n",
              "\n",
              "    [theme=dark] .colab-df-convert:hover {\n",
              "      background-color: #434B5C;\n",
              "      box-shadow: 0px 1px 3px 1px rgba(0, 0, 0, 0.15);\n",
              "      filter: drop-shadow(0px 1px 2px rgba(0, 0, 0, 0.3));\n",
              "      fill: #FFFFFF;\n",
              "    }\n",
              "  </style>\n",
              "\n",
              "      <script>\n",
              "        const buttonEl =\n",
              "          document.querySelector('#df-ef3ab5e3-4480-4cc6-81f3-77bff6c006f5 button.colab-df-convert');\n",
              "        buttonEl.style.display =\n",
              "          google.colab.kernel.accessAllowed ? 'block' : 'none';\n",
              "\n",
              "        async function convertToInteractive(key) {\n",
              "          const element = document.querySelector('#df-ef3ab5e3-4480-4cc6-81f3-77bff6c006f5');\n",
              "          const dataTable =\n",
              "            await google.colab.kernel.invokeFunction('convertToInteractive',\n",
              "                                                     [key], {});\n",
              "          if (!dataTable) return;\n",
              "\n",
              "          const docLinkHtml = 'Like what you see? Visit the ' +\n",
              "            '<a target=\"_blank\" href=https://colab.research.google.com/notebooks/data_table.ipynb>data table notebook</a>'\n",
              "            + ' to learn more about interactive tables.';\n",
              "          element.innerHTML = '';\n",
              "          dataTable['output_type'] = 'display_data';\n",
              "          await google.colab.output.renderOutput(dataTable, element);\n",
              "          const docLink = document.createElement('div');\n",
              "          docLink.innerHTML = docLinkHtml;\n",
              "          element.appendChild(docLink);\n",
              "        }\n",
              "      </script>\n",
              "    </div>\n",
              "  </div>\n",
              "  "
            ]
          },
          "metadata": {},
          "execution_count": 13
        }
      ],
      "source": [
        "calls.describe()"
      ]
    },
    {
      "cell_type": "markdown",
      "metadata": {
        "nbgrader": {
          "grade": false,
          "grade_id": "explore-4",
          "locked": true,
          "schema_version": 2,
          "solution": false
        },
        "id": "BzYlQELFWI16"
      },
      "source": [
        "Notice that the functions above reveal type information for the columns, as well as some basic statistics about the numerical columns found in the DataFrame. However, we still need more information about what each column represents. Let's explore the data further in Question 1.\n",
        "\n",
        "Before we go over the fields to see their meanings, the cell below will verify that all the events happened in Berkeley by grouping on the `City` and `State` columns. You should see that all of our data falls into one group."
      ]
    },
    {
      "cell_type": "code",
      "execution_count": 14,
      "metadata": {
        "jupyter": {
          "outputs_hidden": false
        },
        "id": "pdgvCc_CWI16",
        "outputId": "bcb286ae-e617-4e84-deb3-5298b8f2c364",
        "colab": {
          "base_uri": "https://localhost:8080/",
          "height": 112
        }
      },
      "outputs": [
        {
          "output_type": "execute_result",
          "data": {
            "text/plain": [
              "                CASENO  OFFENSE  EVENTDT  EVENTTM  CVLEGEND  CVDOW  InDbDate  \\\n",
              "City     State                                                                 \n",
              "Berkeley CA       3788     3788     3788     3788      3788   3788      3788   \n",
              "\n",
              "                Block_Location  BLKADDR  \n",
              "City     State                           \n",
              "Berkeley CA               3788     3766  "
            ],
            "text/html": [
              "\n",
              "  <div id=\"df-7db6cd82-565d-4f49-84f2-37d24d774289\">\n",
              "    <div class=\"colab-df-container\">\n",
              "      <div>\n",
              "<style scoped>\n",
              "    .dataframe tbody tr th:only-of-type {\n",
              "        vertical-align: middle;\n",
              "    }\n",
              "\n",
              "    .dataframe tbody tr th {\n",
              "        vertical-align: top;\n",
              "    }\n",
              "\n",
              "    .dataframe thead th {\n",
              "        text-align: right;\n",
              "    }\n",
              "</style>\n",
              "<table border=\"1\" class=\"dataframe\">\n",
              "  <thead>\n",
              "    <tr style=\"text-align: right;\">\n",
              "      <th></th>\n",
              "      <th></th>\n",
              "      <th>CASENO</th>\n",
              "      <th>OFFENSE</th>\n",
              "      <th>EVENTDT</th>\n",
              "      <th>EVENTTM</th>\n",
              "      <th>CVLEGEND</th>\n",
              "      <th>CVDOW</th>\n",
              "      <th>InDbDate</th>\n",
              "      <th>Block_Location</th>\n",
              "      <th>BLKADDR</th>\n",
              "    </tr>\n",
              "    <tr>\n",
              "      <th>City</th>\n",
              "      <th>State</th>\n",
              "      <th></th>\n",
              "      <th></th>\n",
              "      <th></th>\n",
              "      <th></th>\n",
              "      <th></th>\n",
              "      <th></th>\n",
              "      <th></th>\n",
              "      <th></th>\n",
              "      <th></th>\n",
              "    </tr>\n",
              "  </thead>\n",
              "  <tbody>\n",
              "    <tr>\n",
              "      <th>Berkeley</th>\n",
              "      <th>CA</th>\n",
              "      <td>3788</td>\n",
              "      <td>3788</td>\n",
              "      <td>3788</td>\n",
              "      <td>3788</td>\n",
              "      <td>3788</td>\n",
              "      <td>3788</td>\n",
              "      <td>3788</td>\n",
              "      <td>3788</td>\n",
              "      <td>3766</td>\n",
              "    </tr>\n",
              "  </tbody>\n",
              "</table>\n",
              "</div>\n",
              "      <button class=\"colab-df-convert\" onclick=\"convertToInteractive('df-7db6cd82-565d-4f49-84f2-37d24d774289')\"\n",
              "              title=\"Convert this dataframe to an interactive table.\"\n",
              "              style=\"display:none;\">\n",
              "        \n",
              "  <svg xmlns=\"http://www.w3.org/2000/svg\" height=\"24px\"viewBox=\"0 0 24 24\"\n",
              "       width=\"24px\">\n",
              "    <path d=\"M0 0h24v24H0V0z\" fill=\"none\"/>\n",
              "    <path d=\"M18.56 5.44l.94 2.06.94-2.06 2.06-.94-2.06-.94-.94-2.06-.94 2.06-2.06.94zm-11 1L8.5 8.5l.94-2.06 2.06-.94-2.06-.94L8.5 2.5l-.94 2.06-2.06.94zm10 10l.94 2.06.94-2.06 2.06-.94-2.06-.94-.94-2.06-.94 2.06-2.06.94z\"/><path d=\"M17.41 7.96l-1.37-1.37c-.4-.4-.92-.59-1.43-.59-.52 0-1.04.2-1.43.59L10.3 9.45l-7.72 7.72c-.78.78-.78 2.05 0 2.83L4 21.41c.39.39.9.59 1.41.59.51 0 1.02-.2 1.41-.59l7.78-7.78 2.81-2.81c.8-.78.8-2.07 0-2.86zM5.41 20L4 18.59l7.72-7.72 1.47 1.35L5.41 20z\"/>\n",
              "  </svg>\n",
              "      </button>\n",
              "      \n",
              "  <style>\n",
              "    .colab-df-container {\n",
              "      display:flex;\n",
              "      flex-wrap:wrap;\n",
              "      gap: 12px;\n",
              "    }\n",
              "\n",
              "    .colab-df-convert {\n",
              "      background-color: #E8F0FE;\n",
              "      border: none;\n",
              "      border-radius: 50%;\n",
              "      cursor: pointer;\n",
              "      display: none;\n",
              "      fill: #1967D2;\n",
              "      height: 32px;\n",
              "      padding: 0 0 0 0;\n",
              "      width: 32px;\n",
              "    }\n",
              "\n",
              "    .colab-df-convert:hover {\n",
              "      background-color: #E2EBFA;\n",
              "      box-shadow: 0px 1px 2px rgba(60, 64, 67, 0.3), 0px 1px 3px 1px rgba(60, 64, 67, 0.15);\n",
              "      fill: #174EA6;\n",
              "    }\n",
              "\n",
              "    [theme=dark] .colab-df-convert {\n",
              "      background-color: #3B4455;\n",
              "      fill: #D2E3FC;\n",
              "    }\n",
              "\n",
              "    [theme=dark] .colab-df-convert:hover {\n",
              "      background-color: #434B5C;\n",
              "      box-shadow: 0px 1px 3px 1px rgba(0, 0, 0, 0.15);\n",
              "      filter: drop-shadow(0px 1px 2px rgba(0, 0, 0, 0.3));\n",
              "      fill: #FFFFFF;\n",
              "    }\n",
              "  </style>\n",
              "\n",
              "      <script>\n",
              "        const buttonEl =\n",
              "          document.querySelector('#df-7db6cd82-565d-4f49-84f2-37d24d774289 button.colab-df-convert');\n",
              "        buttonEl.style.display =\n",
              "          google.colab.kernel.accessAllowed ? 'block' : 'none';\n",
              "\n",
              "        async function convertToInteractive(key) {\n",
              "          const element = document.querySelector('#df-7db6cd82-565d-4f49-84f2-37d24d774289');\n",
              "          const dataTable =\n",
              "            await google.colab.kernel.invokeFunction('convertToInteractive',\n",
              "                                                     [key], {});\n",
              "          if (!dataTable) return;\n",
              "\n",
              "          const docLinkHtml = 'Like what you see? Visit the ' +\n",
              "            '<a target=\"_blank\" href=https://colab.research.google.com/notebooks/data_table.ipynb>data table notebook</a>'\n",
              "            + ' to learn more about interactive tables.';\n",
              "          element.innerHTML = '';\n",
              "          dataTable['output_type'] = 'display_data';\n",
              "          await google.colab.output.renderOutput(dataTable, element);\n",
              "          const docLink = document.createElement('div');\n",
              "          docLink.innerHTML = docLinkHtml;\n",
              "          element.appendChild(docLink);\n",
              "        }\n",
              "      </script>\n",
              "    </div>\n",
              "  </div>\n",
              "  "
            ]
          },
          "metadata": {},
          "execution_count": 14
        }
      ],
      "source": [
        "calls.groupby([\"City\",\"State\"]).count()"
      ]
    },
    {
      "cell_type": "markdown",
      "metadata": {
        "nbgrader": {
          "grade": false,
          "grade_id": "q1",
          "locked": true,
          "schema_version": 2,
          "solution": false
        },
        "id": "8wtYuxp2WI16"
      },
      "source": [
        "When we called `head()` on the Dataframe `calls`, it seemed like `OFFENSE` and `CVLEGEND` both contained information about the type of event reported. What is the difference in meaning between the two columns? One way to probe this is to look at the `value_counts` for each Series."
      ]
    },
    {
      "cell_type": "code",
      "execution_count": 15,
      "metadata": {
        "jupyter": {
          "outputs_hidden": false
        },
        "id": "miJtl-fzWI17",
        "outputId": "b629ab9b-fd52-4d21-d3c9-899c4cd3a786",
        "colab": {
          "base_uri": "https://localhost:8080/"
        }
      },
      "outputs": [
        {
          "output_type": "execute_result",
          "data": {
            "text/plain": [
              "BURGLARY AUTO               658\n",
              "THEFT MISD. (UNDER $950)    633\n",
              "DISTURBANCE                 277\n",
              "VANDALISM                   248\n",
              "VEHICLE STOLEN              235\n",
              "THEFT FELONY (OVER $950)    214\n",
              "BURGLARY RESIDENTIAL        194\n",
              "ASSAULT/BATTERY MISD.       190\n",
              "ROBBERY                     168\n",
              "NARCOTICS                   118\n",
              "Name: OFFENSE, dtype: int64"
            ]
          },
          "metadata": {},
          "execution_count": 15
        }
      ],
      "source": [
        "calls['OFFENSE'].value_counts().head(10)"
      ]
    },
    {
      "cell_type": "code",
      "execution_count": 16,
      "metadata": {
        "jupyter": {
          "outputs_hidden": false
        },
        "id": "GFGggJ1WWI17",
        "outputId": "73a53bca-3d4c-4afb-a360-d5363a36e0e4",
        "colab": {
          "base_uri": "https://localhost:8080/"
        }
      },
      "outputs": [
        {
          "output_type": "execute_result",
          "data": {
            "text/plain": [
              "LARCENY                   871\n",
              "BURGLARY - VEHICLE        658\n",
              "DISORDERLY CONDUCT        279\n",
              "ASSAULT                   263\n",
              "VANDALISM                 248\n",
              "MOTOR VEHICLE THEFT       235\n",
              "FRAUD                     208\n",
              "BURGLARY - RESIDENTIAL    194\n",
              "ROBBERY                   168\n",
              "DRUG VIOLATION            118\n",
              "Name: CVLEGEND, dtype: int64"
            ]
          },
          "metadata": {},
          "execution_count": 16
        }
      ],
      "source": [
        "calls['CVLEGEND'].value_counts().head(10)"
      ]
    },
    {
      "cell_type": "markdown",
      "metadata": {
        "nbgrader": {
          "grade": false,
          "grade_id": "q1a",
          "locked": true,
          "schema_version": 2,
          "solution": false
        },
        "id": "zEJ8PhJHWI18"
      },
      "source": [
        "It seems like `OFFENSE` is more specific than `CVLEGEND`, e.g. \"LARCENY\" vs. \"THEFT FELONY (OVER $950)\". If you're unfamiliar with the term, \"larceny\" is a legal term for theft of personal property.\n",
        "\n",
        "To get a sense of how many subcategories there are for each `OFFENSE`, we will set `calls_by_cvlegend_and_offense` equal to a multi-indexed series where the data is first indexed on the `CVLEGEND` and then on the `OFFENSE`, and the data is equal to the number of offenses in the database that match the respective `CVLEGEND` and `OFFENSE`. As you can see, `calls_by_cvlegend_and_offense[\"LARCENY\", \"THEFT FROM PERSON\"]` returns 24 which means there are 24 instances of larceny with offense of type \"THEFT FROM PERSON\" in the database."
      ]
    },
    {
      "cell_type": "code",
      "execution_count": 23,
      "metadata": {
        "id": "PEv0E4C_WI18",
        "outputId": "566b22eb-92b3-42a0-f76f-36868e92e4d6",
        "colab": {
          "base_uri": "https://localhost:8080/"
        }
      },
      "outputs": [
        {
          "output_type": "execute_result",
          "data": {
            "text/plain": [
              "3"
            ]
          },
          "metadata": {},
          "execution_count": 23
        }
      ],
      "source": [
        "calls_by_cvlegend_and_offense = calls.groupby([\"CVLEGEND\", \"OFFENSE\"]).size()\n",
        "calls_by_cvlegend_and_offense[\"LARCENY\", \"THEFT FROM PERSON\"]\n",
        "len(calls[calls[\"CVLEGEND\"]==\"LARCENY\"][\"OFFENSE\"].unique()) # or .value_counts()"
      ]
    },
    {
      "cell_type": "markdown",
      "metadata": {
        "deletable": false,
        "editable": false,
        "nbgrader": {
          "grade": false,
          "grade_id": "q1b",
          "locked": true,
          "schema_version": 2,
          "solution": false
        },
        "id": "g8BsEYrRWI19"
      },
      "source": [
        "### Question 1\n",
        "\n",
        "In the cell below, set `answer1` equal to a list of strings corresponding to the possible values for `OFFENSE` when `CVLEGEND` is \"LARCENY\". You can type the answer manually, or you can create an expression that automatically extracts the names.\n",
        "\n",
        "<!--\n",
        "BEGIN QUESTION\n",
        "name: q1\n",
        "-->"
      ]
    },
    {
      "cell_type": "code",
      "execution_count": 24,
      "metadata": {
        "jupyter": {
          "outputs_hidden": false
        },
        "id": "q5Fy9dTqWI19"
      },
      "outputs": [],
      "source": [
        "answer1 = len(calls[calls[\"CVLEGEND\"]==\"LARCENY\"][\"OFFENSE\"].unique()) # or .value_counts()"
      ]
    },
    {
      "cell_type": "code",
      "execution_count": 25,
      "metadata": {
        "deletable": false,
        "editable": false,
        "id": "RWosB-LHWI19",
        "outputId": "7aaffc27-358a-4a72-847a-e2d6b515eaf8",
        "colab": {
          "base_uri": "https://localhost:8080/",
          "height": 1000
        }
      },
      "outputs": [
        {
          "output_type": "execute_result",
          "data": {
            "text/plain": [
              "q1 results:\n",
              "    q1 - 1 result:\n",
              "        Trying:\n",
              "            isinstance(answer1, list)\n",
              "        Expecting:\n",
              "            True\n",
              "        **********************************************************************\n",
              "        Line 1, in q1 0\n",
              "        Failed example:\n",
              "            isinstance(answer1, list)\n",
              "        Expected:\n",
              "            True\n",
              "        Got:\n",
              "            False\n",
              "\n",
              "        PYDEV DEBUGGER WARNING:\n",
              "        sys.settrace() should not be used when the debugger is being used.\n",
              "        This may cause the debugger to stop working correctly.\n",
              "        If this is needed, please check: \n",
              "        http://pydev.blogspot.com/2007/06/why-cant-pydev-debugger-work-with.html\n",
              "        to see how to restore the debug tracing back correctly.\n",
              "        Call Location:\n",
              "          File \"/usr/lib/python3.7/doctest.py\", line 1487, in run\n",
              "            sys.settrace(save_trace)\n",
              "\n",
              "    q1 - 2 result:\n",
              "        Trying:\n",
              "            all([isinstance(elt, str) for elt in answer1])\n",
              "        Expecting:\n",
              "            True\n",
              "        **********************************************************************\n",
              "        Line 1, in q1 1\n",
              "        Failed example:\n",
              "            all([isinstance(elt, str) for elt in answer1])\n",
              "        Exception raised:\n",
              "            Traceback (most recent call last):\n",
              "              File \"/usr/lib/python3.7/doctest.py\", line 1337, in __run\n",
              "                compileflags, 1), test.globs)\n",
              "              File \"<doctest q1 1[0]>\", line 1, in <module>\n",
              "                all([isinstance(elt, str) for elt in answer1])\n",
              "            TypeError: 'int' object is not iterable\n",
              "\n",
              "    q1 - 3 result:\n",
              "        Trying:\n",
              "            len(answer1) == 3\n",
              "        Expecting:\n",
              "            True\n",
              "        **********************************************************************\n",
              "        Line 1, in q1 2\n",
              "        Failed example:\n",
              "            len(answer1) == 3\n",
              "        Exception raised:\n",
              "            Traceback (most recent call last):\n",
              "              File \"/usr/lib/python3.7/doctest.py\", line 1337, in __run\n",
              "                compileflags, 1), test.globs)\n",
              "              File \"<doctest q1 2[0]>\", line 1, in <module>\n",
              "                len(answer1) == 3\n",
              "            TypeError: object of type 'int' has no len()\n",
              "\n",
              "    q1 - 4 result:\n",
              "        Trying:\n",
              "            all([elt in calls['OFFENSE'].values for elt in answer1])\n",
              "        Expecting:\n",
              "            True\n",
              "        **********************************************************************\n",
              "        Line 1, in q1 3\n",
              "        Failed example:\n",
              "            all([elt in calls['OFFENSE'].values for elt in answer1])\n",
              "        Exception raised:\n",
              "            Traceback (most recent call last):\n",
              "              File \"/usr/lib/python3.7/doctest.py\", line 1337, in __run\n",
              "                compileflags, 1), test.globs)\n",
              "              File \"<doctest q1 3[0]>\", line 1, in <module>\n",
              "                all([elt in calls['OFFENSE'].values for elt in answer1])\n",
              "            TypeError: 'int' object is not iterable\n",
              "\n",
              "    q1 - 5 result:\n",
              "        Trying:\n",
              "            set([a.strip().upper() for a in answer1]) == set(['THEFT FELONY (OVER $950)', 'THEFT FROM PERSON', 'THEFT MISD. (UNDER $950)'])\n",
              "        Expecting:\n",
              "            True\n",
              "        **********************************************************************\n",
              "        Line 1, in q1 4\n",
              "        Failed example:\n",
              "            set([a.strip().upper() for a in answer1]) == set(['THEFT FELONY (OVER $950)', 'THEFT FROM PERSON', 'THEFT MISD. (UNDER $950)'])\n",
              "        Exception raised:\n",
              "            Traceback (most recent call last):\n",
              "              File \"/usr/lib/python3.7/doctest.py\", line 1337, in __run\n",
              "                compileflags, 1), test.globs)\n",
              "              File \"<doctest q1 4[0]>\", line 1, in <module>\n",
              "                set([a.strip().upper() for a in answer1]) == set(['THEFT FELONY (OVER $950)', 'THEFT FROM PERSON', 'THEFT MISD. (UNDER $950)'])\n",
              "            TypeError: 'int' object is not iterable"
            ],
            "text/html": [
              "<p><strong style='color: red;'><pre style='display: inline;'>q1</pre> results:</strong></p><p><strong><pre style='display: inline;'>q1 - 1</pre> result:</strong></p><pre>    Trying:\n",
              "        isinstance(answer1, list)\n",
              "    Expecting:\n",
              "        True\n",
              "    **********************************************************************\n",
              "    Line 1, in q1 0\n",
              "    Failed example:\n",
              "        isinstance(answer1, list)\n",
              "    Expected:\n",
              "        True\n",
              "    Got:\n",
              "        False\n",
              "\n",
              "    PYDEV DEBUGGER WARNING:\n",
              "    sys.settrace() should not be used when the debugger is being used.\n",
              "    This may cause the debugger to stop working correctly.\n",
              "    If this is needed, please check: \n",
              "    http://pydev.blogspot.com/2007/06/why-cant-pydev-debugger-work-with.html\n",
              "    to see how to restore the debug tracing back correctly.\n",
              "    Call Location:\n",
              "      File \"/usr/lib/python3.7/doctest.py\", line 1487, in run\n",
              "        sys.settrace(save_trace)\n",
              "\n",
              "</pre><p><strong><pre style='display: inline;'>q1 - 2</pre> result:</strong></p><pre>    Trying:\n",
              "        all([isinstance(elt, str) for elt in answer1])\n",
              "    Expecting:\n",
              "        True\n",
              "    **********************************************************************\n",
              "    Line 1, in q1 1\n",
              "    Failed example:\n",
              "        all([isinstance(elt, str) for elt in answer1])\n",
              "    Exception raised:\n",
              "        Traceback (most recent call last):\n",
              "          File \"/usr/lib/python3.7/doctest.py\", line 1337, in __run\n",
              "            compileflags, 1), test.globs)\n",
              "          File \"<doctest q1 1[0]>\", line 1, in <module>\n",
              "            all([isinstance(elt, str) for elt in answer1])\n",
              "        TypeError: 'int' object is not iterable\n",
              "</pre><p><strong><pre style='display: inline;'>q1 - 3</pre> result:</strong></p><pre>    Trying:\n",
              "        len(answer1) == 3\n",
              "    Expecting:\n",
              "        True\n",
              "    **********************************************************************\n",
              "    Line 1, in q1 2\n",
              "    Failed example:\n",
              "        len(answer1) == 3\n",
              "    Exception raised:\n",
              "        Traceback (most recent call last):\n",
              "          File \"/usr/lib/python3.7/doctest.py\", line 1337, in __run\n",
              "            compileflags, 1), test.globs)\n",
              "          File \"<doctest q1 2[0]>\", line 1, in <module>\n",
              "            len(answer1) == 3\n",
              "        TypeError: object of type 'int' has no len()\n",
              "</pre><p><strong><pre style='display: inline;'>q1 - 4</pre> result:</strong></p><pre>    Trying:\n",
              "        all([elt in calls['OFFENSE'].values for elt in answer1])\n",
              "    Expecting:\n",
              "        True\n",
              "    **********************************************************************\n",
              "    Line 1, in q1 3\n",
              "    Failed example:\n",
              "        all([elt in calls['OFFENSE'].values for elt in answer1])\n",
              "    Exception raised:\n",
              "        Traceback (most recent call last):\n",
              "          File \"/usr/lib/python3.7/doctest.py\", line 1337, in __run\n",
              "            compileflags, 1), test.globs)\n",
              "          File \"<doctest q1 3[0]>\", line 1, in <module>\n",
              "            all([elt in calls['OFFENSE'].values for elt in answer1])\n",
              "        TypeError: 'int' object is not iterable\n",
              "</pre><p><strong><pre style='display: inline;'>q1 - 5</pre> result:</strong></p><pre>    Trying:\n",
              "        set([a.strip().upper() for a in answer1]) == set(['THEFT FELONY (OVER $950)', 'THEFT FROM PERSON', 'THEFT MISD. (UNDER $950)'])\n",
              "    Expecting:\n",
              "        True\n",
              "    **********************************************************************\n",
              "    Line 1, in q1 4\n",
              "    Failed example:\n",
              "        set([a.strip().upper() for a in answer1]) == set(['THEFT FELONY (OVER $950)', 'THEFT FROM PERSON', 'THEFT MISD. (UNDER $950)'])\n",
              "    Exception raised:\n",
              "        Traceback (most recent call last):\n",
              "          File \"/usr/lib/python3.7/doctest.py\", line 1337, in __run\n",
              "            compileflags, 1), test.globs)\n",
              "          File \"<doctest q1 4[0]>\", line 1, in <module>\n",
              "            set([a.strip().upper() for a in answer1]) == set(['THEFT FELONY (OVER $950)', 'THEFT FROM PERSON', 'THEFT MISD. (UNDER $950)'])\n",
              "        TypeError: 'int' object is not iterable\n",
              "</pre>"
            ]
          },
          "metadata": {},
          "execution_count": 25
        }
      ],
      "source": [
        "grader.check(\"q1\")"
      ]
    },
    {
      "cell_type": "markdown",
      "metadata": {
        "nbgrader": {
          "grade": false,
          "grade_id": "setup",
          "locked": true,
          "schema_version": 2,
          "solution": false
        },
        "id": "LBzNtIKKWI1-"
      },
      "source": [
        "--- \n",
        "\n",
        "## Part 2: Visualization\n"
      ]
    },
    {
      "cell_type": "markdown",
      "metadata": {
        "nbgrader": {
          "grade": false,
          "grade_id": "part2",
          "locked": true,
          "schema_version": 2,
          "solution": false
        },
        "id": "KngaOmibWI1-"
      },
      "source": [
        "## Pandas Examples\n",
        "\n",
        "Pandas offers basic functionality for plotting. For example, the `DataFrame` and `Series` classes both have a `plot` method. \n",
        "\n",
        "As you learn to do data visualization, you may find the [pandas plotting documentation](https://pandas.pydata.org/pandas-docs/stable/reference/api/pandas.DataFrame.plot.html)  helpful!"
      ]
    },
    {
      "cell_type": "markdown",
      "metadata": {
        "nbgrader": {
          "grade": false,
          "grade_id": "plot-demo",
          "locked": true,
          "schema_version": 2,
          "solution": false
        },
        "id": "Mdypmtn_WI1-"
      },
      "source": [
        "As an example of the built-in plotting functionality of pandas, the following example uses `plot` method of the `Series` class to generate a `barh` plot type to visually display the value counts for `CVLEGEND`.\n",
        "\n",
        "There are also many other plots that we will explore throughout the lab."
      ]
    },
    {
      "cell_type": "code",
      "execution_count": null,
      "metadata": {
        "jupyter": {
          "outputs_hidden": false
        },
        "nbgrader": {
          "grade": false,
          "grade_id": "plot-demo1",
          "locked": true,
          "schema_version": 2,
          "solution": false
        },
        "id": "USta0SgcWI1-",
        "outputId": "4eccaedb-61b7-4252-8d5b-166d917f0e9f",
        "colab": {
          "base_uri": "https://localhost:8080/",
          "height": 567
        }
      },
      "outputs": [
        {
          "output_type": "display_data",
          "data": {
            "text/plain": [
              "<Figure size 864x648 with 1 Axes>"
            ],
            "image/png": "[encoded data removed]"
          },
          "metadata": {
            "needs_background": "light"
          }
        }
      ],
      "source": [
        "ax = calls['CVLEGEND'].value_counts().plot(kind='barh')\n",
        "ax.set_ylabel(\"Crime Category\")\n",
        "ax.set_xlabel(\"Number of Calls\")\n",
        "ax.set_title(\"Number of Calls By Crime Type\");\n",
        "ax2 = plt.gca()"
      ]
    },
    {
      "cell_type": "markdown",
      "metadata": {
        "nbgrader": {
          "grade": false,
          "grade_id": "plot-demo6",
          "locked": true,
          "schema_version": 2,
          "solution": false
        },
        "id": "O64KUYqtWI1_"
      },
      "source": [
        "\n",
        "\n",
        "## An Additional Note on Plotting in Jupyter Notebooks\n",
        "\n",
        "You may have noticed that many of our code cells involving plotting end with a semicolon (;). This prevents any extra output from the last line of the cell that we may not want to see. Try adding this to your own code in the following questions!"
      ]
    },
    {
      "cell_type": "markdown",
      "metadata": {
        "deletable": false,
        "editable": false,
        "nbgrader": {
          "grade": false,
          "grade_id": "q3",
          "locked": true,
          "schema_version": 2,
          "solution": false
        },
        "id": "C39khRTGWI1_"
      },
      "source": [
        "### Question 2\n",
        "\n",
        "Now it is your turn to make some plots using `pandas`.  Let's start by transforming the data so that it is easier to work with. We then will look at some distributions of the data. \n",
        "\n",
        "The CVDOW field isn't named helpfully and it is hard to see the meaning from the data alone. According to the website linked at the top of this notebook, CVDOW is actually indicating the day that events happened. 0->Sunday, 1->Monday ... 6->Saturday. \n",
        "\n",
        "#### Question 2a\n",
        "\n",
        "Add a new column `Day` into the `calls` DataFrame that has the string weekday (eg. 'Sunday') for the corresponding value in CVDOW. For example, if the first 3 values of `CVDOW` are `[3, 6, 0]`, then the first 3 values of the `Day` column should be `[\"Wednesday\", \"Saturday\", \"Sunday\"]`.\n",
        "\n",
        "**Hint:** *Try using the [Series.map](https://pandas.pydata.org/pandas-docs/stable/reference/api/pandas.Series.map.html) function on `calls[\"CVDOW\"]`.  Can you assign this to the new column `calls[\"Day\"]`?*\n",
        "\n",
        "<!--\n",
        "BEGIN QUESTION\n",
        "name: q2a\n",
        "-->"
      ]
    },
    {
      "cell_type": "code",
      "execution_count": 38,
      "metadata": {
        "collapsed": true,
        "jupyter": {
          "outputs_hidden": true
        },
        "nbgrader": {
          "grade": false,
          "grade_id": "q3a-answer",
          "locked": false,
          "schema_version": 2,
          "solution": true
        },
        "id": "b1baxSBMWI2A",
        "outputId": "181a563f-67b0-45de-f276-ecad2f182318",
        "colab": {
          "base_uri": "https://localhost:8080/",
          "height": 585
        }
      },
      "outputs": [
        {
          "output_type": "display_data",
          "data": {
            "text/plain": [
              "<Figure size 864x648 with 1 Axes>"
            ],
            "image/png": "[encoded data removed]"
          },
          "metadata": {
            "needs_background": "light"
          }
        }
      ],
      "source": [
        "days = [\"Sunday\", \"Monday\", \"Tuesday\", \"Wednesday\", \"Thursday\", \"Friday\", \"Saturday\"]\n",
        "day_indices = range(7)\n",
        "indices_to_days_dict = dict(zip(day_indices, days)) # Should look like {0:\"Sunday\", 1:\"Monday\", ..., 6:\"Saturday\"}\n",
        "calls[\"Day\"] = calls[\"CVDOW\"].map(indices_to_days_dict)\n",
        "calls[[\"CVDOW\",\"Day\"]]\n",
        "#calls[\"Day\"].value_counts()\n",
        "ax = calls['Day'].value_counts().reindex(days).plot(kind='bar')"
      ]
    },
    {
      "cell_type": "code",
      "execution_count": 31,
      "metadata": {
        "deletable": false,
        "editable": false,
        "id": "N3d_QsemWI2A",
        "outputId": "797659ad-4451-4d43-c5a2-1cd1202f58a3",
        "colab": {
          "base_uri": "https://localhost:8080/",
          "height": 46
        }
      },
      "outputs": [
        {
          "output_type": "execute_result",
          "data": {
            "text/plain": [
              "q2a results: All test cases passed!"
            ],
            "text/html": [
              "<p><strong><pre style='display: inline;'>q2a</pre></strong> passed!</p>"
            ]
          },
          "metadata": {},
          "execution_count": 31
        }
      ],
      "source": [
        "grader.check(\"q2a\")"
      ]
    },
    {
      "cell_type": "markdown",
      "metadata": {
        "deletable": false,
        "editable": false,
        "id": "5dmn7ShuWI2A"
      },
      "source": [
        "#### Question 2b\n",
        "\n",
        "Now let's look at the EVENTTM column which indicates the time for events. Since it contains hour and minute information, let's extract the hour info and create a new column named `Hour` in the `calls` DataFrame. You should save the hour as an `int`.\n",
        "\n",
        "\n",
        "**Hint:** *Your code should only require one line*\n",
        "\n",
        "<!--\n",
        "BEGIN QUESTION\n",
        "name: q2b\n",
        "-->"
      ]
    },
    {
      "cell_type": "code",
      "execution_count": 50,
      "metadata": {
        "collapsed": true,
        "jupyter": {
          "outputs_hidden": true
        },
        "id": "4Tq_QFR8WI2B",
        "outputId": "a7ba9572-9534-4d70-c8f3-7008061f05c8",
        "colab": {
          "base_uri": "https://localhost:8080/",
          "height": 540
        }
      },
      "outputs": [
        {
          "output_type": "display_data",
          "data": {
            "text/plain": [
              "<Figure size 864x648 with 1 Axes>"
            ],
            "image/png": "[encoded data removed]"
          },
          "metadata": {
            "needs_background": "light"
          }
        }
      ],
      "source": [
        "calls[\"Hour\"] = calls[\"EVENTTM\"].str[:2].astype(int)\n",
        "calls[\"Hour\"] \n",
        "ax = calls['Hour'].value_counts().reindex(range(24)).plot(kind='bar')"
      ]
    },
    {
      "cell_type": "code",
      "execution_count": 51,
      "metadata": {
        "deletable": false,
        "editable": false,
        "id": "8aD0H4IbWI2C",
        "outputId": "a6cdcb5a-c354-495c-da4c-c2ffd61aba21",
        "colab": {
          "base_uri": "https://localhost:8080/",
          "height": 46
        }
      },
      "outputs": [
        {
          "output_type": "execute_result",
          "data": {
            "text/plain": [
              "q2b results: All test cases passed!"
            ],
            "text/html": [
              "<p><strong><pre style='display: inline;'>q2b</pre></strong> passed!</p>"
            ]
          },
          "metadata": {},
          "execution_count": 51
        }
      ],
      "source": [
        "grader.check(\"q2b\")"
      ]
    },
    {
      "cell_type": "markdown",
      "metadata": {
        "deletable": false,
        "editable": false,
        "id": "KyZ_VJQRWI2D"
      },
      "source": [
        "#### Question 2c\n",
        "\n",
        "\n",
        "Using `pandas`, construct a line plot with the count of the number of calls (entries in the table) for each hour of the day  **ordered by the time** (eg. `12:00 AM`, `1:00 AM`, ...). Please use the provided variable `hours` in your answer. Be sure that your axes are labeled and that your plot is titled. \n",
        "\n",
        "<!--\n",
        "BEGIN QUESTION\n",
        "name: q2c\n",
        "\n",
        "-->"
      ]
    },
    {
      "cell_type": "code",
      "execution_count": null,
      "metadata": {
        "jupyter": {
          "outputs_hidden": false
        },
        "id": "MMOyjbNPWI2E"
      },
      "outputs": [],
      "source": [
        "hours = list(range(24))\n",
        "...\n",
        "\n",
        "\n",
        "\n",
        "# Leave this for grading purposes\n",
        "ax_3d = plt.gca()"
      ]
    },
    {
      "cell_type": "code",
      "execution_count": null,
      "metadata": {
        "deletable": false,
        "editable": false,
        "id": "abr1Ae6DWI2E"
      },
      "outputs": [],
      "source": [
        "grader.check(\"q2c\")"
      ]
    },
    {
      "cell_type": "markdown",
      "metadata": {
        "id": "5VCALH33WI2E"
      },
      "source": [
        "##### Why do you think this happens? Are there more calls in the day or night? What are the most and least popular times? (Answer Below)"
      ]
    },
    {
      "cell_type": "markdown",
      "metadata": {
        "id": "6iExqDMsWI2F"
      },
      "source": [
        ""
      ]
    },
    {
      "cell_type": "markdown",
      "metadata": {
        "deletable": false,
        "editable": false,
        "nbgrader": {
          "grade": false,
          "grade_id": "q4",
          "locked": true,
          "schema_version": 2,
          "solution": false
        },
        "id": "gts1-_0OWI2F"
      },
      "source": [
        "### Question 3\n",
        "\n",
        "We can break down into some particular types of events to see their distribution. For example, let's make a bar plot for the CVLEGEND \"ROBBERY\". \n",
        "\n",
        "#### Question 3a\n",
        "\n",
        "Use `pandas` to create a vertical bar plot of the number of total robberies reported on each day of the week, again ordered by the days of the week starting with Sunday. Please use the provided variable `filtered` in your answer. Be sure that your axes are labeled and that your plot is titled.\n",
        "\n",
        "**Hint:** *This should be very similar to Question 2c*\n",
        "\n",
        "<!--\n",
        "BEGIN QUESTION\n",
        "name: q3a\n",
        "-->"
      ]
    },
    {
      "cell_type": "code",
      "execution_count": 54,
      "metadata": {
        "jupyter": {
          "outputs_hidden": false
        },
        "nbgrader": {
          "grade": false,
          "grade_id": "q4a-answer",
          "locked": false,
          "schema_version": 2,
          "solution": true
        },
        "id": "UbM5MyEyWI2F",
        "outputId": "895c31ab-f9fe-4528-a2ce-53640c89ef42",
        "colab": {
          "base_uri": "https://localhost:8080/",
          "height": 540
        }
      },
      "outputs": [
        {
          "output_type": "display_data",
          "data": {
            "text/plain": [
              "<Figure size 864x648 with 1 Axes>"
            ],
            "image/png": "[encoded data removed]"
          },
          "metadata": {
            "needs_background": "light"
          }
        }
      ],
      "source": [
        "filtered = calls[calls[\"CVLEGEND\"] == \"ROBBERY\"]\n",
        "ax = filtered[\"Hour\"].value_counts().reindex(range(24)).plot(kind='bar')\n",
        "\n",
        "\n",
        "\n",
        "# Leave this for grading purposes\n",
        "ax_4a = plt.gca()"
      ]
    },
    {
      "cell_type": "code",
      "execution_count": 55,
      "metadata": {
        "deletable": false,
        "editable": false,
        "id": "OC51xdEiWI2F",
        "outputId": "ff2b60c3-5b4b-46cb-ae38-9843cfa4dad0",
        "colab": {
          "base_uri": "https://localhost:8080/",
          "height": 858
        }
      },
      "outputs": [
        {
          "output_type": "execute_result",
          "data": {
            "text/plain": [
              "q3a results:\n",
              "    q3a - 1 result:\n",
              "        Trying:\n",
              "            import matplotlib \n",
              "        Expecting nothing\n",
              "        ok\n",
              "        Trying:\n",
              "            np.alltrue(np.array([l.get_text() for l in ax_4a.xaxis.get_ticklabels()]) == days)\n",
              "        Expecting:\n",
              "            True\n",
              "        **********************************************************************\n",
              "        Line 2, in q3a 0\n",
              "        Failed example:\n",
              "            np.alltrue(np.array([l.get_text() for l in ax_4a.xaxis.get_ticklabels()]) == days)\n",
              "        Exception raised:\n",
              "            Traceback (most recent call last):\n",
              "              File \"/usr/lib/python3.7/doctest.py\", line 1337, in __run\n",
              "                compileflags, 1), test.globs)\n",
              "              File \"<doctest q3a 0[1]>\", line 1, in <module>\n",
              "                np.alltrue(np.array([l.get_text() for l in ax_4a.xaxis.get_ticklabels()]) == days)\n",
              "            ValueError: shape mismatch: objects cannot be broadcast to a single shape\n",
              "\n",
              "    q3a - 2 result:\n",
              "        Trying:\n",
              "            import matplotlib \n",
              "        Expecting nothing\n",
              "        ok\n",
              "        Trying:\n",
              "            bars = [rect.get_height() for rect in ax_4a.get_children() \n",
              "                    if isinstance(rect, matplotlib.patches.Rectangle) and rect.get_x() != 0.0\n",
              "                   ]\n",
              "        Expecting nothing\n",
              "        ok\n",
              "        Trying:\n",
              "            np.allclose(np.array(bars)[-7:], filtered['Day'].value_counts()[days].values)\n",
              "        Expecting:\n",
              "            True\n",
              "        **********************************************************************\n",
              "        Line 6, in q3a 1\n",
              "        Failed example:\n",
              "            np.allclose(np.array(bars)[-7:], filtered['Day'].value_counts()[days].values)\n",
              "        Expected:\n",
              "            True\n",
              "        Got:\n",
              "            False\n",
              "\n",
              "    q3a - 3 result:\n",
              "        Test case passed!"
            ],
            "text/html": [
              "<p><strong style='color: red;'><pre style='display: inline;'>q3a</pre> results:</strong></p><p><strong><pre style='display: inline;'>q3a - 1</pre> result:</strong></p><pre>    Trying:\n",
              "        import matplotlib \n",
              "    Expecting nothing\n",
              "    ok\n",
              "    Trying:\n",
              "        np.alltrue(np.array([l.get_text() for l in ax_4a.xaxis.get_ticklabels()]) == days)\n",
              "    Expecting:\n",
              "        True\n",
              "    **********************************************************************\n",
              "    Line 2, in q3a 0\n",
              "    Failed example:\n",
              "        np.alltrue(np.array([l.get_text() for l in ax_4a.xaxis.get_ticklabels()]) == days)\n",
              "    Exception raised:\n",
              "        Traceback (most recent call last):\n",
              "          File \"/usr/lib/python3.7/doctest.py\", line 1337, in __run\n",
              "            compileflags, 1), test.globs)\n",
              "          File \"<doctest q3a 0[1]>\", line 1, in <module>\n",
              "            np.alltrue(np.array([l.get_text() for l in ax_4a.xaxis.get_ticklabels()]) == days)\n",
              "        ValueError: shape mismatch: objects cannot be broadcast to a single shape\n",
              "</pre><p><strong><pre style='display: inline;'>q3a - 2</pre> result:</strong></p><pre>    Trying:\n",
              "        import matplotlib \n",
              "    Expecting nothing\n",
              "    ok\n",
              "    Trying:\n",
              "        bars = [rect.get_height() for rect in ax_4a.get_children() \n",
              "                if isinstance(rect, matplotlib.patches.Rectangle) and rect.get_x() != 0.0\n",
              "               ]\n",
              "    Expecting nothing\n",
              "    ok\n",
              "    Trying:\n",
              "        np.allclose(np.array(bars)[-7:], filtered['Day'].value_counts()[days].values)\n",
              "    Expecting:\n",
              "        True\n",
              "    **********************************************************************\n",
              "    Line 6, in q3a 1\n",
              "    Failed example:\n",
              "        np.allclose(np.array(bars)[-7:], filtered['Day'].value_counts()[days].values)\n",
              "    Expected:\n",
              "        True\n",
              "    Got:\n",
              "        False\n",
              "</pre><p><strong><pre style='display: inline;'>q3a - 3</pre> result:</strong></p><pre>    Test case passed!</pre>"
            ]
          },
          "metadata": {},
          "execution_count": 55
        }
      ],
      "source": [
        "grader.check(\"q3a\")"
      ]
    },
    {
      "cell_type": "markdown",
      "metadata": {
        "nbgrader": {
          "grade": false,
          "grade_id": "q4b",
          "locked": true,
          "schema_version": 2,
          "solution": false
        },
        "id": "okXf5kM_WI2J"
      },
      "source": [
        "#### Question 3b\n",
        "\n",
        "Do you observe anything interesting about the distribution of ROBBERY calls over a week? Which day is the peak for \"ROBBERY\"? Type a 1-2 sentence answer below."
      ]
    },
    {
      "cell_type": "markdown",
      "metadata": {
        "nbgrader": {
          "grade": true,
          "grade_id": "q4b-answer",
          "locked": false,
          "points": 1,
          "schema_version": 2,
          "solution": true
        },
        "id": "H5h1xfZDWI2K"
      },
      "source": [
        ""
      ]
    },
    {
      "cell_type": "markdown",
      "metadata": {
        "deletable": false,
        "editable": false,
        "nbgrader": {
          "grade": false,
          "grade_id": "q7",
          "locked": true,
          "schema_version": 2,
          "solution": false
        },
        "id": "2BngfI8FWI2K"
      },
      "source": [
        "### Question 4\n",
        "\n",
        "In the cell below, generate a boxplot which examines the hour of day of each crime broken down by the `CVLEGEND` value.  To construct this plot use the [DataFrame.boxplot](https://pandas.pydata.org/pandas-docs/stable/reference/api/pandas.DataFrame.boxplot.html) documentation. You may want to rotate the `CVLEGEND` labels for better readability.\n",
        "\n",
        "##### Looking at your plot, which crime type appears to have the largest interquartile range? Put your results into `answer4` as a string.\n",
        "\n",
        "\n",
        "<!--\n",
        "BEGIN QUESTION\n",
        "name: q4\n",
        "-->"
      ]
    },
    {
      "cell_type": "code",
      "execution_count": 58,
      "metadata": {
        "jupyter": {
          "outputs_hidden": false
        },
        "nbgrader": {
          "grade": false,
          "grade_id": "q7-pandas-boxplot",
          "locked": true,
          "schema_version": 2,
          "solution": false
        },
        "tags": [
          "student"
        ],
        "id": "Ftm9OheAWI2K",
        "outputId": "768a278e-b6a6-4e9f-f1f3-4dff6bd212ac",
        "colab": {
          "base_uri": "https://localhost:8080/",
          "height": 775
        }
      },
      "outputs": [
        {
          "output_type": "stream",
          "name": "stderr",
          "text": [
            "/usr/local/lib/python3.7/dist-packages/matplotlib/cbook/__init__.py:1376: VisibleDeprecationWarning: Creating an ndarray from ragged nested sequences (which is a list-or-tuple of lists-or-tuples-or ndarrays with different lengths or shapes) is deprecated. If you meant to do this, you must specify 'dtype=object' when creating the ndarray.\n",
            "  X = np.atleast_1d(X.T if isinstance(X, np.ndarray) else np.asarray(X))\n"
          ]
        },
        {
          "output_type": "display_data",
          "data": {
            "text/plain": [
              "<Figure size 864x648 with 1 Axes>"
            ],
            "image/png": "[encoded data removed]"
          },
          "metadata": {
            "needs_background": "light"
          }
        }
      ],
      "source": [
        "answer4 = ...\n",
        "ax = calls.boxplot(column=\"Hour\", by=\"CVLEGEND\", rot=90)"
      ]
    },
    {
      "cell_type": "code",
      "execution_count": null,
      "metadata": {
        "deletable": false,
        "editable": false,
        "id": "HDOHMSJ8WI2K"
      },
      "outputs": [],
      "source": [
        "grader.check(\"q4\")"
      ]
    },
    {
      "cell_type": "markdown",
      "metadata": {
        "id": "YYbZunoqWI2K"
      },
      "source": [
        "**Important**: To make sure the test cases run correctly, click `Kernel>Restart & Run All` and make sure all of the test cases are still passing. Doing so will submit your code for you. \n",
        "\n",
        "If your test cases are no longer passing after restarting, it's likely because you're missing a variable, or the modifications that you'd previously made to your DataFrame are no longer taking place (perhaps because you deleted a cell). \n",
        "\n",
        "You may submit this assignment as many times as you'd like before the deadline.\n",
        "\n",
        "**You must restart and run all cells before submitting. Otherwise, you may pass test cases locally, but not on our servers. We will not entertain regrade requests of the form, “my code passed all of my local test cases, but failed the autograder”.**"
      ]
    },
    {
      "cell_type": "markdown",
      "metadata": {
        "nbgrader": {
          "grade": false,
          "grade_id": "finish",
          "locked": true,
          "schema_version": 2,
          "solution": false
        },
        "id": "9T4zl2gCWI2L"
      },
      "source": [
        "## Congratulations\n",
        "\n",
        "Congrats! You are finished with this assignment."
      ]
    },
    {
      "cell_type": "markdown",
      "metadata": {
        "deletable": false,
        "editable": false,
        "id": "OmE6dghxWI2L"
      },
      "source": [
        "---\n",
        "\n",
        "To double-check your work, the cell below will rerun all of the autograder tests."
      ]
    },
    {
      "cell_type": "code",
      "execution_count": null,
      "metadata": {
        "deletable": false,
        "editable": false,
        "id": "ynUvO3-LWI2L"
      },
      "outputs": [],
      "source": [
        "grader.check_all()"
      ]
    },
    {
      "cell_type": "markdown",
      "metadata": {
        "deletable": false,
        "editable": false,
        "id": "vhrWJhiyWI2L"
      },
      "source": [
        "## Submission\n",
        "\n",
        "Make sure you have run all cells in your notebook in order before running the cell below, so that all images/graphs appear in the output. The cell below will generate a zip file for you to submit. **Please save before exporting!**"
      ]
    },
    {
      "cell_type": "code",
      "execution_count": null,
      "metadata": {
        "deletable": false,
        "editable": false,
        "id": "5tjvci5eWI2M"
      },
      "outputs": [],
      "source": [
        "# Save your notebook first, then run this cell to export your submission.\n",
        "grader.export(pdf=False)"
      ]
    },
    {
      "cell_type": "markdown",
      "metadata": {
        "id": "rZQF4IIkWI2M"
      },
      "source": [
        " "
      ]
    }
  ],
  "metadata": {
    "celltoolbar": "Create Assignment",
    "kernelspec": {
      "display_name": "Python 3 (ipykernel)",
      "language": "python",
      "name": "python3"
    },
    "language_info": {
      "codemirror_mode": {
        "name": "ipython",
        "version": 3
      },
      "file_extension": ".py",
      "mimetype": "text/x-python",
      "name": "python",
      "nbconvert_exporter": "python",
      "pygments_lexer": "ipython3",
      "version": "3.9.7"
    },
    "colab": {
      "name": "lab03.ipynb",
      "provenance": []
    }
  },
  "nbformat": 4,
  "nbformat_minor": 0
}